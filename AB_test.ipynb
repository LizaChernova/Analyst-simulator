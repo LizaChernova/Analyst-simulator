{
 "cells": [
  {
   "cell_type": "code",
   "execution_count": 1,
   "id": "ca27f283-bacf-4e6f-85c1-d3703cb1ae8a",
   "metadata": {},
   "outputs": [],
   "source": [
    "# Наш продукт - лента новостей. Планируется внедрить новые алгоритмы рекомендации постов. Чтобы выбрать, какой из алгоритмов будет основным, \n",
    "# проведем AB-тест.\n",
    "# Эксперимент проходил  с 2022-01-28 по 2022-02-03 включительно. Для эксперимента были задействованы 0 и 1 группы.  \n",
    "# В 1 группе был использован новый алгоритм рекомендации постов, 0 группа использовалась в качестве контроля. \n",
    "# Основная гипотеза заключается в том, что новый алгоритм в 1 группе приведет к увеличению CTR. \n",
    "# Проанализируем данные АB-теста."
   ]
  },
  {
   "cell_type": "code",
   "execution_count": 2,
   "id": "4f2dd3da-7f9c-46c5-a220-8aa145285671",
   "metadata": {},
   "outputs": [],
   "source": [
    "# Нулевая гипотеза формулируется так: CTR в группе 0 равняется CTR в группе 1. Выберем порог alpha равным 0.05.\n",
    "# Тогда при многократном сравнении пользователей из 1 и 2 мы должны получать статистически значимые различия не чаще, чем в 5 процентов случаев. \n",
    "# Чтобы использовать тесты, применимые к данным с нормальным распределением, используем не  сtr, а smothed_ctr."
   ]
  },
  {
   "cell_type": "code",
   "execution_count": 3,
   "id": "236e68e0-c196-4f4c-819b-128d1363f0d1",
   "metadata": {},
   "outputs": [],
   "source": [
    "import seaborn as sns\n",
    "import pandahouse \n",
    "import pandas as pd\n",
    "import matplotlib.pyplot as plt\n",
    "import numpy as np\n",
    "from statsmodels.stats.power import TTestIndPower\n",
    "import hashlib\n",
    "from scipy import stats\n",
    "%matplotlib inline"
   ]
  },
  {
   "cell_type": "code",
   "execution_count": 4,
   "id": "d0f1ce22-f1ec-4d83-9f3e-32549b4788b9",
   "metadata": {},
   "outputs": [],
   "source": [
    "connection = {\n",
    "    'host': 'https://clickhouse.lab.karpov.courses',\n",
    "    'password': 'dpo_python_2020',\n",
    "    'user': 'student',\n",
    "    'database': 'simulator'\n",
    "}"
   ]
  },
  {
   "cell_type": "code",
   "execution_count": 5,
   "id": "4b7a5e0c-1d33-47f9-ae99-dabfc0ebee8c",
   "metadata": {},
   "outputs": [],
   "source": [
    "q = \"\"\"Select user_id,\n",
    "exp_group,\n",
    "countIf(action='like') likes,\n",
    "countIf(action='view') views,\n",
    "likes/ views ctr\n",
    "From simulator_20220120.feed_actions\n",
    "where toDate(time)>='2022-01-28' and toDate(time) <='2022-02-03' and\n",
    "exp_group in (0, 1)\n",
    "group by user_id, exp_group\n",
    "\"\"\"\n",
    "\n",
    "df = pandahouse.read_clickhouse (q, connection=connection)"
   ]
  },
  {
   "cell_type": "code",
   "execution_count": 6,
   "id": "af4aca84-5a41-4f8a-8737-c77d65c48524",
   "metadata": {},
   "outputs": [
    {
     "data": {
      "text/plain": [
       "0.22195492956578466"
      ]
     },
     "execution_count": 6,
     "metadata": {},
     "output_type": "execute_result"
    }
   ],
   "source": [
    "mean_ctr_0 = df[df.exp_group ==0].ctr.mean()\n",
    "mean_ctr_0"
   ]
  },
  {
   "cell_type": "code",
   "execution_count": 7,
   "id": "b929793f-4a85-40b1-89a1-817b7feda084",
   "metadata": {},
   "outputs": [
    {
     "data": {
      "text/plain": [
       "0.23648646948093363"
      ]
     },
     "execution_count": 7,
     "metadata": {},
     "output_type": "execute_result"
    }
   ],
   "source": [
    "mean_ctr_1 = df[df.exp_group ==1].ctr.mean()\n",
    "mean_ctr_1"
   ]
  },
  {
   "cell_type": "code",
   "execution_count": 8,
   "id": "577cbf80-c3b8-494b-9092-9cab2364e813",
   "metadata": {},
   "outputs": [],
   "source": [
    "def get_smothed_ctr(user_likes, user_views, global_ctr, alpha):\n",
    "    smothed_ctr = (user_likes + alpha*global_ctr) / (user_views + alpha)\n",
    "    return smothed_ctr"
   ]
  },
  {
   "cell_type": "code",
   "execution_count": 9,
   "id": "fbca92b2-af59-44ac-831f-6ef898558c51",
   "metadata": {},
   "outputs": [
    {
     "data": {
      "text/plain": [
       "0.22149774745073217"
      ]
     },
     "execution_count": 9,
     "metadata": {},
     "output_type": "execute_result"
    }
   ],
   "source": [
    "global_ctr = df.likes.sum() / df.views.sum()\n",
    "global_ctr"
   ]
  },
  {
   "cell_type": "code",
   "execution_count": 10,
   "id": "6c331e18-7be5-417b-a384-631580c9229a",
   "metadata": {},
   "outputs": [],
   "source": [
    "df['smothed_ctr'] = df.apply(\n",
    "    lambda x: get_smothed_ctr(x['likes'], x['views'], global_ctr, 5), axis=1)"
   ]
  },
  {
   "cell_type": "code",
   "execution_count": 11,
   "id": "7e4e5ab2-11f2-4a3a-b4c4-fd46ef2795d6",
   "metadata": {},
   "outputs": [
    {
     "data": {
      "text/plain": [
       "0.22095848556207223"
      ]
     },
     "execution_count": 11,
     "metadata": {},
     "output_type": "execute_result"
    }
   ],
   "source": [
    "mean_smothed_ctr_0 = df[df.exp_group ==0].smothed_ctr.mean()\n",
    "mean_smothed_ctr_0"
   ]
  },
  {
   "cell_type": "code",
   "execution_count": 12,
   "id": "6a4fafc3-1772-4197-bc11-5bcaa337ef08",
   "metadata": {},
   "outputs": [
    {
     "data": {
      "text/plain": [
       "0.234139241899461"
      ]
     },
     "execution_count": 12,
     "metadata": {},
     "output_type": "execute_result"
    }
   ],
   "source": [
    "mean_smothed_ctr_1 = df[df.exp_group ==1].smothed_ctr.mean()\n",
    "mean_smothed_ctr_1"
   ]
  },
  {
   "cell_type": "code",
   "execution_count": 13,
   "id": "277829cb-6ed9-4a98-a2a2-9ab4e4abd694",
   "metadata": {},
   "outputs": [
    {
     "data": {
      "text/plain": [
       "Ttest_indResult(statistic=-14.27852163637721, pvalue=4.45125763752244e-46)"
      ]
     },
     "execution_count": 13,
     "metadata": {},
     "output_type": "execute_result"
    }
   ],
   "source": [
    "stats.ttest_ind(df[df.exp_group == 0].smothed_ctr, df[df.exp_group == 1].smothed_ctr,\n",
    "                equal_var=False)"
   ]
  },
  {
   "cell_type": "code",
   "execution_count": 14,
   "id": "06a7ae05-56f0-4978-98f4-52f2b0fe67c7",
   "metadata": {},
   "outputs": [
    {
     "data": {
      "text/plain": [
       "MannwhitneyuResult(statistic=75190942.5, pvalue=2.455373619697816e-53)"
      ]
     },
     "execution_count": 14,
     "metadata": {},
     "output_type": "execute_result"
    }
   ],
   "source": [
    "stats.mannwhitneyu(df[df.exp_group == 0].smothed_ctr, df[df.exp_group ==1].smothed_ctr)"
   ]
  },
  {
   "cell_type": "code",
   "execution_count": 15,
   "id": "041419e6-222f-4b98-860b-d9994f02b50b",
   "metadata": {},
   "outputs": [],
   "source": [
    "# Полученные значения p-value меньше выбранного уровня значимости 0.05, поэтому мы отвергаем нулевую гипотезу о равенстве CTR. \n",
    "#  Другими словами, различие между отношением лайков к просмотрам в группах со старым алгоритмом рекомендации постов и новым алгоритмом статистически значимо\n",
    "# и является не случайным. \n",
    "#  Таким образом, алгоритм работает и приводит к увеличению значения метрики."
   ]
  },
  {
   "cell_type": "code",
   "execution_count": 16,
   "id": "2915650a-84a4-4a37-a6a2-9308fc730dee",
   "metadata": {},
   "outputs": [],
   "source": [
    "def get_global_ctr(ctr_data, n_samples=5000):\n",
    "    global_ctr_data = []\n",
    "    for i in range(n_samples):\n",
    "        resample_data = ctr_data.sample(frac=0.5, replace=True)\n",
    "        global_ctr = resample_data.likes.sum()/ resample_data.views.sum()\n",
    "        global_ctr_data.append(global_ctr)\n",
    "        \n",
    "    sns.displot(global_ctr_data)\n",
    "    \n",
    "    return[\n",
    "        pd.Series(global_ctr_data).quantile(0.05),\n",
    "        pd.Series(global_ctr_data).mean(),\n",
    "        pd.Series(global_ctr_data).quantile(0.95)\n",
    "    ]"
   ]
  },
  {
   "cell_type": "code",
   "execution_count": 17,
   "id": "e5cf24fd-a71a-4c3b-a89d-debb524b89d0",
   "metadata": {},
   "outputs": [
    {
     "data": {
      "text/plain": [
       "[0.2115700003068411, 0.21311085613354458, 0.21467511779929974]"
      ]
     },
     "execution_count": 17,
     "metadata": {},
     "output_type": "execute_result"
    },
    {
     "data": {
      "image/png": "[encoded data removed]",
      "text/plain": [
       "<Figure size 360x360 with 1 Axes>"
      ]
     },
     "metadata": {
      "needs_background": "light"
     },
     "output_type": "display_data"
    }
   ],
   "source": [
    "get_global_ctr(df[df.exp_group ==0])"
   ]
  },
  {
   "cell_type": "code",
   "execution_count": 18,
   "id": "ba7e81e8-343e-4f00-8fb3-20a4ec1ca325",
   "metadata": {},
   "outputs": [
    {
     "data": {
      "text/plain": [
       "[0.22833633629575367, 0.229905013535025, 0.23146901802143144]"
      ]
     },
     "execution_count": 18,
     "metadata": {},
     "output_type": "execute_result"
    },
    {
     "data": {
      "image/png": "[encoded data removed]",
      "text/plain": [
       "<Figure size 360x360 with 1 Axes>"
      ]
     },
     "metadata": {
      "needs_background": "light"
     },
     "output_type": "display_data"
    }
   ],
   "source": [
    "get_global_ctr(df[df.exp_group ==1])"
   ]
  },
  {
   "cell_type": "code",
   "execution_count": 19,
   "id": "1b1f5634-3cec-4a3d-90a4-549b72c004c7",
   "metadata": {},
   "outputs": [],
   "source": [
    "#  Доверительные интервалы для Global CTR в группе 0 не пересекается с доверительным интервалом для Global CTR в группе 1,\n",
    "# и средний Global CTR в контрольной группе больше, чем в тестовой группе, \n",
    "# что подтвержается вывод о том, что система рекомендаций работает. "
   ]
  },
  {
   "cell_type": "code",
   "execution_count": 20,
   "id": "4b3920ad-5590-41c1-8332-ea11ff6f9fd4",
   "metadata": {},
   "outputs": [],
   "source": [
    "# Проведем контрольную проверку, что новый алгоритм не привел к тому, что сократилось число просмотров у пользователей."
   ]
  },
  {
   "cell_type": "code",
   "execution_count": 21,
   "id": "0b828391-460a-4f13-a718-42dd8b34d669",
   "metadata": {},
   "outputs": [
    {
     "data": {
      "text/plain": [
       "61.297914903439256"
      ]
     },
     "execution_count": 21,
     "metadata": {},
     "output_type": "execute_result"
    }
   ],
   "source": [
    "mean_views_0 = df[df.exp_group ==0].views.mean()\n",
    "mean_views_0"
   ]
  },
  {
   "cell_type": "code",
   "execution_count": 22,
   "id": "1f680448-4c34-4cc9-b2f2-6b8868503dcb",
   "metadata": {},
   "outputs": [
    {
     "data": {
      "text/plain": [
       "61.2005076142132"
      ]
     },
     "execution_count": 22,
     "metadata": {},
     "output_type": "execute_result"
    }
   ],
   "source": [
    "mean_views_1 = df[df.exp_group ==1].views.mean()\n",
    "mean_views_1"
   ]
  },
  {
   "cell_type": "code",
   "execution_count": 23,
   "id": "ec3061ae-3e57-4e42-bdbb-c478a1d7e713",
   "metadata": {},
   "outputs": [
    {
     "data": {
      "text/plain": [
       "Ttest_indResult(statistic=0.18557426218615805, pvalue=0.8527800866422888)"
      ]
     },
     "execution_count": 23,
     "metadata": {},
     "output_type": "execute_result"
    }
   ],
   "source": [
    "stats.ttest_ind(df[df.exp_group == 0].views, df[df.exp_group == 1].views,\n",
    "                equal_var=False)"
   ]
  },
  {
   "cell_type": "code",
   "execution_count": 24,
   "id": "1d53c729-ba2c-4486-b255-1c9100e2e0ca",
   "metadata": {},
   "outputs": [
    {
     "data": {
      "text/plain": [
       "MannwhitneyuResult(statistic=84514942.0, pvalue=0.9717276363684261)"
      ]
     },
     "execution_count": 24,
     "metadata": {},
     "output_type": "execute_result"
    }
   ],
   "source": [
    "stats.mannwhitneyu(df[df.exp_group == 0].views, df[df.exp_group ==1].views)"
   ]
  },
  {
   "cell_type": "code",
   "execution_count": 25,
   "id": "2930fa6a-595f-4818-8180-8b6983e362b4",
   "metadata": {},
   "outputs": [],
   "source": [
    "# p-value больше выбранного уровня значимости 0.05, поэтому мы принимаем нулевую гипотезу о равенстве количества просмотров в тестовой и контрольной группах. \n",
    "# То есть, изменения в системе рекомендаций не приводит к сокращению количества просмотров постов."
   ]
  },
  {
   "cell_type": "code",
   "execution_count": 26,
   "id": "71f10c30-e8bb-47e9-8a2b-9203c031df29",
   "metadata": {},
   "outputs": [],
   "source": [
    "# Мы можем раскатывать новый алгоритм на всех новых пользователей, так как доказано увеличение СTR при неизменном количестве просмотров."
   ]
  }
 ],
 "metadata": {
  "kernelspec": {
   "display_name": "Python 3 (ipykernel)",
   "language": "python",
   "name": "python3"
  },
  "language_info": {
   "codemirror_mode": {
    "name": "ipython",
    "version": 3
   },
   "file_extension": ".py",
   "mimetype": "text/x-python",
   "name": "python",
   "nbconvert_exporter": "python",
   "pygments_lexer": "ipython3",
   "version": "3.8.10"
  }
 },
 "nbformat": 4,
 "nbformat_minor": 5
}
