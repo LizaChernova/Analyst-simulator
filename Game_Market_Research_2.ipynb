{
 "cells": [
  {
   "cell_type": "code",
   "execution_count": 1,
   "metadata": {},
   "outputs": [],
   "source": [
    "# Исследование рынка игр\n",
    "# Для планирования кампании на 2017 год для интернет-магазина компьютерных игры «Стримчик»\n",
    "# необходимо провести анализ рынка игр. \n",
    "# Доступны данные за период с 1980 по 2016 годы о продажах игр, оценках пользователей и экспертов, \n",
    "# жанрах и платформах. \n",
    "# Вся информация собрана в таблицу games и содержит следующие столбцы: \n",
    "# Name — название игры \n",
    "# Platform — платформа \n",
    "# Year_of_Release — год выпуска \n",
    "# Genre — жанр игры \n",
    "# NA_sales — продажи в Северной Америке (миллионы долларов) \n",
    "# EU_sales — продажи в Европе (миллионы долларов) \n",
    "# JP_sales — продажи в Японии (миллионы долларов) \n",
    "# Other_sales — продажи в других странах (миллионы долларов) \n",
    "# Critic_Score — оценка критиков (от 0 до 100) \n",
    "# User_Score — оценка пользователей (от 0 до 10) \n",
    "# Rating — рейтинг от организации ESRB (англ. Entertainment Software Rating Board). \n",
    "# Данные за 2016 год могут быть неполными."
   ]
  },
  {
   "cell_type": "code",
   "execution_count": 2,
   "metadata": {
    "id": "bNfsdwHXRyVN"
   },
   "outputs": [],
   "source": [
    "import pandas as pd\n",
    "import matplotlib.pyplot as plt\n",
    "import seaborn as sns\n",
    "import numpy as np\n",
    "from scipy import stats as st"
   ]
  },
  {
   "cell_type": "code",
   "execution_count": 3,
   "metadata": {},
   "outputs": [],
   "source": [
    "# Прочитаем файл games.csv и сохраним его в переменной games. Получим первые 10 строк таблицы \n",
    "# и посмотрим общую информацию, чтобы первично оценить данные."
   ]
  },
  {
   "cell_type": "code",
   "execution_count": 4,
   "metadata": {
    "id": "95CCWQkTVzrA",
    "scrolled": true
   },
   "outputs": [],
   "source": [
    "games = pd.read_csv('/mnt/HC_Volume_18315164/home-jupyter/jupyter-e-chernova-3/lesson_6/games.csv')\n",
    "pd.set_option('display.max_columns', 12)\n"
   ]
  },
  {
   "cell_type": "code",
   "execution_count": 5,
   "metadata": {
    "colab": {
     "base_uri": "https://localhost:8080/"
    },
    "id": "yL3xz5hSV43B",
    "outputId": "b0021100-a1a8-4e52-8408-f196ff97aa4d"
   },
   "outputs": [
    {
     "data": {
      "text/html": [
       "<div>\n",
       "<style scoped>\n",
       "    .dataframe tbody tr th:only-of-type {\n",
       "        vertical-align: middle;\n",
       "    }\n",
       "\n",
       "    .dataframe tbody tr th {\n",
       "        vertical-align: top;\n",
       "    }\n",
       "\n",
       "    .dataframe thead th {\n",
       "        text-align: right;\n",
       "    }\n",
       "</style>\n",
       "<table border=\"1\" class=\"dataframe\">\n",
       "  <thead>\n",
       "    <tr style=\"text-align: right;\">\n",
       "      <th></th>\n",
       "      <th>Name</th>\n",
       "      <th>Platform</th>\n",
       "      <th>Year_of_Release</th>\n",
       "      <th>Genre</th>\n",
       "      <th>NA_sales</th>\n",
       "      <th>EU_sales</th>\n",
       "      <th>JP_sales</th>\n",
       "      <th>Other_sales</th>\n",
       "      <th>Critic_Score</th>\n",
       "      <th>User_Score</th>\n",
       "      <th>Rating</th>\n",
       "    </tr>\n",
       "  </thead>\n",
       "  <tbody>\n",
       "    <tr>\n",
       "      <th>0</th>\n",
       "      <td>Wii Sports</td>\n",
       "      <td>Wii</td>\n",
       "      <td>2006.0</td>\n",
       "      <td>Sports</td>\n",
       "      <td>41.36</td>\n",
       "      <td>28.96</td>\n",
       "      <td>3.77</td>\n",
       "      <td>8.45</td>\n",
       "      <td>76.0</td>\n",
       "      <td>8</td>\n",
       "      <td>E</td>\n",
       "    </tr>\n",
       "    <tr>\n",
       "      <th>1</th>\n",
       "      <td>Super Mario Bros.</td>\n",
       "      <td>NES</td>\n",
       "      <td>1985.0</td>\n",
       "      <td>Platform</td>\n",
       "      <td>29.08</td>\n",
       "      <td>3.58</td>\n",
       "      <td>6.81</td>\n",
       "      <td>0.77</td>\n",
       "      <td>NaN</td>\n",
       "      <td>NaN</td>\n",
       "      <td>NaN</td>\n",
       "    </tr>\n",
       "    <tr>\n",
       "      <th>2</th>\n",
       "      <td>Mario Kart Wii</td>\n",
       "      <td>Wii</td>\n",
       "      <td>2008.0</td>\n",
       "      <td>Racing</td>\n",
       "      <td>15.68</td>\n",
       "      <td>12.76</td>\n",
       "      <td>3.79</td>\n",
       "      <td>3.29</td>\n",
       "      <td>82.0</td>\n",
       "      <td>8.3</td>\n",
       "      <td>E</td>\n",
       "    </tr>\n",
       "    <tr>\n",
       "      <th>3</th>\n",
       "      <td>Wii Sports Resort</td>\n",
       "      <td>Wii</td>\n",
       "      <td>2009.0</td>\n",
       "      <td>Sports</td>\n",
       "      <td>15.61</td>\n",
       "      <td>10.93</td>\n",
       "      <td>3.28</td>\n",
       "      <td>2.95</td>\n",
       "      <td>80.0</td>\n",
       "      <td>8</td>\n",
       "      <td>E</td>\n",
       "    </tr>\n",
       "    <tr>\n",
       "      <th>4</th>\n",
       "      <td>Pokemon Red/Pokemon Blue</td>\n",
       "      <td>GB</td>\n",
       "      <td>1996.0</td>\n",
       "      <td>Role-Playing</td>\n",
       "      <td>11.27</td>\n",
       "      <td>8.89</td>\n",
       "      <td>10.22</td>\n",
       "      <td>1.00</td>\n",
       "      <td>NaN</td>\n",
       "      <td>NaN</td>\n",
       "      <td>NaN</td>\n",
       "    </tr>\n",
       "    <tr>\n",
       "      <th>5</th>\n",
       "      <td>Tetris</td>\n",
       "      <td>GB</td>\n",
       "      <td>1989.0</td>\n",
       "      <td>Puzzle</td>\n",
       "      <td>23.20</td>\n",
       "      <td>2.26</td>\n",
       "      <td>4.22</td>\n",
       "      <td>0.58</td>\n",
       "      <td>NaN</td>\n",
       "      <td>NaN</td>\n",
       "      <td>NaN</td>\n",
       "    </tr>\n",
       "    <tr>\n",
       "      <th>6</th>\n",
       "      <td>New Super Mario Bros.</td>\n",
       "      <td>DS</td>\n",
       "      <td>2006.0</td>\n",
       "      <td>Platform</td>\n",
       "      <td>11.28</td>\n",
       "      <td>9.14</td>\n",
       "      <td>6.50</td>\n",
       "      <td>2.88</td>\n",
       "      <td>89.0</td>\n",
       "      <td>8.5</td>\n",
       "      <td>E</td>\n",
       "    </tr>\n",
       "    <tr>\n",
       "      <th>7</th>\n",
       "      <td>Wii Play</td>\n",
       "      <td>Wii</td>\n",
       "      <td>2006.0</td>\n",
       "      <td>Misc</td>\n",
       "      <td>13.96</td>\n",
       "      <td>9.18</td>\n",
       "      <td>2.93</td>\n",
       "      <td>2.84</td>\n",
       "      <td>58.0</td>\n",
       "      <td>6.6</td>\n",
       "      <td>E</td>\n",
       "    </tr>\n",
       "    <tr>\n",
       "      <th>8</th>\n",
       "      <td>New Super Mario Bros. Wii</td>\n",
       "      <td>Wii</td>\n",
       "      <td>2009.0</td>\n",
       "      <td>Platform</td>\n",
       "      <td>14.44</td>\n",
       "      <td>6.94</td>\n",
       "      <td>4.70</td>\n",
       "      <td>2.24</td>\n",
       "      <td>87.0</td>\n",
       "      <td>8.4</td>\n",
       "      <td>E</td>\n",
       "    </tr>\n",
       "    <tr>\n",
       "      <th>9</th>\n",
       "      <td>Duck Hunt</td>\n",
       "      <td>NES</td>\n",
       "      <td>1984.0</td>\n",
       "      <td>Shooter</td>\n",
       "      <td>26.93</td>\n",
       "      <td>0.63</td>\n",
       "      <td>0.28</td>\n",
       "      <td>0.47</td>\n",
       "      <td>NaN</td>\n",
       "      <td>NaN</td>\n",
       "      <td>NaN</td>\n",
       "    </tr>\n",
       "  </tbody>\n",
       "</table>\n",
       "</div>"
      ],
      "text/plain": [
       "                        Name Platform  Year_of_Release         Genre  \\\n",
       "0                 Wii Sports      Wii           2006.0        Sports   \n",
       "1          Super Mario Bros.      NES           1985.0      Platform   \n",
       "2             Mario Kart Wii      Wii           2008.0        Racing   \n",
       "3          Wii Sports Resort      Wii           2009.0        Sports   \n",
       "4   Pokemon Red/Pokemon Blue       GB           1996.0  Role-Playing   \n",
       "5                     Tetris       GB           1989.0        Puzzle   \n",
       "6      New Super Mario Bros.       DS           2006.0      Platform   \n",
       "7                   Wii Play      Wii           2006.0          Misc   \n",
       "8  New Super Mario Bros. Wii      Wii           2009.0      Platform   \n",
       "9                  Duck Hunt      NES           1984.0       Shooter   \n",
       "\n",
       "   NA_sales  EU_sales  JP_sales  Other_sales  Critic_Score User_Score Rating  \n",
       "0     41.36     28.96      3.77         8.45          76.0          8      E  \n",
       "1     29.08      3.58      6.81         0.77           NaN        NaN    NaN  \n",
       "2     15.68     12.76      3.79         3.29          82.0        8.3      E  \n",
       "3     15.61     10.93      3.28         2.95          80.0          8      E  \n",
       "4     11.27      8.89     10.22         1.00           NaN        NaN    NaN  \n",
       "5     23.20      2.26      4.22         0.58           NaN        NaN    NaN  \n",
       "6     11.28      9.14      6.50         2.88          89.0        8.5      E  \n",
       "7     13.96      9.18      2.93         2.84          58.0        6.6      E  \n",
       "8     14.44      6.94      4.70         2.24          87.0        8.4      E  \n",
       "9     26.93      0.63      0.28         0.47           NaN        NaN    NaN  "
      ]
     },
     "execution_count": 5,
     "metadata": {},
     "output_type": "execute_result"
    }
   ],
   "source": [
    "games.head(10)"
   ]
  },
  {
   "cell_type": "code",
   "execution_count": null,
   "metadata": {
    "colab": {
     "base_uri": "https://localhost:8080/"
    },
    "id": "49Br6FLpWPrH",
    "outputId": "a9417f59-31ab-4fc1-d005-f323e42e2d6c"
   },
   "outputs": [],
   "source": []
  },
  {
   "cell_type": "code",
   "execution_count": 6,
   "metadata": {},
   "outputs": [
    {
     "name": "stdout",
     "output_type": "stream",
     "text": [
      "<class 'pandas.core.frame.DataFrame'>\n",
      "RangeIndex: 16715 entries, 0 to 16714\n",
      "Data columns (total 11 columns):\n",
      " #   Column           Non-Null Count  Dtype  \n",
      "---  ------           --------------  -----  \n",
      " 0   Name             16713 non-null  object \n",
      " 1   Platform         16715 non-null  object \n",
      " 2   Year_of_Release  16446 non-null  float64\n",
      " 3   Genre            16713 non-null  object \n",
      " 4   NA_sales         16715 non-null  float64\n",
      " 5   EU_sales         16715 non-null  float64\n",
      " 6   JP_sales         16715 non-null  float64\n",
      " 7   Other_sales      16715 non-null  float64\n",
      " 8   Critic_Score     8137 non-null   float64\n",
      " 9   User_Score       10014 non-null  object \n",
      " 10  Rating           9949 non-null   object \n",
      "dtypes: float64(6), object(5)\n",
      "memory usage: 1.4+ MB\n"
     ]
    }
   ],
   "source": [
    "games.info()"
   ]
  },
  {
   "cell_type": "code",
   "execution_count": 7,
   "metadata": {},
   "outputs": [],
   "source": [
    "# Рассмотрим полученную информацию подробнее.\n",
    "# Всего в таблице 11 столбцов, в пяти из них тип данных - текстовый или смешанный тип, в шести - числа с плавающей точкой. \n",
    "# Таким образом, для изучения доступны пять категориальных и шесть количественных признаков. Представлена информация\n",
    "# о 16715 играх, количество значений в столбцах различается. Это говорит о том, что в данных есть пропущенные значения. \n",
    "# Можно предположить, что данные в таких столбцах,# как название и жанр, случайно были пропущены при заполнении таблицы, \n",
    "# так как любая игра должна иметь название и любой игре можно предписать \n",
    "# определенный жанр. Достаточно большое количество пропусков есть в столбцах, содержащих информацию об оценках критиков, \n",
    "# пользователей и рейтинге. \n",
    "# Небольшая часть этих данных также могла быть пропущена при заполнении таблицы из-за человеческого фактора, \n",
    "# но большое количество пропусков наводит на мысль, что часть игр просто не обладает этими характеристиками."
   ]
  },
  {
   "cell_type": "code",
   "execution_count": 8,
   "metadata": {},
   "outputs": [],
   "source": [
    "# Подготовим данные. Приведем названия столбцов к нижнему регистру и преобразуем данные в нужные типы."
   ]
  },
  {
   "cell_type": "code",
   "execution_count": 9,
   "metadata": {
    "colab": {
     "base_uri": "https://localhost:8080/"
    },
    "id": "bFLvy13lbJMH",
    "outputId": "79835ab3-940c-4b9f-8fad-c30e529033e7"
   },
   "outputs": [
    {
     "data": {
      "text/plain": [
       "Index(['Name', 'Platform', 'Year_of_Release', 'Genre', 'NA_sales', 'EU_sales',\n",
       "       'JP_sales', 'Other_sales', 'Critic_Score', 'User_Score', 'Rating'],\n",
       "      dtype='object')"
      ]
     },
     "execution_count": 9,
     "metadata": {},
     "output_type": "execute_result"
    }
   ],
   "source": [
    "games.columns"
   ]
  },
  {
   "cell_type": "code",
   "execution_count": 10,
   "metadata": {
    "id": "yez0gPA1L4KU",
    "outputId": "60ac2d59-43fa-4dfe-f8b7-74d328b3f7aa"
   },
   "outputs": [
    {
     "data": {
      "text/plain": [
       "Index(['name', 'platform', 'year_of_release', 'genre', 'na_sales', 'eu_sales',\n",
       "       'jp_sales', 'other_sales', 'critic_score', 'user_score', 'rating'],\n",
       "      dtype='object')"
      ]
     },
     "execution_count": 10,
     "metadata": {},
     "output_type": "execute_result"
    }
   ],
   "source": [
    "games = games.rename(columns = {'Name': 'name', 'Platform': 'platform', 'Year_of_Release': 'year_of_release', 'Genre': 'genre', 'NA_sales': 'na_sales', 'EU_sales':'eu_sales', 'JP_sales': 'jp_sales', 'Other_sales':'other_sales', 'Critic_Score': 'critic_score', 'User_Score': 'user_score', 'Rating':'rating'})\n",
    "games.columns"
   ]
  },
  {
   "cell_type": "code",
   "execution_count": 11,
   "metadata": {
    "colab": {
     "base_uri": "https://localhost:8080/"
    },
    "id": "xNHkg2SJhlyE",
    "outputId": "a9fd28f9-ea97-484c-9bb7-267fc9ef7d6c"
   },
   "outputs": [
    {
     "data": {
      "text/plain": [
       "name                  2\n",
       "platform              0\n",
       "year_of_release     269\n",
       "genre                 2\n",
       "na_sales              0\n",
       "eu_sales              0\n",
       "jp_sales              0\n",
       "other_sales           0\n",
       "critic_score       8578\n",
       "user_score         6701\n",
       "rating             6766\n",
       "dtype: int64"
      ]
     },
     "execution_count": 11,
     "metadata": {},
     "output_type": "execute_result"
    }
   ],
   "source": [
    "games.isna().sum() "
   ]
  },
  {
   "cell_type": "code",
   "execution_count": 12,
   "metadata": {
    "id": "yzqX-grhePpt"
   },
   "outputs": [],
   "source": [
    "games['user_score'] = pd.to_numeric(games['user_score'], errors = 'coerce')"
   ]
  },
  {
   "cell_type": "code",
   "execution_count": 13,
   "metadata": {},
   "outputs": [],
   "source": [
    "# Преобразуем данные об оценке пользователей в числовой тип, чтобы иметь возможность совершать с этими данными \n",
    "# математические действия. \n",
    "# Так как изначально у этого столбца тип object, это значит, в столбце есть нечисловые значения или пропуски. \n",
    "# Присвоим параметру errors значение coerce, чтобы заменить некорректные значения на NaN. \n",
    "# До и после операции количество NaN в столбце не изменилось, значит, некорректных значений не было."
   ]
  },
  {
   "cell_type": "code",
   "execution_count": 14,
   "metadata": {
    "colab": {
     "base_uri": "https://localhost:8080/"
    },
    "id": "AxpbXi8Sj9Oq",
    "outputId": "c4e6c224-8b5b-4356-f726-63d7dfa7c0b3"
   },
   "outputs": [
    {
     "data": {
      "text/plain": [
       "name                  2\n",
       "platform              0\n",
       "year_of_release     269\n",
       "genre                 2\n",
       "na_sales              0\n",
       "eu_sales              0\n",
       "jp_sales              0\n",
       "other_sales           0\n",
       "critic_score       8578\n",
       "user_score         9125\n",
       "rating             6766\n",
       "dtype: int64"
      ]
     },
     "execution_count": 14,
     "metadata": {},
     "output_type": "execute_result"
    }
   ],
   "source": [
    "games.isna().sum() "
   ]
  },
  {
   "cell_type": "code",
   "execution_count": 15,
   "metadata": {
    "colab": {
     "base_uri": "https://localhost:8080/"
    },
    "id": "AqLHBBjEjkND",
    "outputId": "ca70b0a9-c7be-4e76-f40f-9144c6836dc1"
   },
   "outputs": [
    {
     "data": {
      "text/html": [
       "<div>\n",
       "<style scoped>\n",
       "    .dataframe tbody tr th:only-of-type {\n",
       "        vertical-align: middle;\n",
       "    }\n",
       "\n",
       "    .dataframe tbody tr th {\n",
       "        vertical-align: top;\n",
       "    }\n",
       "\n",
       "    .dataframe thead th {\n",
       "        text-align: right;\n",
       "    }\n",
       "</style>\n",
       "<table border=\"1\" class=\"dataframe\">\n",
       "  <thead>\n",
       "    <tr style=\"text-align: right;\">\n",
       "      <th></th>\n",
       "      <th>name</th>\n",
       "      <th>platform</th>\n",
       "      <th>year_of_release</th>\n",
       "      <th>genre</th>\n",
       "      <th>na_sales</th>\n",
       "      <th>eu_sales</th>\n",
       "      <th>jp_sales</th>\n",
       "      <th>other_sales</th>\n",
       "      <th>critic_score</th>\n",
       "      <th>user_score</th>\n",
       "      <th>rating</th>\n",
       "    </tr>\n",
       "  </thead>\n",
       "  <tbody>\n",
       "    <tr>\n",
       "      <th>0</th>\n",
       "      <td>Wii Sports</td>\n",
       "      <td>Wii</td>\n",
       "      <td>2006.0</td>\n",
       "      <td>Sports</td>\n",
       "      <td>41.36</td>\n",
       "      <td>28.96</td>\n",
       "      <td>3.77</td>\n",
       "      <td>8.45</td>\n",
       "      <td>76.0</td>\n",
       "      <td>8.0</td>\n",
       "      <td>E</td>\n",
       "    </tr>\n",
       "    <tr>\n",
       "      <th>1</th>\n",
       "      <td>Super Mario Bros.</td>\n",
       "      <td>NES</td>\n",
       "      <td>1985.0</td>\n",
       "      <td>Platform</td>\n",
       "      <td>29.08</td>\n",
       "      <td>3.58</td>\n",
       "      <td>6.81</td>\n",
       "      <td>0.77</td>\n",
       "      <td>NaN</td>\n",
       "      <td>NaN</td>\n",
       "      <td>NaN</td>\n",
       "    </tr>\n",
       "    <tr>\n",
       "      <th>2</th>\n",
       "      <td>Mario Kart Wii</td>\n",
       "      <td>Wii</td>\n",
       "      <td>2008.0</td>\n",
       "      <td>Racing</td>\n",
       "      <td>15.68</td>\n",
       "      <td>12.76</td>\n",
       "      <td>3.79</td>\n",
       "      <td>3.29</td>\n",
       "      <td>82.0</td>\n",
       "      <td>8.3</td>\n",
       "      <td>E</td>\n",
       "    </tr>\n",
       "    <tr>\n",
       "      <th>3</th>\n",
       "      <td>Wii Sports Resort</td>\n",
       "      <td>Wii</td>\n",
       "      <td>2009.0</td>\n",
       "      <td>Sports</td>\n",
       "      <td>15.61</td>\n",
       "      <td>10.93</td>\n",
       "      <td>3.28</td>\n",
       "      <td>2.95</td>\n",
       "      <td>80.0</td>\n",
       "      <td>8.0</td>\n",
       "      <td>E</td>\n",
       "    </tr>\n",
       "    <tr>\n",
       "      <th>4</th>\n",
       "      <td>Pokemon Red/Pokemon Blue</td>\n",
       "      <td>GB</td>\n",
       "      <td>1996.0</td>\n",
       "      <td>Role-Playing</td>\n",
       "      <td>11.27</td>\n",
       "      <td>8.89</td>\n",
       "      <td>10.22</td>\n",
       "      <td>1.00</td>\n",
       "      <td>NaN</td>\n",
       "      <td>NaN</td>\n",
       "      <td>NaN</td>\n",
       "    </tr>\n",
       "    <tr>\n",
       "      <th>5</th>\n",
       "      <td>Tetris</td>\n",
       "      <td>GB</td>\n",
       "      <td>1989.0</td>\n",
       "      <td>Puzzle</td>\n",
       "      <td>23.20</td>\n",
       "      <td>2.26</td>\n",
       "      <td>4.22</td>\n",
       "      <td>0.58</td>\n",
       "      <td>NaN</td>\n",
       "      <td>NaN</td>\n",
       "      <td>NaN</td>\n",
       "    </tr>\n",
       "    <tr>\n",
       "      <th>6</th>\n",
       "      <td>New Super Mario Bros.</td>\n",
       "      <td>DS</td>\n",
       "      <td>2006.0</td>\n",
       "      <td>Platform</td>\n",
       "      <td>11.28</td>\n",
       "      <td>9.14</td>\n",
       "      <td>6.50</td>\n",
       "      <td>2.88</td>\n",
       "      <td>89.0</td>\n",
       "      <td>8.5</td>\n",
       "      <td>E</td>\n",
       "    </tr>\n",
       "    <tr>\n",
       "      <th>7</th>\n",
       "      <td>Wii Play</td>\n",
       "      <td>Wii</td>\n",
       "      <td>2006.0</td>\n",
       "      <td>Misc</td>\n",
       "      <td>13.96</td>\n",
       "      <td>9.18</td>\n",
       "      <td>2.93</td>\n",
       "      <td>2.84</td>\n",
       "      <td>58.0</td>\n",
       "      <td>6.6</td>\n",
       "      <td>E</td>\n",
       "    </tr>\n",
       "    <tr>\n",
       "      <th>8</th>\n",
       "      <td>New Super Mario Bros. Wii</td>\n",
       "      <td>Wii</td>\n",
       "      <td>2009.0</td>\n",
       "      <td>Platform</td>\n",
       "      <td>14.44</td>\n",
       "      <td>6.94</td>\n",
       "      <td>4.70</td>\n",
       "      <td>2.24</td>\n",
       "      <td>87.0</td>\n",
       "      <td>8.4</td>\n",
       "      <td>E</td>\n",
       "    </tr>\n",
       "    <tr>\n",
       "      <th>9</th>\n",
       "      <td>Duck Hunt</td>\n",
       "      <td>NES</td>\n",
       "      <td>1984.0</td>\n",
       "      <td>Shooter</td>\n",
       "      <td>26.93</td>\n",
       "      <td>0.63</td>\n",
       "      <td>0.28</td>\n",
       "      <td>0.47</td>\n",
       "      <td>NaN</td>\n",
       "      <td>NaN</td>\n",
       "      <td>NaN</td>\n",
       "    </tr>\n",
       "  </tbody>\n",
       "</table>\n",
       "</div>"
      ],
      "text/plain": [
       "                        name platform  year_of_release         genre  \\\n",
       "0                 Wii Sports      Wii           2006.0        Sports   \n",
       "1          Super Mario Bros.      NES           1985.0      Platform   \n",
       "2             Mario Kart Wii      Wii           2008.0        Racing   \n",
       "3          Wii Sports Resort      Wii           2009.0        Sports   \n",
       "4   Pokemon Red/Pokemon Blue       GB           1996.0  Role-Playing   \n",
       "5                     Tetris       GB           1989.0        Puzzle   \n",
       "6      New Super Mario Bros.       DS           2006.0      Platform   \n",
       "7                   Wii Play      Wii           2006.0          Misc   \n",
       "8  New Super Mario Bros. Wii      Wii           2009.0      Platform   \n",
       "9                  Duck Hunt      NES           1984.0       Shooter   \n",
       "\n",
       "   na_sales  eu_sales  jp_sales  other_sales  critic_score  user_score rating  \n",
       "0     41.36     28.96      3.77         8.45          76.0         8.0      E  \n",
       "1     29.08      3.58      6.81         0.77           NaN         NaN    NaN  \n",
       "2     15.68     12.76      3.79         3.29          82.0         8.3      E  \n",
       "3     15.61     10.93      3.28         2.95          80.0         8.0      E  \n",
       "4     11.27      8.89     10.22         1.00           NaN         NaN    NaN  \n",
       "5     23.20      2.26      4.22         0.58           NaN         NaN    NaN  \n",
       "6     11.28      9.14      6.50         2.88          89.0         8.5      E  \n",
       "7     13.96      9.18      2.93         2.84          58.0         6.6      E  \n",
       "8     14.44      6.94      4.70         2.24          87.0         8.4      E  \n",
       "9     26.93      0.63      0.28         0.47           NaN         NaN    NaN  "
      ]
     },
     "execution_count": 15,
     "metadata": {},
     "output_type": "execute_result"
    }
   ],
   "source": [
    "games.head(10)"
   ]
  },
  {
   "cell_type": "code",
   "execution_count": 16,
   "metadata": {
    "id": "xLUrDpgBl5HT"
   },
   "outputs": [],
   "source": [
    "games['year_of_release'] = games['year_of_release'].astype('Int64')"
   ]
  },
  {
   "cell_type": "code",
   "execution_count": 17,
   "metadata": {
    "colab": {
     "base_uri": "https://localhost:8080/"
    },
    "id": "l6vio80NuakA",
    "outputId": "8353d334-b37c-44c8-edcd-12ae7a6c7fa9"
   },
   "outputs": [
    {
     "data": {
      "text/html": [
       "<div>\n",
       "<style scoped>\n",
       "    .dataframe tbody tr th:only-of-type {\n",
       "        vertical-align: middle;\n",
       "    }\n",
       "\n",
       "    .dataframe tbody tr th {\n",
       "        vertical-align: top;\n",
       "    }\n",
       "\n",
       "    .dataframe thead th {\n",
       "        text-align: right;\n",
       "    }\n",
       "</style>\n",
       "<table border=\"1\" class=\"dataframe\">\n",
       "  <thead>\n",
       "    <tr style=\"text-align: right;\">\n",
       "      <th></th>\n",
       "      <th>name</th>\n",
       "      <th>platform</th>\n",
       "      <th>year_of_release</th>\n",
       "      <th>genre</th>\n",
       "      <th>na_sales</th>\n",
       "      <th>eu_sales</th>\n",
       "      <th>jp_sales</th>\n",
       "      <th>other_sales</th>\n",
       "      <th>critic_score</th>\n",
       "      <th>user_score</th>\n",
       "      <th>rating</th>\n",
       "    </tr>\n",
       "  </thead>\n",
       "  <tbody>\n",
       "    <tr>\n",
       "      <th>0</th>\n",
       "      <td>Wii Sports</td>\n",
       "      <td>Wii</td>\n",
       "      <td>2006</td>\n",
       "      <td>Sports</td>\n",
       "      <td>41.36</td>\n",
       "      <td>28.96</td>\n",
       "      <td>3.77</td>\n",
       "      <td>8.45</td>\n",
       "      <td>76.0</td>\n",
       "      <td>8.0</td>\n",
       "      <td>E</td>\n",
       "    </tr>\n",
       "    <tr>\n",
       "      <th>1</th>\n",
       "      <td>Super Mario Bros.</td>\n",
       "      <td>NES</td>\n",
       "      <td>1985</td>\n",
       "      <td>Platform</td>\n",
       "      <td>29.08</td>\n",
       "      <td>3.58</td>\n",
       "      <td>6.81</td>\n",
       "      <td>0.77</td>\n",
       "      <td>NaN</td>\n",
       "      <td>NaN</td>\n",
       "      <td>NaN</td>\n",
       "    </tr>\n",
       "    <tr>\n",
       "      <th>2</th>\n",
       "      <td>Mario Kart Wii</td>\n",
       "      <td>Wii</td>\n",
       "      <td>2008</td>\n",
       "      <td>Racing</td>\n",
       "      <td>15.68</td>\n",
       "      <td>12.76</td>\n",
       "      <td>3.79</td>\n",
       "      <td>3.29</td>\n",
       "      <td>82.0</td>\n",
       "      <td>8.3</td>\n",
       "      <td>E</td>\n",
       "    </tr>\n",
       "    <tr>\n",
       "      <th>3</th>\n",
       "      <td>Wii Sports Resort</td>\n",
       "      <td>Wii</td>\n",
       "      <td>2009</td>\n",
       "      <td>Sports</td>\n",
       "      <td>15.61</td>\n",
       "      <td>10.93</td>\n",
       "      <td>3.28</td>\n",
       "      <td>2.95</td>\n",
       "      <td>80.0</td>\n",
       "      <td>8.0</td>\n",
       "      <td>E</td>\n",
       "    </tr>\n",
       "    <tr>\n",
       "      <th>4</th>\n",
       "      <td>Pokemon Red/Pokemon Blue</td>\n",
       "      <td>GB</td>\n",
       "      <td>1996</td>\n",
       "      <td>Role-Playing</td>\n",
       "      <td>11.27</td>\n",
       "      <td>8.89</td>\n",
       "      <td>10.22</td>\n",
       "      <td>1.00</td>\n",
       "      <td>NaN</td>\n",
       "      <td>NaN</td>\n",
       "      <td>NaN</td>\n",
       "    </tr>\n",
       "    <tr>\n",
       "      <th>5</th>\n",
       "      <td>Tetris</td>\n",
       "      <td>GB</td>\n",
       "      <td>1989</td>\n",
       "      <td>Puzzle</td>\n",
       "      <td>23.20</td>\n",
       "      <td>2.26</td>\n",
       "      <td>4.22</td>\n",
       "      <td>0.58</td>\n",
       "      <td>NaN</td>\n",
       "      <td>NaN</td>\n",
       "      <td>NaN</td>\n",
       "    </tr>\n",
       "    <tr>\n",
       "      <th>6</th>\n",
       "      <td>New Super Mario Bros.</td>\n",
       "      <td>DS</td>\n",
       "      <td>2006</td>\n",
       "      <td>Platform</td>\n",
       "      <td>11.28</td>\n",
       "      <td>9.14</td>\n",
       "      <td>6.50</td>\n",
       "      <td>2.88</td>\n",
       "      <td>89.0</td>\n",
       "      <td>8.5</td>\n",
       "      <td>E</td>\n",
       "    </tr>\n",
       "    <tr>\n",
       "      <th>7</th>\n",
       "      <td>Wii Play</td>\n",
       "      <td>Wii</td>\n",
       "      <td>2006</td>\n",
       "      <td>Misc</td>\n",
       "      <td>13.96</td>\n",
       "      <td>9.18</td>\n",
       "      <td>2.93</td>\n",
       "      <td>2.84</td>\n",
       "      <td>58.0</td>\n",
       "      <td>6.6</td>\n",
       "      <td>E</td>\n",
       "    </tr>\n",
       "    <tr>\n",
       "      <th>8</th>\n",
       "      <td>New Super Mario Bros. Wii</td>\n",
       "      <td>Wii</td>\n",
       "      <td>2009</td>\n",
       "      <td>Platform</td>\n",
       "      <td>14.44</td>\n",
       "      <td>6.94</td>\n",
       "      <td>4.70</td>\n",
       "      <td>2.24</td>\n",
       "      <td>87.0</td>\n",
       "      <td>8.4</td>\n",
       "      <td>E</td>\n",
       "    </tr>\n",
       "    <tr>\n",
       "      <th>9</th>\n",
       "      <td>Duck Hunt</td>\n",
       "      <td>NES</td>\n",
       "      <td>1984</td>\n",
       "      <td>Shooter</td>\n",
       "      <td>26.93</td>\n",
       "      <td>0.63</td>\n",
       "      <td>0.28</td>\n",
       "      <td>0.47</td>\n",
       "      <td>NaN</td>\n",
       "      <td>NaN</td>\n",
       "      <td>NaN</td>\n",
       "    </tr>\n",
       "  </tbody>\n",
       "</table>\n",
       "</div>"
      ],
      "text/plain": [
       "                        name platform  year_of_release         genre  \\\n",
       "0                 Wii Sports      Wii             2006        Sports   \n",
       "1          Super Mario Bros.      NES             1985      Platform   \n",
       "2             Mario Kart Wii      Wii             2008        Racing   \n",
       "3          Wii Sports Resort      Wii             2009        Sports   \n",
       "4   Pokemon Red/Pokemon Blue       GB             1996  Role-Playing   \n",
       "5                     Tetris       GB             1989        Puzzle   \n",
       "6      New Super Mario Bros.       DS             2006      Platform   \n",
       "7                   Wii Play      Wii             2006          Misc   \n",
       "8  New Super Mario Bros. Wii      Wii             2009      Platform   \n",
       "9                  Duck Hunt      NES             1984       Shooter   \n",
       "\n",
       "   na_sales  eu_sales  jp_sales  other_sales  critic_score  user_score rating  \n",
       "0     41.36     28.96      3.77         8.45          76.0         8.0      E  \n",
       "1     29.08      3.58      6.81         0.77           NaN         NaN    NaN  \n",
       "2     15.68     12.76      3.79         3.29          82.0         8.3      E  \n",
       "3     15.61     10.93      3.28         2.95          80.0         8.0      E  \n",
       "4     11.27      8.89     10.22         1.00           NaN         NaN    NaN  \n",
       "5     23.20      2.26      4.22         0.58           NaN         NaN    NaN  \n",
       "6     11.28      9.14      6.50         2.88          89.0         8.5      E  \n",
       "7     13.96      9.18      2.93         2.84          58.0         6.6      E  \n",
       "8     14.44      6.94      4.70         2.24          87.0         8.4      E  \n",
       "9     26.93      0.63      0.28         0.47           NaN         NaN    NaN  "
      ]
     },
     "execution_count": 17,
     "metadata": {},
     "output_type": "execute_result"
    }
   ],
   "source": [
    "games.head(10)"
   ]
  },
  {
   "cell_type": "code",
   "execution_count": 18,
   "metadata": {},
   "outputs": [],
   "source": [
    "# Обработаем пропуски и дубликаты. Проверим их наличие."
   ]
  },
  {
   "cell_type": "code",
   "execution_count": 19,
   "metadata": {
    "colab": {
     "base_uri": "https://localhost:8080/"
    },
    "id": "XTMYG7LwfGk7",
    "outputId": "bc36ce39-95ec-4918-e6f1-65bf77968561"
   },
   "outputs": [
    {
     "data": {
      "text/plain": [
       "0"
      ]
     },
     "execution_count": 19,
     "metadata": {},
     "output_type": "execute_result"
    }
   ],
   "source": [
    "games.duplicated().sum()"
   ]
  },
  {
   "cell_type": "code",
   "execution_count": 20,
   "metadata": {
    "colab": {
     "base_uri": "https://localhost:8080/"
    },
    "id": "JGqOf9Gsdjtm",
    "outputId": "3c37fab8-0fb0-4a7e-9b22-aead01c50cb5"
   },
   "outputs": [
    {
     "data": {
      "text/plain": [
       "name                  2\n",
       "platform              0\n",
       "year_of_release     269\n",
       "genre                 2\n",
       "na_sales              0\n",
       "eu_sales              0\n",
       "jp_sales              0\n",
       "other_sales           0\n",
       "critic_score       8578\n",
       "user_score         9125\n",
       "rating             6766\n",
       "dtype: int64"
      ]
     },
     "execution_count": 20,
     "metadata": {},
     "output_type": "execute_result"
    }
   ],
   "source": [
    "games.isnull().sum()"
   ]
  },
  {
   "cell_type": "code",
   "execution_count": 21,
   "metadata": {},
   "outputs": [],
   "source": [
    "# Пустые значения свидетельствуют о том, что для некоторых игр доступна не вся информация.\n",
    "# Во-первых, в двух наблюдениях нет названия игр, еще в двух - жанра. Скорее всего, эти пропуски носят не системный характер \n",
    "# и связаны с человеческим фактором - при заполнении данных эти показатели могли пропустить. \n",
    "# Так как их доля незначительна и не представляется возможным заменить пропуски на данные, эти наблюдения можно удалить."
   ]
  },
  {
   "cell_type": "code",
   "execution_count": 22,
   "metadata": {
    "colab": {
     "base_uri": "https://localhost:8080/"
    },
    "id": "zwv7sS1bcWGE",
    "outputId": "0b5c7b50-def1-4831-9ef1-3d2b8b243d6e"
   },
   "outputs": [
    {
     "name": "stdout",
     "output_type": "stream",
     "text": [
      "<class 'pandas.core.frame.DataFrame'>\n",
      "Int64Index: 16713 entries, 0 to 16714\n",
      "Data columns (total 11 columns):\n",
      " #   Column           Non-Null Count  Dtype  \n",
      "---  ------           --------------  -----  \n",
      " 0   name             16713 non-null  object \n",
      " 1   platform         16713 non-null  object \n",
      " 2   year_of_release  16444 non-null  Int64  \n",
      " 3   genre            16713 non-null  object \n",
      " 4   na_sales         16713 non-null  float64\n",
      " 5   eu_sales         16713 non-null  float64\n",
      " 6   jp_sales         16713 non-null  float64\n",
      " 7   other_sales      16713 non-null  float64\n",
      " 8   critic_score     8137 non-null   float64\n",
      " 9   user_score       7590 non-null   float64\n",
      " 10  rating           9949 non-null   object \n",
      "dtypes: Int64(1), float64(6), object(4)\n",
      "memory usage: 1.5+ MB\n"
     ]
    }
   ],
   "source": [
    "games.dropna(subset = ['name'], inplace = True)\n",
    "games.dropna(subset = ['genre'], inplace = True)\n",
    "games.info()"
   ]
  },
  {
   "cell_type": "code",
   "execution_count": 23,
   "metadata": {},
   "outputs": [],
   "source": [
    "# Следущий столбец с пропусками - год релиза. Относительно общего числа наблюдений их немного, они носят не системный характер. \n",
    "# Частично эти пропуски можно заполнить, используя информацию из столбца с названием игры, так как во многих названиях есть\n",
    "# указание года. \n",
    "# Также в некоторых случаях, если игра представлена на нескольких платформах, есть информация о годе релиза для какой-то \n",
    "# одной из платформ. \n",
    "# Соответсвенно, эту информацию можно использовать, чтобы заполнить пропуски для остальных платформ. \n",
    "# Это позволит получить данные более, чем о половине игр с пропущенным годом выхода. При необходимости оставшиеся данные \n",
    "# можно восстановить вручную, находя информацию о дате релиза игры в открытых источниках, \n",
    "# тк количество таких наблюдений сравнительно невелико."
   ]
  },
  {
   "cell_type": "code",
   "execution_count": 24,
   "metadata": {
    "id": "_dZHiQoaL4KZ",
    "outputId": "3c07b706-33e3-45e0-dd14-b1937c1ea9dc",
    "scrolled": true
   },
   "outputs": [
    {
     "data": {
      "text/plain": [
       "name                  0\n",
       "platform              0\n",
       "year_of_release     146\n",
       "genre                 0\n",
       "na_sales              0\n",
       "eu_sales              0\n",
       "jp_sales              0\n",
       "other_sales           0\n",
       "critic_score       8576\n",
       "user_score         9123\n",
       "rating             6764\n",
       "dtype: int64"
      ]
     },
     "execution_count": 24,
     "metadata": {},
     "output_type": "execute_result"
    }
   ],
   "source": [
    "for row in games[games['year_of_release'].isnull() == True].index:  \n",
    "    games['year_of_release'][row] = games.loc[games['name'] == games['name'][row], 'year_of_release'].max()\n",
    "games.isnull().sum()    "
   ]
  },
  {
   "cell_type": "code",
   "execution_count": 25,
   "metadata": {},
   "outputs": [],
   "source": [
    "# Почти у половины наблюдений отсутствуют данные о рейтинге критиков и пользователей ( 51 % и 54% соответственно). \n",
    "# Большое количество пропусков указывает на то, что их появление не случайно и носит системный характер. В большинстве случаев, \n",
    "# скорее всего, для этих игр не проводилась оценка. Поэтому нельзя с точностью сказать, является ли отсутствие рейтинга\n",
    "# ошибочным пропуском или этой информации не может быть в принципе. В момент анализа этих параметров можно будет изучить\n",
    "# данные как есть и сравнить с ситуацией, когда пропуски заменены на среднее (так как здесь не может появиться \n",
    "# предельно больших чисел, сильно искажающих общую картину, и все варианты ограничены диапазоном от 0 до 100 и от 0 до 10, \n",
    "# нет необходимости использовать медиану, и пропуски можно заменить на среднее)."
   ]
  },
  {
   "cell_type": "code",
   "execution_count": 26,
   "metadata": {},
   "outputs": [],
   "source": [
    "# В столбцах с рейтингом есть аббревиатуру 'tbd' - 'to be determined'. Это означает, что рейтинг еще не определен. \n",
    "# Можно отметить, что зачастую рейтинга нет у игр, для которых продажи есть только в японском сегменте рынка. \n",
    "# Возможно, что это игры для внутреннего рынка и, соответственно, для них рейтинг не выставляется, но предположение \n",
    "# следует проверить, если это возможно, у создателей сводной таблицы. \n",
    "# Также рейтинга может не быть у игр, созданных до его возникновения. \n",
    "# Пока же можно заменить пустые значения на NR - no rating, и рассматривать,\n",
    "# помимо самих рейтингов, еще две категории - рейтинг не определен и нет рейтинга."
   ]
  },
  {
   "cell_type": "code",
   "execution_count": 27,
   "metadata": {
    "id": "Dzs3zl1EL4Ka",
    "outputId": "412d26db-c08a-4c79-eb62-728e4ac7ce5f",
    "scrolled": true
   },
   "outputs": [
    {
     "data": {
      "text/html": [
       "<div>\n",
       "<style scoped>\n",
       "    .dataframe tbody tr th:only-of-type {\n",
       "        vertical-align: middle;\n",
       "    }\n",
       "\n",
       "    .dataframe tbody tr th {\n",
       "        vertical-align: top;\n",
       "    }\n",
       "\n",
       "    .dataframe thead th {\n",
       "        text-align: right;\n",
       "    }\n",
       "</style>\n",
       "<table border=\"1\" class=\"dataframe\">\n",
       "  <thead>\n",
       "    <tr style=\"text-align: right;\">\n",
       "      <th></th>\n",
       "      <th>name</th>\n",
       "      <th>platform</th>\n",
       "      <th>year_of_release</th>\n",
       "      <th>genre</th>\n",
       "      <th>na_sales</th>\n",
       "      <th>eu_sales</th>\n",
       "      <th>jp_sales</th>\n",
       "      <th>other_sales</th>\n",
       "      <th>critic_score</th>\n",
       "      <th>user_score</th>\n",
       "      <th>rating</th>\n",
       "    </tr>\n",
       "  </thead>\n",
       "  <tbody>\n",
       "    <tr>\n",
       "      <th>0</th>\n",
       "      <td>Wii Sports</td>\n",
       "      <td>Wii</td>\n",
       "      <td>2006</td>\n",
       "      <td>Sports</td>\n",
       "      <td>41.36</td>\n",
       "      <td>28.96</td>\n",
       "      <td>3.77</td>\n",
       "      <td>8.45</td>\n",
       "      <td>76.0</td>\n",
       "      <td>8.0</td>\n",
       "      <td>E</td>\n",
       "    </tr>\n",
       "    <tr>\n",
       "      <th>1</th>\n",
       "      <td>Super Mario Bros.</td>\n",
       "      <td>NES</td>\n",
       "      <td>1985</td>\n",
       "      <td>Platform</td>\n",
       "      <td>29.08</td>\n",
       "      <td>3.58</td>\n",
       "      <td>6.81</td>\n",
       "      <td>0.77</td>\n",
       "      <td>NaN</td>\n",
       "      <td>NaN</td>\n",
       "      <td>NR</td>\n",
       "    </tr>\n",
       "    <tr>\n",
       "      <th>2</th>\n",
       "      <td>Mario Kart Wii</td>\n",
       "      <td>Wii</td>\n",
       "      <td>2008</td>\n",
       "      <td>Racing</td>\n",
       "      <td>15.68</td>\n",
       "      <td>12.76</td>\n",
       "      <td>3.79</td>\n",
       "      <td>3.29</td>\n",
       "      <td>82.0</td>\n",
       "      <td>8.3</td>\n",
       "      <td>E</td>\n",
       "    </tr>\n",
       "    <tr>\n",
       "      <th>3</th>\n",
       "      <td>Wii Sports Resort</td>\n",
       "      <td>Wii</td>\n",
       "      <td>2009</td>\n",
       "      <td>Sports</td>\n",
       "      <td>15.61</td>\n",
       "      <td>10.93</td>\n",
       "      <td>3.28</td>\n",
       "      <td>2.95</td>\n",
       "      <td>80.0</td>\n",
       "      <td>8.0</td>\n",
       "      <td>E</td>\n",
       "    </tr>\n",
       "    <tr>\n",
       "      <th>4</th>\n",
       "      <td>Pokemon Red/Pokemon Blue</td>\n",
       "      <td>GB</td>\n",
       "      <td>1996</td>\n",
       "      <td>Role-Playing</td>\n",
       "      <td>11.27</td>\n",
       "      <td>8.89</td>\n",
       "      <td>10.22</td>\n",
       "      <td>1.00</td>\n",
       "      <td>NaN</td>\n",
       "      <td>NaN</td>\n",
       "      <td>NR</td>\n",
       "    </tr>\n",
       "    <tr>\n",
       "      <th>5</th>\n",
       "      <td>Tetris</td>\n",
       "      <td>GB</td>\n",
       "      <td>1989</td>\n",
       "      <td>Puzzle</td>\n",
       "      <td>23.20</td>\n",
       "      <td>2.26</td>\n",
       "      <td>4.22</td>\n",
       "      <td>0.58</td>\n",
       "      <td>NaN</td>\n",
       "      <td>NaN</td>\n",
       "      <td>NR</td>\n",
       "    </tr>\n",
       "    <tr>\n",
       "      <th>6</th>\n",
       "      <td>New Super Mario Bros.</td>\n",
       "      <td>DS</td>\n",
       "      <td>2006</td>\n",
       "      <td>Platform</td>\n",
       "      <td>11.28</td>\n",
       "      <td>9.14</td>\n",
       "      <td>6.50</td>\n",
       "      <td>2.88</td>\n",
       "      <td>89.0</td>\n",
       "      <td>8.5</td>\n",
       "      <td>E</td>\n",
       "    </tr>\n",
       "    <tr>\n",
       "      <th>7</th>\n",
       "      <td>Wii Play</td>\n",
       "      <td>Wii</td>\n",
       "      <td>2006</td>\n",
       "      <td>Misc</td>\n",
       "      <td>13.96</td>\n",
       "      <td>9.18</td>\n",
       "      <td>2.93</td>\n",
       "      <td>2.84</td>\n",
       "      <td>58.0</td>\n",
       "      <td>6.6</td>\n",
       "      <td>E</td>\n",
       "    </tr>\n",
       "    <tr>\n",
       "      <th>8</th>\n",
       "      <td>New Super Mario Bros. Wii</td>\n",
       "      <td>Wii</td>\n",
       "      <td>2009</td>\n",
       "      <td>Platform</td>\n",
       "      <td>14.44</td>\n",
       "      <td>6.94</td>\n",
       "      <td>4.70</td>\n",
       "      <td>2.24</td>\n",
       "      <td>87.0</td>\n",
       "      <td>8.4</td>\n",
       "      <td>E</td>\n",
       "    </tr>\n",
       "    <tr>\n",
       "      <th>9</th>\n",
       "      <td>Duck Hunt</td>\n",
       "      <td>NES</td>\n",
       "      <td>1984</td>\n",
       "      <td>Shooter</td>\n",
       "      <td>26.93</td>\n",
       "      <td>0.63</td>\n",
       "      <td>0.28</td>\n",
       "      <td>0.47</td>\n",
       "      <td>NaN</td>\n",
       "      <td>NaN</td>\n",
       "      <td>NR</td>\n",
       "    </tr>\n",
       "  </tbody>\n",
       "</table>\n",
       "</div>"
      ],
      "text/plain": [
       "                        name platform  year_of_release         genre  \\\n",
       "0                 Wii Sports      Wii             2006        Sports   \n",
       "1          Super Mario Bros.      NES             1985      Platform   \n",
       "2             Mario Kart Wii      Wii             2008        Racing   \n",
       "3          Wii Sports Resort      Wii             2009        Sports   \n",
       "4   Pokemon Red/Pokemon Blue       GB             1996  Role-Playing   \n",
       "5                     Tetris       GB             1989        Puzzle   \n",
       "6      New Super Mario Bros.       DS             2006      Platform   \n",
       "7                   Wii Play      Wii             2006          Misc   \n",
       "8  New Super Mario Bros. Wii      Wii             2009      Platform   \n",
       "9                  Duck Hunt      NES             1984       Shooter   \n",
       "\n",
       "   na_sales  eu_sales  jp_sales  other_sales  critic_score  user_score rating  \n",
       "0     41.36     28.96      3.77         8.45          76.0         8.0      E  \n",
       "1     29.08      3.58      6.81         0.77           NaN         NaN     NR  \n",
       "2     15.68     12.76      3.79         3.29          82.0         8.3      E  \n",
       "3     15.61     10.93      3.28         2.95          80.0         8.0      E  \n",
       "4     11.27      8.89     10.22         1.00           NaN         NaN     NR  \n",
       "5     23.20      2.26      4.22         0.58           NaN         NaN     NR  \n",
       "6     11.28      9.14      6.50         2.88          89.0         8.5      E  \n",
       "7     13.96      9.18      2.93         2.84          58.0         6.6      E  \n",
       "8     14.44      6.94      4.70         2.24          87.0         8.4      E  \n",
       "9     26.93      0.63      0.28         0.47           NaN         NaN     NR  "
      ]
     },
     "execution_count": 27,
     "metadata": {},
     "output_type": "execute_result"
    }
   ],
   "source": [
    "games['rating'] = games['rating'].fillna('NR')\n",
    "games.head(10)"
   ]
  },
  {
   "cell_type": "code",
   "execution_count": 28,
   "metadata": {
    "id": "o0BIZnWpL4Ka",
    "outputId": "7d4472e0-c201-4fe1-a27c-adaf3d8997ae"
   },
   "outputs": [
    {
     "data": {
      "text/plain": [
       "name                  0\n",
       "platform              0\n",
       "year_of_release     146\n",
       "genre                 0\n",
       "na_sales              0\n",
       "eu_sales              0\n",
       "jp_sales              0\n",
       "other_sales           0\n",
       "critic_score       8576\n",
       "user_score         9123\n",
       "rating                0\n",
       "dtype: int64"
      ]
     },
     "execution_count": 28,
     "metadata": {},
     "output_type": "execute_result"
    }
   ],
   "source": [
    "games.isnull().sum()\n"
   ]
  },
  {
   "cell_type": "code",
   "execution_count": 29,
   "metadata": {},
   "outputs": [],
   "source": [
    "# Посчитаем суммарные продажи во всех регионах и запишем их в отдельный столбец"
   ]
  },
  {
   "cell_type": "code",
   "execution_count": 30,
   "metadata": {
    "id": "5oq_XjExL4Ka",
    "outputId": "9f658afe-8309-4b35-d7a2-d1c8d2db99d5"
   },
   "outputs": [
    {
     "data": {
      "text/html": [
       "<div>\n",
       "<style scoped>\n",
       "    .dataframe tbody tr th:only-of-type {\n",
       "        vertical-align: middle;\n",
       "    }\n",
       "\n",
       "    .dataframe tbody tr th {\n",
       "        vertical-align: top;\n",
       "    }\n",
       "\n",
       "    .dataframe thead th {\n",
       "        text-align: right;\n",
       "    }\n",
       "</style>\n",
       "<table border=\"1\" class=\"dataframe\">\n",
       "  <thead>\n",
       "    <tr style=\"text-align: right;\">\n",
       "      <th></th>\n",
       "      <th>name</th>\n",
       "      <th>platform</th>\n",
       "      <th>year_of_release</th>\n",
       "      <th>genre</th>\n",
       "      <th>na_sales</th>\n",
       "      <th>eu_sales</th>\n",
       "      <th>jp_sales</th>\n",
       "      <th>other_sales</th>\n",
       "      <th>critic_score</th>\n",
       "      <th>user_score</th>\n",
       "      <th>rating</th>\n",
       "      <th>all_sales</th>\n",
       "    </tr>\n",
       "  </thead>\n",
       "  <tbody>\n",
       "    <tr>\n",
       "      <th>0</th>\n",
       "      <td>Wii Sports</td>\n",
       "      <td>Wii</td>\n",
       "      <td>2006</td>\n",
       "      <td>Sports</td>\n",
       "      <td>41.36</td>\n",
       "      <td>28.96</td>\n",
       "      <td>3.77</td>\n",
       "      <td>8.45</td>\n",
       "      <td>76.0</td>\n",
       "      <td>8.0</td>\n",
       "      <td>E</td>\n",
       "      <td>136.69</td>\n",
       "    </tr>\n",
       "    <tr>\n",
       "      <th>1</th>\n",
       "      <td>Super Mario Bros.</td>\n",
       "      <td>NES</td>\n",
       "      <td>1985</td>\n",
       "      <td>Platform</td>\n",
       "      <td>29.08</td>\n",
       "      <td>3.58</td>\n",
       "      <td>6.81</td>\n",
       "      <td>0.77</td>\n",
       "      <td>NaN</td>\n",
       "      <td>NaN</td>\n",
       "      <td>NR</td>\n",
       "      <td>40.59</td>\n",
       "    </tr>\n",
       "    <tr>\n",
       "      <th>2</th>\n",
       "      <td>Mario Kart Wii</td>\n",
       "      <td>Wii</td>\n",
       "      <td>2008</td>\n",
       "      <td>Racing</td>\n",
       "      <td>15.68</td>\n",
       "      <td>12.76</td>\n",
       "      <td>3.79</td>\n",
       "      <td>3.29</td>\n",
       "      <td>82.0</td>\n",
       "      <td>8.3</td>\n",
       "      <td>E</td>\n",
       "      <td>57.25</td>\n",
       "    </tr>\n",
       "    <tr>\n",
       "      <th>3</th>\n",
       "      <td>Wii Sports Resort</td>\n",
       "      <td>Wii</td>\n",
       "      <td>2009</td>\n",
       "      <td>Sports</td>\n",
       "      <td>15.61</td>\n",
       "      <td>10.93</td>\n",
       "      <td>3.28</td>\n",
       "      <td>2.95</td>\n",
       "      <td>80.0</td>\n",
       "      <td>8.0</td>\n",
       "      <td>E</td>\n",
       "      <td>51.35</td>\n",
       "    </tr>\n",
       "    <tr>\n",
       "      <th>4</th>\n",
       "      <td>Pokemon Red/Pokemon Blue</td>\n",
       "      <td>GB</td>\n",
       "      <td>1996</td>\n",
       "      <td>Role-Playing</td>\n",
       "      <td>11.27</td>\n",
       "      <td>8.89</td>\n",
       "      <td>10.22</td>\n",
       "      <td>1.00</td>\n",
       "      <td>NaN</td>\n",
       "      <td>NaN</td>\n",
       "      <td>NR</td>\n",
       "      <td>38.94</td>\n",
       "    </tr>\n",
       "    <tr>\n",
       "      <th>5</th>\n",
       "      <td>Tetris</td>\n",
       "      <td>GB</td>\n",
       "      <td>1989</td>\n",
       "      <td>Puzzle</td>\n",
       "      <td>23.20</td>\n",
       "      <td>2.26</td>\n",
       "      <td>4.22</td>\n",
       "      <td>0.58</td>\n",
       "      <td>NaN</td>\n",
       "      <td>NaN</td>\n",
       "      <td>NR</td>\n",
       "      <td>30.56</td>\n",
       "    </tr>\n",
       "    <tr>\n",
       "      <th>6</th>\n",
       "      <td>New Super Mario Bros.</td>\n",
       "      <td>DS</td>\n",
       "      <td>2006</td>\n",
       "      <td>Platform</td>\n",
       "      <td>11.28</td>\n",
       "      <td>9.14</td>\n",
       "      <td>6.50</td>\n",
       "      <td>2.88</td>\n",
       "      <td>89.0</td>\n",
       "      <td>8.5</td>\n",
       "      <td>E</td>\n",
       "      <td>41.58</td>\n",
       "    </tr>\n",
       "    <tr>\n",
       "      <th>7</th>\n",
       "      <td>Wii Play</td>\n",
       "      <td>Wii</td>\n",
       "      <td>2006</td>\n",
       "      <td>Misc</td>\n",
       "      <td>13.96</td>\n",
       "      <td>9.18</td>\n",
       "      <td>2.93</td>\n",
       "      <td>2.84</td>\n",
       "      <td>58.0</td>\n",
       "      <td>6.6</td>\n",
       "      <td>E</td>\n",
       "      <td>44.34</td>\n",
       "    </tr>\n",
       "    <tr>\n",
       "      <th>8</th>\n",
       "      <td>New Super Mario Bros. Wii</td>\n",
       "      <td>Wii</td>\n",
       "      <td>2009</td>\n",
       "      <td>Platform</td>\n",
       "      <td>14.44</td>\n",
       "      <td>6.94</td>\n",
       "      <td>4.70</td>\n",
       "      <td>2.24</td>\n",
       "      <td>87.0</td>\n",
       "      <td>8.4</td>\n",
       "      <td>E</td>\n",
       "      <td>37.50</td>\n",
       "    </tr>\n",
       "    <tr>\n",
       "      <th>9</th>\n",
       "      <td>Duck Hunt</td>\n",
       "      <td>NES</td>\n",
       "      <td>1984</td>\n",
       "      <td>Shooter</td>\n",
       "      <td>26.93</td>\n",
       "      <td>0.63</td>\n",
       "      <td>0.28</td>\n",
       "      <td>0.47</td>\n",
       "      <td>NaN</td>\n",
       "      <td>NaN</td>\n",
       "      <td>NR</td>\n",
       "      <td>29.29</td>\n",
       "    </tr>\n",
       "  </tbody>\n",
       "</table>\n",
       "</div>"
      ],
      "text/plain": [
       "                        name platform  year_of_release         genre  \\\n",
       "0                 Wii Sports      Wii             2006        Sports   \n",
       "1          Super Mario Bros.      NES             1985      Platform   \n",
       "2             Mario Kart Wii      Wii             2008        Racing   \n",
       "3          Wii Sports Resort      Wii             2009        Sports   \n",
       "4   Pokemon Red/Pokemon Blue       GB             1996  Role-Playing   \n",
       "5                     Tetris       GB             1989        Puzzle   \n",
       "6      New Super Mario Bros.       DS             2006      Platform   \n",
       "7                   Wii Play      Wii             2006          Misc   \n",
       "8  New Super Mario Bros. Wii      Wii             2009      Platform   \n",
       "9                  Duck Hunt      NES             1984       Shooter   \n",
       "\n",
       "   na_sales  eu_sales  jp_sales  other_sales  critic_score  user_score rating  \\\n",
       "0     41.36     28.96      3.77         8.45          76.0         8.0      E   \n",
       "1     29.08      3.58      6.81         0.77           NaN         NaN     NR   \n",
       "2     15.68     12.76      3.79         3.29          82.0         8.3      E   \n",
       "3     15.61     10.93      3.28         2.95          80.0         8.0      E   \n",
       "4     11.27      8.89     10.22         1.00           NaN         NaN     NR   \n",
       "5     23.20      2.26      4.22         0.58           NaN         NaN     NR   \n",
       "6     11.28      9.14      6.50         2.88          89.0         8.5      E   \n",
       "7     13.96      9.18      2.93         2.84          58.0         6.6      E   \n",
       "8     14.44      6.94      4.70         2.24          87.0         8.4      E   \n",
       "9     26.93      0.63      0.28         0.47           NaN         NaN     NR   \n",
       "\n",
       "   all_sales  \n",
       "0     136.69  \n",
       "1      40.59  \n",
       "2      57.25  \n",
       "3      51.35  \n",
       "4      38.94  \n",
       "5      30.56  \n",
       "6      41.58  \n",
       "7      44.34  \n",
       "8      37.50  \n",
       "9      29.29  "
      ]
     },
     "execution_count": 30,
     "metadata": {},
     "output_type": "execute_result"
    }
   ],
   "source": [
    "games['all_sales'] = games['na_sales']+games['eu_sales']+games['eu_sales']+games['eu_sales']+games['other_sales'] \n",
    "games.head(10)"
   ]
  },
  {
   "cell_type": "code",
   "execution_count": 31,
   "metadata": {},
   "outputs": [],
   "source": [
    "# Исследовательский анализ данных\n",
    "# Посмотрим, сколько игр выпускалось в разные годы и оценим, важны ли данные за все периоды. Для этого группируем данные по году\n",
    "# и вызовом метода nunique() подсчитаем количество уникальных игр для каждого года (так как многие игры указаны для нескольких платформ одновременно)."
   ]
  },
  {
   "cell_type": "code",
   "execution_count": 32,
   "metadata": {
    "id": "-s07iq3VL4Kb",
    "outputId": "bd113ac7-b19e-44ad-b29c-f9dbcf7a45b7"
   },
   "outputs": [
    {
     "data": {
      "text/plain": [
       "year_of_release\n",
       "1980       9\n",
       "1981      46\n",
       "1982      36\n",
       "1983      17\n",
       "1984      14\n",
       "1985      14\n",
       "1986      21\n",
       "1987      16\n",
       "1988      15\n",
       "1989      17\n",
       "1990      16\n",
       "1991      40\n",
       "1992      41\n",
       "1993      59\n",
       "1994     117\n",
       "1995     215\n",
       "1996     258\n",
       "1997     282\n",
       "1998     364\n",
       "1999     326\n",
       "2000     325\n",
       "2001     428\n",
       "2002     631\n",
       "2003     546\n",
       "2004     550\n",
       "2005     657\n",
       "2006     773\n",
       "2007     884\n",
       "2008    1039\n",
       "2009    1001\n",
       "2010     900\n",
       "2011     779\n",
       "2012     446\n",
       "2013     335\n",
       "2014     319\n",
       "2015     362\n",
       "2016     297\n",
       "Name: name, dtype: int64"
      ]
     },
     "execution_count": 32,
     "metadata": {},
     "output_type": "execute_result"
    }
   ],
   "source": [
    "count_on_year = games.groupby('year_of_release')['name'].nunique()\n",
    "count_on_year"
   ]
  },
  {
   "cell_type": "code",
   "execution_count": 33,
   "metadata": {
    "id": "P_3DC1dUL4Kc",
    "outputId": "8974a92e-5886-4489-b6aa-a6d43a18576c"
   },
   "outputs": [
    {
     "data": {
      "text/plain": [
       "<matplotlib.legend.Legend at 0x7f5f15f99390>"
      ]
     },
     "execution_count": 33,
     "metadata": {},
     "output_type": "execute_result"
    },
    {
     "data": {
      "image/png": "[encoded data removed]",
      "text/plain": [
       "<Figure size 720x360 with 1 Axes>"
      ]
     },
     "metadata": {
      "needs_background": "light"
     },
     "output_type": "display_data"
    }
   ],
   "source": [
    "plt.figure(figsize=(10,5))\n",
    "sns.lineplot(data=count_on_year)\n",
    "plt.title('Количество выпущенных игр за период 1980-2016 гг.')\n",
    "plt.xlabel('Год выпуска игры')\n",
    "plt.ylabel('Количество выпущенных игр')\n",
    "plt.legend('')"
   ]
  },
  {
   "cell_type": "code",
   "execution_count": 34,
   "metadata": {},
   "outputs": [],
   "source": [
    "# Видно, что до 1994 года количество выпускаемых игр значительно ниже. В 1994 году появились новые жанры, образовались новые франшизы и компании, \n",
    "# а также Interactive Digital Software Association, которая учреждает возрастной рейтинг для видео игр Entertainment Software Rating Board (ESRB).\n",
    "# Пик продаж игр пришелся на 2008-2009 год, потом началось снижение, что можно объяснить массовым распространением мобильных телефонов и планшетов \n",
    "# и популярностью мобильных игр. Согласно информации из сети, массовое развитие мобильного гейминга началось еще в 2009-2011 годах, \n",
    "# когда AppStore и PlayMarket начали активно заполнять такие игры, как: Angry Birds, Fruit Ninja и прочие."
   ]
  },
  {
   "cell_type": "code",
   "execution_count": 35,
   "metadata": {},
   "outputs": [],
   "source": [
    "# Посмотрим, как менялись продажи по платформам."
   ]
  },
  {
   "cell_type": "code",
   "execution_count": 36,
   "metadata": {
    "id": "Qss5x7vaL4Kc",
    "outputId": "7e030405-4e25-4c36-e37c-a39c158926f0"
   },
   "outputs": [
    {
     "data": {
      "text/html": [
       "<div>\n",
       "<style scoped>\n",
       "    .dataframe tbody tr th:only-of-type {\n",
       "        vertical-align: middle;\n",
       "    }\n",
       "\n",
       "    .dataframe tbody tr th {\n",
       "        vertical-align: top;\n",
       "    }\n",
       "\n",
       "    .dataframe thead th {\n",
       "        text-align: right;\n",
       "    }\n",
       "</style>\n",
       "<table border=\"1\" class=\"dataframe\">\n",
       "  <thead>\n",
       "    <tr style=\"text-align: right;\">\n",
       "      <th></th>\n",
       "      <th>all_sales</th>\n",
       "    </tr>\n",
       "    <tr>\n",
       "      <th>platform</th>\n",
       "      <th></th>\n",
       "    </tr>\n",
       "  </thead>\n",
       "  <tbody>\n",
       "    <tr>\n",
       "      <th>PS2</th>\n",
       "      <td>1795.15</td>\n",
       "    </tr>\n",
       "    <tr>\n",
       "      <th>PS3</th>\n",
       "      <td>1520.04</td>\n",
       "    </tr>\n",
       "    <tr>\n",
       "      <th>X360</th>\n",
       "      <td>1500.51</td>\n",
       "    </tr>\n",
       "    <tr>\n",
       "      <th>Wii</th>\n",
       "      <td>1362.60</td>\n",
       "    </tr>\n",
       "    <tr>\n",
       "      <th>PS</th>\n",
       "      <td>1018.26</td>\n",
       "    </tr>\n",
       "    <tr>\n",
       "      <th>DS</th>\n",
       "      <td>1008.33</td>\n",
       "    </tr>\n",
       "    <tr>\n",
       "      <th>PS4</th>\n",
       "      <td>580.36</td>\n",
       "    </tr>\n",
       "    <tr>\n",
       "      <th>PC</th>\n",
       "      <td>544.23</td>\n",
       "    </tr>\n",
       "    <tr>\n",
       "      <th>GBA</th>\n",
       "      <td>421.02</td>\n",
       "    </tr>\n",
       "    <tr>\n",
       "      <th>XB</th>\n",
       "      <td>378.26</td>\n",
       "    </tr>\n",
       "    <tr>\n",
       "      <th>PSP</th>\n",
       "      <td>350.63</td>\n",
       "    </tr>\n",
       "    <tr>\n",
       "      <th>3DS</th>\n",
       "      <td>281.29</td>\n",
       "    </tr>\n",
       "    <tr>\n",
       "      <th>N64</th>\n",
       "      <td>266.58</td>\n",
       "    </tr>\n",
       "    <tr>\n",
       "      <th>GB</th>\n",
       "      <td>265.98</td>\n",
       "    </tr>\n",
       "    <tr>\n",
       "      <th>XOne</th>\n",
       "      <td>262.16</td>\n",
       "    </tr>\n",
       "    <tr>\n",
       "      <th>GC</th>\n",
       "      <td>254.77</td>\n",
       "    </tr>\n",
       "    <tr>\n",
       "      <th>NES</th>\n",
       "      <td>194.70</td>\n",
       "    </tr>\n",
       "    <tr>\n",
       "      <th>SNES</th>\n",
       "      <td>121.57</td>\n",
       "    </tr>\n",
       "    <tr>\n",
       "      <th>WiiU</th>\n",
       "      <td>119.44</td>\n",
       "    </tr>\n",
       "    <tr>\n",
       "      <th>2600</th>\n",
       "      <td>107.92</td>\n",
       "    </tr>\n",
       "    <tr>\n",
       "      <th>PSV</th>\n",
       "      <td>58.40</td>\n",
       "    </tr>\n",
       "    <tr>\n",
       "      <th>GEN</th>\n",
       "      <td>36.72</td>\n",
       "    </tr>\n",
       "    <tr>\n",
       "      <th>DC</th>\n",
       "      <td>10.77</td>\n",
       "    </tr>\n",
       "    <tr>\n",
       "      <th>SAT</th>\n",
       "      <td>2.41</td>\n",
       "    </tr>\n",
       "    <tr>\n",
       "      <th>SCD</th>\n",
       "      <td>2.13</td>\n",
       "    </tr>\n",
       "    <tr>\n",
       "      <th>3DO</th>\n",
       "      <td>0.00</td>\n",
       "    </tr>\n",
       "    <tr>\n",
       "      <th>PCFX</th>\n",
       "      <td>0.00</td>\n",
       "    </tr>\n",
       "    <tr>\n",
       "      <th>NG</th>\n",
       "      <td>0.00</td>\n",
       "    </tr>\n",
       "    <tr>\n",
       "      <th>GG</th>\n",
       "      <td>0.00</td>\n",
       "    </tr>\n",
       "    <tr>\n",
       "      <th>TG16</th>\n",
       "      <td>0.00</td>\n",
       "    </tr>\n",
       "    <tr>\n",
       "      <th>WS</th>\n",
       "      <td>0.00</td>\n",
       "    </tr>\n",
       "  </tbody>\n",
       "</table>\n",
       "</div>"
      ],
      "text/plain": [
       "          all_sales\n",
       "platform           \n",
       "PS2         1795.15\n",
       "PS3         1520.04\n",
       "X360        1500.51\n",
       "Wii         1362.60\n",
       "PS          1018.26\n",
       "DS          1008.33\n",
       "PS4          580.36\n",
       "PC           544.23\n",
       "GBA          421.02\n",
       "XB           378.26\n",
       "PSP          350.63\n",
       "3DS          281.29\n",
       "N64          266.58\n",
       "GB           265.98\n",
       "XOne         262.16\n",
       "GC           254.77\n",
       "NES          194.70\n",
       "SNES         121.57\n",
       "WiiU         119.44\n",
       "2600         107.92\n",
       "PSV           58.40\n",
       "GEN           36.72\n",
       "DC            10.77\n",
       "SAT            2.41\n",
       "SCD            2.13\n",
       "3DO            0.00\n",
       "PCFX           0.00\n",
       "NG             0.00\n",
       "GG             0.00\n",
       "TG16           0.00\n",
       "WS             0.00"
      ]
     },
     "execution_count": 36,
     "metadata": {},
     "output_type": "execute_result"
    }
   ],
   "source": [
    "platform_sales = games.pivot_table(index='platform', values='all_sales', aggfunc='sum').sort_values(by='all_sales', ascending=False)\n",
    "platform_sales"
   ]
  },
  {
   "cell_type": "code",
   "execution_count": 37,
   "metadata": {
    "id": "RNeln8JwL4Kc",
    "outputId": "1827aeb9-1e98-4ba5-d80b-89fa76aa44d7"
   },
   "outputs": [
    {
     "data": {
      "text/plain": [
       "Text(0, 0.5, 'Количество продаж')"
      ]
     },
     "execution_count": 37,
     "metadata": {},
     "output_type": "execute_result"
    },
    {
     "data": {
      "image/png": "[encoded data removed]",
      "text/plain": [
       "<Figure size 1440x720 with 1 Axes>"
      ]
     },
     "metadata": {
      "needs_background": "light"
     },
     "output_type": "display_data"
    }
   ],
   "source": [
    "plt.figure(figsize=(20,10))\n",
    "sns.barplot(x=platform_sales.index,y=platform_sales['all_sales'])\n",
    "plt.title('Продажи игр для разных платформ за период 1980-2016 гг')\n",
    "plt.xlabel('Название платформы')\n",
    "plt.ylabel('Количество продаж')"
   ]
  },
  {
   "cell_type": "code",
   "execution_count": 38,
   "metadata": {},
   "outputs": [],
   "source": [
    "# В числе первых шести приставок с количеством игр больше тысячи - игровые приставки линейки PlayStation компании Sony\n",
    "# ( PlayStation, PlayStation 2 и PlayStation 3). Исторически большое количество хитовых игр сделало эту приставку очень популярной, \n",
    "# что позволило PlayStation удержать лидерство на рынке игровых консолей. Следующие по популярности - консоли от Nintendo DS и Wii,\n",
    "# а также игровая приставка компании Microsoft Xbox 360. "
   ]
  },
  {
   "cell_type": "code",
   "execution_count": 39,
   "metadata": {},
   "outputs": [],
   "source": [
    "# Выберем платформы с наибольшими суммарными продажами и построим распределение по годам. \n",
    "# Возьмем консоли с продажами больше 1000. Это PS2, PS3, X360, Wii, PS, DS."
   ]
  },
  {
   "cell_type": "code",
   "execution_count": 40,
   "metadata": {
    "id": "1jedlfijL4Kd",
    "outputId": "cacfe928-8cd1-4443-ea6f-1f800ea98bf4"
   },
   "outputs": [
    {
     "data": {
      "text/html": [
       "<div>\n",
       "<style scoped>\n",
       "    .dataframe tbody tr th:only-of-type {\n",
       "        vertical-align: middle;\n",
       "    }\n",
       "\n",
       "    .dataframe tbody tr th {\n",
       "        vertical-align: top;\n",
       "    }\n",
       "\n",
       "    .dataframe thead th {\n",
       "        text-align: right;\n",
       "    }\n",
       "</style>\n",
       "<table border=\"1\" class=\"dataframe\">\n",
       "  <thead>\n",
       "    <tr style=\"text-align: right;\">\n",
       "      <th></th>\n",
       "      <th>all_sales</th>\n",
       "    </tr>\n",
       "    <tr>\n",
       "      <th>platform</th>\n",
       "      <th></th>\n",
       "    </tr>\n",
       "  </thead>\n",
       "  <tbody>\n",
       "    <tr>\n",
       "      <th>PS2</th>\n",
       "      <td>1795.15</td>\n",
       "    </tr>\n",
       "    <tr>\n",
       "      <th>PS3</th>\n",
       "      <td>1520.04</td>\n",
       "    </tr>\n",
       "    <tr>\n",
       "      <th>X360</th>\n",
       "      <td>1500.51</td>\n",
       "    </tr>\n",
       "    <tr>\n",
       "      <th>Wii</th>\n",
       "      <td>1362.60</td>\n",
       "    </tr>\n",
       "    <tr>\n",
       "      <th>PS</th>\n",
       "      <td>1018.26</td>\n",
       "    </tr>\n",
       "    <tr>\n",
       "      <th>DS</th>\n",
       "      <td>1008.33</td>\n",
       "    </tr>\n",
       "  </tbody>\n",
       "</table>\n",
       "</div>"
      ],
      "text/plain": [
       "          all_sales\n",
       "platform           \n",
       "PS2         1795.15\n",
       "PS3         1520.04\n",
       "X360        1500.51\n",
       "Wii         1362.60\n",
       "PS          1018.26\n",
       "DS          1008.33"
      ]
     },
     "execution_count": 40,
     "metadata": {},
     "output_type": "execute_result"
    }
   ],
   "source": [
    "top_platforms = games.pivot_table(index='platform', values='all_sales', aggfunc='sum').sort_values(by='all_sales', ascending=False).head(6)\n",
    "top_platforms"
   ]
  },
  {
   "cell_type": "code",
   "execution_count": 41,
   "metadata": {
    "id": "rCpB0TIhL4Kd"
   },
   "outputs": [],
   "source": [
    "def sale_on_year_for_platform(platform):\n",
    "    all_sales_on_platform =games[(games['platform'] == platform)].pivot_table(index='year_of_release', values='all_sales', aggfunc='sum').sort_values('year_of_release', ascending=False)\n",
    "    return all_sales_on_platform \n"
   ]
  },
  {
   "cell_type": "code",
   "execution_count": 42,
   "metadata": {
    "id": "hcTMZ39RL4Ke",
    "outputId": "2d6b817a-642b-4c1d-fd1d-73e2b579029b"
   },
   "outputs": [
    {
     "data": {
      "text/html": [
       "<div>\n",
       "<style scoped>\n",
       "    .dataframe tbody tr th:only-of-type {\n",
       "        vertical-align: middle;\n",
       "    }\n",
       "\n",
       "    .dataframe tbody tr th {\n",
       "        vertical-align: top;\n",
       "    }\n",
       "\n",
       "    .dataframe thead th {\n",
       "        text-align: right;\n",
       "    }\n",
       "</style>\n",
       "<table border=\"1\" class=\"dataframe\">\n",
       "  <thead>\n",
       "    <tr style=\"text-align: right;\">\n",
       "      <th></th>\n",
       "      <th>all_sales</th>\n",
       "    </tr>\n",
       "    <tr>\n",
       "      <th>year_of_release</th>\n",
       "      <th></th>\n",
       "    </tr>\n",
       "  </thead>\n",
       "  <tbody>\n",
       "    <tr>\n",
       "      <th>2011</th>\n",
       "      <td>0.62</td>\n",
       "    </tr>\n",
       "    <tr>\n",
       "      <th>2010</th>\n",
       "      <td>9.68</td>\n",
       "    </tr>\n",
       "    <tr>\n",
       "      <th>2009</th>\n",
       "      <td>34.34</td>\n",
       "    </tr>\n",
       "    <tr>\n",
       "      <th>2008</th>\n",
       "      <td>63.43</td>\n",
       "    </tr>\n",
       "    <tr>\n",
       "      <th>2007</th>\n",
       "      <td>87.22</td>\n",
       "    </tr>\n",
       "    <tr>\n",
       "      <th>2006</th>\n",
       "      <td>130.19</td>\n",
       "    </tr>\n",
       "    <tr>\n",
       "      <th>2005</th>\n",
       "      <td>227.33</td>\n",
       "    </tr>\n",
       "    <tr>\n",
       "      <th>2004</th>\n",
       "      <td>304.66</td>\n",
       "    </tr>\n",
       "    <tr>\n",
       "      <th>2003</th>\n",
       "      <td>301.76</td>\n",
       "    </tr>\n",
       "    <tr>\n",
       "      <th>2002</th>\n",
       "      <td>319.33</td>\n",
       "    </tr>\n",
       "    <tr>\n",
       "      <th>2001</th>\n",
       "      <td>253.38</td>\n",
       "    </tr>\n",
       "    <tr>\n",
       "      <th>2000</th>\n",
       "      <td>51.58</td>\n",
       "    </tr>\n",
       "  </tbody>\n",
       "</table>\n",
       "</div>"
      ],
      "text/plain": [
       "                 all_sales\n",
       "year_of_release           \n",
       "2011                  0.62\n",
       "2010                  9.68\n",
       "2009                 34.34\n",
       "2008                 63.43\n",
       "2007                 87.22\n",
       "2006                130.19\n",
       "2005                227.33\n",
       "2004                304.66\n",
       "2003                301.76\n",
       "2002                319.33\n",
       "2001                253.38\n",
       "2000                 51.58"
      ]
     },
     "execution_count": 42,
     "metadata": {},
     "output_type": "execute_result"
    }
   ],
   "source": [
    "sale_on_year_for_platform('PS2')\n"
   ]
  },
  {
   "cell_type": "code",
   "execution_count": 43,
   "metadata": {
    "id": "cZ26N0MfL4Ke",
    "outputId": "916f2849-a407-4ad6-9d88-e5e7c7b50201"
   },
   "outputs": [
    {
     "data": {
      "text/plain": [
       "<matplotlib.legend.Legend at 0x7f5f13a727f0>"
      ]
     },
     "execution_count": 43,
     "metadata": {},
     "output_type": "execute_result"
    },
    {
     "data": {
      "image/png": "[encoded data removed]",
      "text/plain": [
       "<Figure size 720x360 with 1 Axes>"
      ]
     },
     "metadata": {
      "needs_background": "light"
     },
     "output_type": "display_data"
    }
   ],
   "source": [
    "plt.figure(figsize=(10,5))\n",
    "sns.lineplot(data=sale_on_year_for_platform('PS2'))\n",
    "plt.title('Количество проданных игр для платформы PS2')\n",
    "plt.xlabel('Год выпуска игры')\n",
    "plt.ylabel('Количество проданных игр')\n",
    "plt.legend('')"
   ]
  },
  {
   "cell_type": "code",
   "execution_count": 44,
   "metadata": {
    "id": "mvBWllzdL4Ke",
    "outputId": "179bee3f-1df3-4b37-ff83-1f1306527f90"
   },
   "outputs": [
    {
     "data": {
      "text/html": [
       "<div>\n",
       "<style scoped>\n",
       "    .dataframe tbody tr th:only-of-type {\n",
       "        vertical-align: middle;\n",
       "    }\n",
       "\n",
       "    .dataframe tbody tr th {\n",
       "        vertical-align: top;\n",
       "    }\n",
       "\n",
       "    .dataframe thead th {\n",
       "        text-align: right;\n",
       "    }\n",
       "</style>\n",
       "<table border=\"1\" class=\"dataframe\">\n",
       "  <thead>\n",
       "    <tr style=\"text-align: right;\">\n",
       "      <th></th>\n",
       "      <th>all_sales</th>\n",
       "    </tr>\n",
       "    <tr>\n",
       "      <th>year_of_release</th>\n",
       "      <th></th>\n",
       "    </tr>\n",
       "  </thead>\n",
       "  <tbody>\n",
       "    <tr>\n",
       "      <th>2016</th>\n",
       "      <td>4.82</td>\n",
       "    </tr>\n",
       "    <tr>\n",
       "      <th>2015</th>\n",
       "      <td>25.23</td>\n",
       "    </tr>\n",
       "    <tr>\n",
       "      <th>2014</th>\n",
       "      <td>77.99</td>\n",
       "    </tr>\n",
       "    <tr>\n",
       "      <th>2013</th>\n",
       "      <td>185.66</td>\n",
       "    </tr>\n",
       "    <tr>\n",
       "      <th>2012</th>\n",
       "      <td>175.26</td>\n",
       "    </tr>\n",
       "    <tr>\n",
       "      <th>2011</th>\n",
       "      <td>257.63</td>\n",
       "    </tr>\n",
       "    <tr>\n",
       "      <th>2010</th>\n",
       "      <td>234.18</td>\n",
       "    </tr>\n",
       "    <tr>\n",
       "      <th>2009</th>\n",
       "      <td>204.70</td>\n",
       "    </tr>\n",
       "    <tr>\n",
       "      <th>2008</th>\n",
       "      <td>190.43</td>\n",
       "    </tr>\n",
       "    <tr>\n",
       "      <th>2007</th>\n",
       "      <td>121.17</td>\n",
       "    </tr>\n",
       "    <tr>\n",
       "      <th>2006</th>\n",
       "      <td>36.08</td>\n",
       "    </tr>\n",
       "    <tr>\n",
       "      <th>2005</th>\n",
       "      <td>0.46</td>\n",
       "    </tr>\n",
       "  </tbody>\n",
       "</table>\n",
       "</div>"
      ],
      "text/plain": [
       "                 all_sales\n",
       "year_of_release           \n",
       "2016                  4.82\n",
       "2015                 25.23\n",
       "2014                 77.99\n",
       "2013                185.66\n",
       "2012                175.26\n",
       "2011                257.63\n",
       "2010                234.18\n",
       "2009                204.70\n",
       "2008                190.43\n",
       "2007                121.17\n",
       "2006                 36.08\n",
       "2005                  0.46"
      ]
     },
     "execution_count": 44,
     "metadata": {},
     "output_type": "execute_result"
    }
   ],
   "source": [
    "sale_on_year_for_platform('PS3')\n"
   ]
  },
  {
   "cell_type": "code",
   "execution_count": 45,
   "metadata": {
    "id": "w4_No32hL4Ke",
    "outputId": "4ad5c6fc-e58b-4bf6-ffe1-2aa7683cde42"
   },
   "outputs": [
    {
     "data": {
      "text/plain": [
       "<matplotlib.legend.Legend at 0x7f5f13a0feb8>"
      ]
     },
     "execution_count": 45,
     "metadata": {},
     "output_type": "execute_result"
    },
    {
     "data": {
      "image/png": "[encoded data removed]",
      "text/plain": [
       "<Figure size 720x360 with 1 Axes>"
      ]
     },
     "metadata": {
      "needs_background": "light"
     },
     "output_type": "display_data"
    }
   ],
   "source": [
    "plt.figure(figsize=(10,5))\n",
    "sns.lineplot(data=sale_on_year_for_platform('PS3'))\n",
    "plt.title('Количество проданных игр для платформы PS3')\n",
    "plt.xlabel('Год выпуска игры')\n",
    "plt.ylabel('Количество проданных игр')\n",
    "plt.legend('')"
   ]
  },
  {
   "cell_type": "code",
   "execution_count": 46,
   "metadata": {
    "id": "PVkwt9j6L4Kf",
    "outputId": "9e3325a4-f544-45c3-c5ad-0c3af547a174"
   },
   "outputs": [
    {
     "data": {
      "text/html": [
       "<div>\n",
       "<style scoped>\n",
       "    .dataframe tbody tr th:only-of-type {\n",
       "        vertical-align: middle;\n",
       "    }\n",
       "\n",
       "    .dataframe tbody tr th {\n",
       "        vertical-align: top;\n",
       "    }\n",
       "\n",
       "    .dataframe thead th {\n",
       "        text-align: right;\n",
       "    }\n",
       "</style>\n",
       "<table border=\"1\" class=\"dataframe\">\n",
       "  <thead>\n",
       "    <tr style=\"text-align: right;\">\n",
       "      <th></th>\n",
       "      <th>all_sales</th>\n",
       "    </tr>\n",
       "    <tr>\n",
       "      <th>year_of_release</th>\n",
       "      <th></th>\n",
       "    </tr>\n",
       "  </thead>\n",
       "  <tbody>\n",
       "    <tr>\n",
       "      <th>2016</th>\n",
       "      <td>2.94</td>\n",
       "    </tr>\n",
       "    <tr>\n",
       "      <th>2015</th>\n",
       "      <td>18.96</td>\n",
       "    </tr>\n",
       "    <tr>\n",
       "      <th>2014</th>\n",
       "      <td>57.22</td>\n",
       "    </tr>\n",
       "    <tr>\n",
       "      <th>2013</th>\n",
       "      <td>142.21</td>\n",
       "    </tr>\n",
       "    <tr>\n",
       "      <th>2012</th>\n",
       "      <td>164.40</td>\n",
       "    </tr>\n",
       "    <tr>\n",
       "      <th>2011</th>\n",
       "      <td>229.40</td>\n",
       "    </tr>\n",
       "    <tr>\n",
       "      <th>2010</th>\n",
       "      <td>261.28</td>\n",
       "    </tr>\n",
       "    <tr>\n",
       "      <th>2009</th>\n",
       "      <td>185.90</td>\n",
       "    </tr>\n",
       "    <tr>\n",
       "      <th>2008</th>\n",
       "      <td>211.00</td>\n",
       "    </tr>\n",
       "    <tr>\n",
       "      <th>2007</th>\n",
       "      <td>138.23</td>\n",
       "    </tr>\n",
       "    <tr>\n",
       "      <th>2006</th>\n",
       "      <td>72.31</td>\n",
       "    </tr>\n",
       "    <tr>\n",
       "      <th>2005</th>\n",
       "      <td>10.01</td>\n",
       "    </tr>\n",
       "  </tbody>\n",
       "</table>\n",
       "</div>"
      ],
      "text/plain": [
       "                 all_sales\n",
       "year_of_release           \n",
       "2016                  2.94\n",
       "2015                 18.96\n",
       "2014                 57.22\n",
       "2013                142.21\n",
       "2012                164.40\n",
       "2011                229.40\n",
       "2010                261.28\n",
       "2009                185.90\n",
       "2008                211.00\n",
       "2007                138.23\n",
       "2006                 72.31\n",
       "2005                 10.01"
      ]
     },
     "execution_count": 46,
     "metadata": {},
     "output_type": "execute_result"
    }
   ],
   "source": [
    "sale_on_year_for_platform('X360')\n"
   ]
  },
  {
   "cell_type": "code",
   "execution_count": 47,
   "metadata": {
    "id": "R7mMfH2ZL4Kf",
    "outputId": "aed10ce8-f736-4d09-c610-55c30c8ec3b8"
   },
   "outputs": [
    {
     "data": {
      "text/plain": [
       "<matplotlib.legend.Legend at 0x7f5f13887908>"
      ]
     },
     "execution_count": 47,
     "metadata": {},
     "output_type": "execute_result"
    },
    {
     "data": {
      "image/png": "[encoded data removed]",
      "text/plain": [
       "<Figure size 720x360 with 1 Axes>"
      ]
     },
     "metadata": {
      "needs_background": "light"
     },
     "output_type": "display_data"
    }
   ],
   "source": [
    "plt.figure(figsize=(10,5))\n",
    "sns.lineplot(data=sale_on_year_for_platform('X360'))\n",
    "plt.title('Количество проданных игр для платформы X360')\n",
    "plt.xlabel('Год выпуска игры')\n",
    "plt.ylabel('Количество проданных игр')\n",
    "plt.legend('')"
   ]
  },
  {
   "cell_type": "code",
   "execution_count": 48,
   "metadata": {
    "id": "Uiwiwj-5L4Kf",
    "outputId": "5bdf52c1-9063-4042-d8c2-d2b212a8cfbc"
   },
   "outputs": [
    {
     "data": {
      "text/html": [
       "<div>\n",
       "<style scoped>\n",
       "    .dataframe tbody tr th:only-of-type {\n",
       "        vertical-align: middle;\n",
       "    }\n",
       "\n",
       "    .dataframe tbody tr th {\n",
       "        vertical-align: top;\n",
       "    }\n",
       "\n",
       "    .dataframe thead th {\n",
       "        text-align: right;\n",
       "    }\n",
       "</style>\n",
       "<table border=\"1\" class=\"dataframe\">\n",
       "  <thead>\n",
       "    <tr style=\"text-align: right;\">\n",
       "      <th></th>\n",
       "      <th>all_sales</th>\n",
       "    </tr>\n",
       "    <tr>\n",
       "      <th>year_of_release</th>\n",
       "      <th></th>\n",
       "    </tr>\n",
       "  </thead>\n",
       "  <tbody>\n",
       "    <tr>\n",
       "      <th>2016</th>\n",
       "      <td>0.40</td>\n",
       "    </tr>\n",
       "    <tr>\n",
       "      <th>2015</th>\n",
       "      <td>2.38</td>\n",
       "    </tr>\n",
       "    <tr>\n",
       "      <th>2014</th>\n",
       "      <td>7.47</td>\n",
       "    </tr>\n",
       "    <tr>\n",
       "      <th>2013</th>\n",
       "      <td>15.22</td>\n",
       "    </tr>\n",
       "    <tr>\n",
       "      <th>2012</th>\n",
       "      <td>32.42</td>\n",
       "    </tr>\n",
       "    <tr>\n",
       "      <th>2011</th>\n",
       "      <td>89.61</td>\n",
       "    </tr>\n",
       "    <tr>\n",
       "      <th>2010</th>\n",
       "      <td>192.51</td>\n",
       "    </tr>\n",
       "    <tr>\n",
       "      <th>2009</th>\n",
       "      <td>307.02</td>\n",
       "    </tr>\n",
       "    <tr>\n",
       "      <th>2008</th>\n",
       "      <td>260.42</td>\n",
       "    </tr>\n",
       "    <tr>\n",
       "      <th>2007</th>\n",
       "      <td>229.81</td>\n",
       "    </tr>\n",
       "    <tr>\n",
       "      <th>2006</th>\n",
       "      <td>219.96</td>\n",
       "    </tr>\n",
       "  </tbody>\n",
       "</table>\n",
       "</div>"
      ],
      "text/plain": [
       "                 all_sales\n",
       "year_of_release           \n",
       "2016                  0.40\n",
       "2015                  2.38\n",
       "2014                  7.47\n",
       "2013                 15.22\n",
       "2012                 32.42\n",
       "2011                 89.61\n",
       "2010                192.51\n",
       "2009                307.02\n",
       "2008                260.42\n",
       "2007                229.81\n",
       "2006                219.96"
      ]
     },
     "execution_count": 48,
     "metadata": {},
     "output_type": "execute_result"
    }
   ],
   "source": [
    "sale_on_year_for_platform('Wii')"
   ]
  },
  {
   "cell_type": "code",
   "execution_count": 49,
   "metadata": {
    "id": "dlfvfsTzL4Kf",
    "outputId": "50b851e9-404b-4ca9-8487-4fc722de411b"
   },
   "outputs": [
    {
     "data": {
      "text/plain": [
       "<matplotlib.legend.Legend at 0x7f5f1380b5c0>"
      ]
     },
     "execution_count": 49,
     "metadata": {},
     "output_type": "execute_result"
    },
    {
     "data": {
      "image/png": "[encoded data removed]",
      "text/plain": [
       "<Figure size 720x360 with 1 Axes>"
      ]
     },
     "metadata": {
      "needs_background": "light"
     },
     "output_type": "display_data"
    }
   ],
   "source": [
    "plt.figure(figsize=(10,5))\n",
    "sns.lineplot(data=sale_on_year_for_platform('Wii'))\n",
    "plt.title('Количество проданных игр для платформы Wii')\n",
    "plt.xlabel('Год выпуска игры')\n",
    "plt.ylabel('Количество проданных игр')\n",
    "plt.legend('')"
   ]
  },
  {
   "cell_type": "code",
   "execution_count": 50,
   "metadata": {
    "id": "bECghqvhL4Kf",
    "outputId": "638de8c5-64a2-4cc3-9cfb-b8bb4e4b7681"
   },
   "outputs": [
    {
     "data": {
      "text/html": [
       "<div>\n",
       "<style scoped>\n",
       "    .dataframe tbody tr th:only-of-type {\n",
       "        vertical-align: middle;\n",
       "    }\n",
       "\n",
       "    .dataframe tbody tr th {\n",
       "        vertical-align: top;\n",
       "    }\n",
       "\n",
       "    .dataframe thead th {\n",
       "        text-align: right;\n",
       "    }\n",
       "</style>\n",
       "<table border=\"1\" class=\"dataframe\">\n",
       "  <thead>\n",
       "    <tr style=\"text-align: right;\">\n",
       "      <th></th>\n",
       "      <th>all_sales</th>\n",
       "    </tr>\n",
       "    <tr>\n",
       "      <th>year_of_release</th>\n",
       "      <th></th>\n",
       "    </tr>\n",
       "  </thead>\n",
       "  <tbody>\n",
       "    <tr>\n",
       "      <th>2003</th>\n",
       "      <td>3.63</td>\n",
       "    </tr>\n",
       "    <tr>\n",
       "      <th>2002</th>\n",
       "      <td>8.81</td>\n",
       "    </tr>\n",
       "    <tr>\n",
       "      <th>2001</th>\n",
       "      <td>59.17</td>\n",
       "    </tr>\n",
       "    <tr>\n",
       "      <th>2000</th>\n",
       "      <td>142.87</td>\n",
       "    </tr>\n",
       "    <tr>\n",
       "      <th>1999</th>\n",
       "      <td>201.66</td>\n",
       "    </tr>\n",
       "    <tr>\n",
       "      <th>1998</th>\n",
       "      <td>238.49</td>\n",
       "    </tr>\n",
       "    <tr>\n",
       "      <th>1997</th>\n",
       "      <td>177.35</td>\n",
       "    </tr>\n",
       "    <tr>\n",
       "      <th>1996</th>\n",
       "      <td>128.72</td>\n",
       "    </tr>\n",
       "    <tr>\n",
       "      <th>1995</th>\n",
       "      <td>46.12</td>\n",
       "    </tr>\n",
       "    <tr>\n",
       "      <th>1994</th>\n",
       "      <td>5.76</td>\n",
       "    </tr>\n",
       "  </tbody>\n",
       "</table>\n",
       "</div>"
      ],
      "text/plain": [
       "                 all_sales\n",
       "year_of_release           \n",
       "2003                  3.63\n",
       "2002                  8.81\n",
       "2001                 59.17\n",
       "2000                142.87\n",
       "1999                201.66\n",
       "1998                238.49\n",
       "1997                177.35\n",
       "1996                128.72\n",
       "1995                 46.12\n",
       "1994                  5.76"
      ]
     },
     "execution_count": 50,
     "metadata": {},
     "output_type": "execute_result"
    }
   ],
   "source": [
    "sale_on_year_for_platform('PS')\n"
   ]
  },
  {
   "cell_type": "code",
   "execution_count": 51,
   "metadata": {
    "id": "CXSETFU0L4Kg",
    "outputId": "28047bd2-ee97-4b29-e930-af8b47583eb6"
   },
   "outputs": [
    {
     "data": {
      "text/plain": [
       "<matplotlib.legend.Legend at 0x7f5f13861d68>"
      ]
     },
     "execution_count": 51,
     "metadata": {},
     "output_type": "execute_result"
    },
    {
     "data": {
      "image/png": "[encoded data removed]",
      "text/plain": [
       "<Figure size 720x360 with 1 Axes>"
      ]
     },
     "metadata": {
      "needs_background": "light"
     },
     "output_type": "display_data"
    }
   ],
   "source": [
    "plt.figure(figsize=(10,5))\n",
    "sns.lineplot(data=sale_on_year_for_platform('PS'))\n",
    "plt.title('Количество проданных игр для платформы PS')\n",
    "plt.xlabel('Год выпуска игры')\n",
    "plt.ylabel('Количество проданных игр')\n",
    "plt.legend('')"
   ]
  },
  {
   "cell_type": "code",
   "execution_count": 52,
   "metadata": {
    "id": "iQ1pB2CmL4Kg",
    "outputId": "9e87574a-1836-431e-ea22-5ea89b1fbd75",
    "scrolled": true
   },
   "outputs": [
    {
     "data": {
      "text/html": [
       "<div>\n",
       "<style scoped>\n",
       "    .dataframe tbody tr th:only-of-type {\n",
       "        vertical-align: middle;\n",
       "    }\n",
       "\n",
       "    .dataframe tbody tr th {\n",
       "        vertical-align: top;\n",
       "    }\n",
       "\n",
       "    .dataframe thead th {\n",
       "        text-align: right;\n",
       "    }\n",
       "</style>\n",
       "<table border=\"1\" class=\"dataframe\">\n",
       "  <thead>\n",
       "    <tr style=\"text-align: right;\">\n",
       "      <th></th>\n",
       "      <th>all_sales</th>\n",
       "    </tr>\n",
       "    <tr>\n",
       "      <th>year_of_release</th>\n",
       "      <th></th>\n",
       "    </tr>\n",
       "  </thead>\n",
       "  <tbody>\n",
       "    <tr>\n",
       "      <th>2013</th>\n",
       "      <td>3.24</td>\n",
       "    </tr>\n",
       "    <tr>\n",
       "      <th>2012</th>\n",
       "      <td>13.81</td>\n",
       "    </tr>\n",
       "    <tr>\n",
       "      <th>2011</th>\n",
       "      <td>33.45</td>\n",
       "    </tr>\n",
       "    <tr>\n",
       "      <th>2010</th>\n",
       "      <td>103.17</td>\n",
       "    </tr>\n",
       "    <tr>\n",
       "      <th>2009</th>\n",
       "      <td>147.05</td>\n",
       "    </tr>\n",
       "    <tr>\n",
       "      <th>2008</th>\n",
       "      <td>185.83</td>\n",
       "    </tr>\n",
       "    <tr>\n",
       "      <th>2007</th>\n",
       "      <td>188.02</td>\n",
       "    </tr>\n",
       "    <tr>\n",
       "      <th>2006</th>\n",
       "      <td>127.39</td>\n",
       "    </tr>\n",
       "    <tr>\n",
       "      <th>2005</th>\n",
       "      <td>183.26</td>\n",
       "    </tr>\n",
       "    <tr>\n",
       "      <th>2004</th>\n",
       "      <td>21.48</td>\n",
       "    </tr>\n",
       "    <tr>\n",
       "      <th>1985</th>\n",
       "      <td>0.00</td>\n",
       "    </tr>\n",
       "  </tbody>\n",
       "</table>\n",
       "</div>"
      ],
      "text/plain": [
       "                 all_sales\n",
       "year_of_release           \n",
       "2013                  3.24\n",
       "2012                 13.81\n",
       "2011                 33.45\n",
       "2010                103.17\n",
       "2009                147.05\n",
       "2008                185.83\n",
       "2007                188.02\n",
       "2006                127.39\n",
       "2005                183.26\n",
       "2004                 21.48\n",
       "1985                  0.00"
      ]
     },
     "execution_count": 52,
     "metadata": {},
     "output_type": "execute_result"
    }
   ],
   "source": [
    "sale_on_year_for_platform('DS')\n"
   ]
  },
  {
   "cell_type": "code",
   "execution_count": 53,
   "metadata": {},
   "outputs": [],
   "source": [
    "# Избавимся от 1985 года."
   ]
  },
  {
   "cell_type": "code",
   "execution_count": 54,
   "metadata": {
    "id": "ABcxWhWOL4Kg",
    "outputId": "a8dfd027-fa1d-443a-a43e-b2082c16a2ec"
   },
   "outputs": [
    {
     "data": {
      "text/html": [
       "<div>\n",
       "<style scoped>\n",
       "    .dataframe tbody tr th:only-of-type {\n",
       "        vertical-align: middle;\n",
       "    }\n",
       "\n",
       "    .dataframe tbody tr th {\n",
       "        vertical-align: top;\n",
       "    }\n",
       "\n",
       "    .dataframe thead th {\n",
       "        text-align: right;\n",
       "    }\n",
       "</style>\n",
       "<table border=\"1\" class=\"dataframe\">\n",
       "  <thead>\n",
       "    <tr style=\"text-align: right;\">\n",
       "      <th></th>\n",
       "      <th>all_sales</th>\n",
       "    </tr>\n",
       "    <tr>\n",
       "      <th>year_of_release</th>\n",
       "      <th></th>\n",
       "    </tr>\n",
       "  </thead>\n",
       "  <tbody>\n",
       "    <tr>\n",
       "      <th>2013</th>\n",
       "      <td>3.24</td>\n",
       "    </tr>\n",
       "    <tr>\n",
       "      <th>2012</th>\n",
       "      <td>13.81</td>\n",
       "    </tr>\n",
       "    <tr>\n",
       "      <th>2011</th>\n",
       "      <td>33.45</td>\n",
       "    </tr>\n",
       "    <tr>\n",
       "      <th>2010</th>\n",
       "      <td>103.17</td>\n",
       "    </tr>\n",
       "    <tr>\n",
       "      <th>2009</th>\n",
       "      <td>147.05</td>\n",
       "    </tr>\n",
       "    <tr>\n",
       "      <th>2008</th>\n",
       "      <td>185.83</td>\n",
       "    </tr>\n",
       "    <tr>\n",
       "      <th>2007</th>\n",
       "      <td>188.02</td>\n",
       "    </tr>\n",
       "    <tr>\n",
       "      <th>2006</th>\n",
       "      <td>127.39</td>\n",
       "    </tr>\n",
       "    <tr>\n",
       "      <th>2005</th>\n",
       "      <td>183.26</td>\n",
       "    </tr>\n",
       "    <tr>\n",
       "      <th>2004</th>\n",
       "      <td>21.48</td>\n",
       "    </tr>\n",
       "  </tbody>\n",
       "</table>\n",
       "</div>"
      ],
      "text/plain": [
       "                 all_sales\n",
       "year_of_release           \n",
       "2013                  3.24\n",
       "2012                 13.81\n",
       "2011                 33.45\n",
       "2010                103.17\n",
       "2009                147.05\n",
       "2008                185.83\n",
       "2007                188.02\n",
       "2006                127.39\n",
       "2005                183.26\n",
       "2004                 21.48"
      ]
     },
     "execution_count": 54,
     "metadata": {},
     "output_type": "execute_result"
    }
   ],
   "source": [
    "sale_on_year_for_platform_DS = games[(games['platform'] == 'DS') & (games['year_of_release'] > 2003)].pivot_table(index='year_of_release', values='all_sales', aggfunc='sum').sort_values('year_of_release', ascending=False)\n",
    "sale_on_year_for_platform_DS"
   ]
  },
  {
   "cell_type": "code",
   "execution_count": 55,
   "metadata": {
    "id": "tzMkRfJ_L4Kg",
    "outputId": "5fbca2b6-447c-4cf4-ef93-3eedaf4eafb9"
   },
   "outputs": [
    {
     "data": {
      "text/plain": [
       "<matplotlib.legend.Legend at 0x7f5f136ea8d0>"
      ]
     },
     "execution_count": 55,
     "metadata": {},
     "output_type": "execute_result"
    },
    {
     "data": {
      "image/png": "[encoded data removed]",
      "text/plain": [
       "<Figure size 720x360 with 1 Axes>"
      ]
     },
     "metadata": {
      "needs_background": "light"
     },
     "output_type": "display_data"
    }
   ],
   "source": [
    "plt.figure(figsize=(10,5))\n",
    "sns.lineplot(data=sale_on_year_for_platform_DS)\n",
    "plt.title('Количество проданных игр для платформы DS')\n",
    "plt.xlabel('Год выпуска игры')\n",
    "plt.ylabel('Количество проданных игр')\n",
    "plt.legend('')"
   ]
  },
  {
   "cell_type": "code",
   "execution_count": 56,
   "metadata": {},
   "outputs": [],
   "source": [
    "# Так как три консоли - это приставки линейки PS разного поколения, можно наблюдать, как с появлением очередной модели спрос на предыдущие снижался. \n",
    "# Игры для PS продавались 10 лет с 1994 по 2003, максимальные продажи пришлись на промежуток с 1996-2000 с пиком в 1998 году, после 2000 резко упали, \n",
    "# так как появилась приставка Playstation2. Игры для PS2 продавались 11 лет с 2000 по 2011 с максимальными продажами в период 2001 по 2006, \n",
    "# затем на рынке появились игры для PS3 и продержались там 12 лет с 2005 по 2016, соответственно, продажи для PS2 пошли на спад. \n",
    "# Больше всего игр для PS3 было продано с 2008 по 2013 с пиком в 2010-2011. А в 2013 уже появилась приставка PS4, соответственно,\n",
    "# можно ожидать популярность игр для нее в 2016-2018 годах. Игры для платформы Х360 развивались 12 лет, наибольший спрос на них пришелся \n",
    "# на 2008-2013 года с пиком в 2010-2011, игры для консоли Nintendo Wii продавались с 2006 по 2016 с максимум в промежутке от 2006 по 2010 и пиком в 2009.\n",
    "# Карманная консоль Nintendo DS была разработана в 2004 (появление в таблице строки с 85 - какая-то ошибка) и игры для нее продавались до 2013, \n",
    "# популярность этих игр резко возросла почти сразу после выхода в 2005 и продержалась пять лет до 2009, больше всего продаж было сделано в 2007-2008 годы. \n",
    "# Для всех платформ наблюдается примерно одинаковое развитие - время существования определенной модели 10-12 лет \n",
    "# (в случае с PS - это естественная смена моделей на более современные версии), на пике популярности держится около 4 лет. Из популярных раньше платформ\n",
    "# до 2016 продержались Wii, X360 и PS3, продажи для более ранних версий этих приставок сейчас на нуле."
   ]
  },
  {
   "cell_type": "code",
   "execution_count": 57,
   "metadata": {},
   "outputs": [],
   "source": [
    "# Рассчитаем продолжительность существования отобранных платформ."
   ]
  },
  {
   "cell_type": "code",
   "execution_count": 58,
   "metadata": {
    "id": "Sbn9GijwL4Ki",
    "outputId": "0c3c9b08-0a5c-4ac4-e4fe-dc56b9def836"
   },
   "outputs": [
    {
     "name": "stdout",
     "output_type": "stream",
     "text": [
      "Срок существования платформы PS2 12\n",
      "Срок существования платформы PS3 12\n",
      "Срок существования платформы X360 12\n",
      "Срок существования платформы Wii 11\n",
      "Срок существования платформы PS 10\n",
      "Срок существования платформы DS 11\n"
     ]
    }
   ],
   "source": [
    "print('Срок существования платформы PS2', sale_on_year_for_platform('PS2').shape[0])\n",
    "print('Срок существования платформы PS3', sale_on_year_for_platform('PS3').shape[0])\n",
    "print('Срок существования платформы X360', sale_on_year_for_platform('X360').shape[0])\n",
    "print('Срок существования платформы Wii', sale_on_year_for_platform('Wii').shape[0])\n",
    "print('Срок существования платформы PS', sale_on_year_for_platform('PS').shape[0])\n",
    "print('Срок существования платформы DS', sale_on_year_for_platform('DS').shape[0])"
   ]
  },
  {
   "cell_type": "code",
   "execution_count": 59,
   "metadata": {},
   "outputs": [],
   "source": [
    "# Срок существования платформ примерно одинаковый, судя по графикам, рост и снижение продаж тоже происходит примерно одинаково. Отличаются продажи игр \n",
    "# для таких платформ, как Wii и DS. Продажи для Wii начались очень хорошо и быстро вышли на пик, но резко упали после 2009 года. В продажах игр для DS \n",
    "# в 2006 наблюдался небольшой провал. Успех на старте продаж у игр для Wii легко объясним - для охвата наибольшей аудитории на консоль была поставлена\n",
    "# цена на порядок ниже, чем у Xbox и PS3. Таким образом приставка Wii была нацелена на казуальную аудиторию. Возможно, в этом же и причина такого резкого \n",
    "# спада продаж игр для нее - казуалы очень не постоянные игроки, а для геймеров, увлеченных компьютерными играми, игры для данной приставки могли \n",
    "# не понравиться из-за слабой графики. Также можно предположить, что спад продаж вызвал выход в 2012 консоли следующего поколения Wii U и появления игр \n",
    "# для нее. Для Ds провал в 2006, возможно, связан с появление в этом году PlayStation 3 и Nintendo Wii, что могло оттянуть внимание пользователей. \n",
    "# Несмотря на все различия, в анализе стоит учитывать все платформы, так как каких-то аномальных значений в продолжительности существования нет, \n",
    "# то есть выбросов, вызванных каким-то случайными ошибками нет. Можно предположить, что после 2016 года будет наблюдаться такая же картина, однако, \n",
    "# нельзя отрицать возможность выбросов естсетсвенного характера - например, могут быть введены санкции против компании, производящей игры, \n",
    "# и ей придется прекратить выпуск игр на определенный рынок, что сократит продолжительность. Но в этом случае выброс не будет являться результатом ошибки \n",
    "# и даст новое понимание рынка игр, поэтому его также нужно будет учитывать."
   ]
  },
  {
   "cell_type": "code",
   "execution_count": 60,
   "metadata": {},
   "outputs": [],
   "source": [
    "# Необходимо определить, данные за какой период нужно взять, чтобы исключить значимое искажение распределения по платформам в 2016 году. \n",
    "# Для всех платформ общей точкой вхождения является 2006 год (самая рання дата для Wii). Информацию для PS можно дальше не рассматривать, \n",
    "# так как продажи игр для нее закончились еще в 2003."
   ]
  },
  {
   "cell_type": "code",
   "execution_count": 61,
   "metadata": {},
   "outputs": [],
   "source": [
    "# Таким образом, в дальнейшем будем рассматривать данные для платформ PS2, PS3, X360, Wii, DS в промежутке от 2006 по 2016 годы."
   ]
  },
  {
   "cell_type": "code",
   "execution_count": 62,
   "metadata": {
    "id": "7Yv0kgiXL4Ki",
    "outputId": "3def0689-f97e-4cf8-a5d8-0e8177cfe7fb"
   },
   "outputs": [
    {
     "data": {
      "text/html": [
       "<div>\n",
       "<style scoped>\n",
       "    .dataframe tbody tr th:only-of-type {\n",
       "        vertical-align: middle;\n",
       "    }\n",
       "\n",
       "    .dataframe tbody tr th {\n",
       "        vertical-align: top;\n",
       "    }\n",
       "\n",
       "    .dataframe thead th {\n",
       "        text-align: right;\n",
       "    }\n",
       "</style>\n",
       "<table border=\"1\" class=\"dataframe\">\n",
       "  <thead>\n",
       "    <tr style=\"text-align: right;\">\n",
       "      <th></th>\n",
       "      <th>name</th>\n",
       "      <th>platform</th>\n",
       "      <th>year_of_release</th>\n",
       "      <th>genre</th>\n",
       "      <th>na_sales</th>\n",
       "      <th>eu_sales</th>\n",
       "      <th>jp_sales</th>\n",
       "      <th>other_sales</th>\n",
       "      <th>critic_score</th>\n",
       "      <th>user_score</th>\n",
       "      <th>rating</th>\n",
       "      <th>all_sales</th>\n",
       "    </tr>\n",
       "  </thead>\n",
       "  <tbody>\n",
       "    <tr>\n",
       "      <th>0</th>\n",
       "      <td>Wii Sports</td>\n",
       "      <td>Wii</td>\n",
       "      <td>2006</td>\n",
       "      <td>Sports</td>\n",
       "      <td>41.36</td>\n",
       "      <td>28.96</td>\n",
       "      <td>3.77</td>\n",
       "      <td>8.45</td>\n",
       "      <td>76.0</td>\n",
       "      <td>8.0</td>\n",
       "      <td>E</td>\n",
       "      <td>136.69</td>\n",
       "    </tr>\n",
       "    <tr>\n",
       "      <th>2</th>\n",
       "      <td>Mario Kart Wii</td>\n",
       "      <td>Wii</td>\n",
       "      <td>2008</td>\n",
       "      <td>Racing</td>\n",
       "      <td>15.68</td>\n",
       "      <td>12.76</td>\n",
       "      <td>3.79</td>\n",
       "      <td>3.29</td>\n",
       "      <td>82.0</td>\n",
       "      <td>8.3</td>\n",
       "      <td>E</td>\n",
       "      <td>57.25</td>\n",
       "    </tr>\n",
       "    <tr>\n",
       "      <th>3</th>\n",
       "      <td>Wii Sports Resort</td>\n",
       "      <td>Wii</td>\n",
       "      <td>2009</td>\n",
       "      <td>Sports</td>\n",
       "      <td>15.61</td>\n",
       "      <td>10.93</td>\n",
       "      <td>3.28</td>\n",
       "      <td>2.95</td>\n",
       "      <td>80.0</td>\n",
       "      <td>8.0</td>\n",
       "      <td>E</td>\n",
       "      <td>51.35</td>\n",
       "    </tr>\n",
       "    <tr>\n",
       "      <th>6</th>\n",
       "      <td>New Super Mario Bros.</td>\n",
       "      <td>DS</td>\n",
       "      <td>2006</td>\n",
       "      <td>Platform</td>\n",
       "      <td>11.28</td>\n",
       "      <td>9.14</td>\n",
       "      <td>6.50</td>\n",
       "      <td>2.88</td>\n",
       "      <td>89.0</td>\n",
       "      <td>8.5</td>\n",
       "      <td>E</td>\n",
       "      <td>41.58</td>\n",
       "    </tr>\n",
       "    <tr>\n",
       "      <th>7</th>\n",
       "      <td>Wii Play</td>\n",
       "      <td>Wii</td>\n",
       "      <td>2006</td>\n",
       "      <td>Misc</td>\n",
       "      <td>13.96</td>\n",
       "      <td>9.18</td>\n",
       "      <td>2.93</td>\n",
       "      <td>2.84</td>\n",
       "      <td>58.0</td>\n",
       "      <td>6.6</td>\n",
       "      <td>E</td>\n",
       "      <td>44.34</td>\n",
       "    </tr>\n",
       "    <tr>\n",
       "      <th>8</th>\n",
       "      <td>New Super Mario Bros. Wii</td>\n",
       "      <td>Wii</td>\n",
       "      <td>2009</td>\n",
       "      <td>Platform</td>\n",
       "      <td>14.44</td>\n",
       "      <td>6.94</td>\n",
       "      <td>4.70</td>\n",
       "      <td>2.24</td>\n",
       "      <td>87.0</td>\n",
       "      <td>8.4</td>\n",
       "      <td>E</td>\n",
       "      <td>37.50</td>\n",
       "    </tr>\n",
       "    <tr>\n",
       "      <th>13</th>\n",
       "      <td>Wii Fit</td>\n",
       "      <td>Wii</td>\n",
       "      <td>2007</td>\n",
       "      <td>Sports</td>\n",
       "      <td>8.92</td>\n",
       "      <td>8.03</td>\n",
       "      <td>3.60</td>\n",
       "      <td>2.15</td>\n",
       "      <td>80.0</td>\n",
       "      <td>7.7</td>\n",
       "      <td>E</td>\n",
       "      <td>35.16</td>\n",
       "    </tr>\n",
       "    <tr>\n",
       "      <th>14</th>\n",
       "      <td>Kinect Adventures!</td>\n",
       "      <td>X360</td>\n",
       "      <td>2010</td>\n",
       "      <td>Misc</td>\n",
       "      <td>15.00</td>\n",
       "      <td>4.89</td>\n",
       "      <td>0.24</td>\n",
       "      <td>1.69</td>\n",
       "      <td>61.0</td>\n",
       "      <td>6.3</td>\n",
       "      <td>E</td>\n",
       "      <td>31.36</td>\n",
       "    </tr>\n",
       "    <tr>\n",
       "      <th>15</th>\n",
       "      <td>Wii Fit Plus</td>\n",
       "      <td>Wii</td>\n",
       "      <td>2009</td>\n",
       "      <td>Sports</td>\n",
       "      <td>9.01</td>\n",
       "      <td>8.49</td>\n",
       "      <td>2.53</td>\n",
       "      <td>1.77</td>\n",
       "      <td>80.0</td>\n",
       "      <td>7.4</td>\n",
       "      <td>E</td>\n",
       "      <td>36.25</td>\n",
       "    </tr>\n",
       "    <tr>\n",
       "      <th>16</th>\n",
       "      <td>Grand Theft Auto V</td>\n",
       "      <td>PS3</td>\n",
       "      <td>2013</td>\n",
       "      <td>Action</td>\n",
       "      <td>7.02</td>\n",
       "      <td>9.09</td>\n",
       "      <td>0.98</td>\n",
       "      <td>3.96</td>\n",
       "      <td>97.0</td>\n",
       "      <td>8.2</td>\n",
       "      <td>M</td>\n",
       "      <td>38.25</td>\n",
       "    </tr>\n",
       "  </tbody>\n",
       "</table>\n",
       "</div>"
      ],
      "text/plain": [
       "                         name platform  year_of_release     genre  na_sales  \\\n",
       "0                  Wii Sports      Wii             2006    Sports     41.36   \n",
       "2              Mario Kart Wii      Wii             2008    Racing     15.68   \n",
       "3           Wii Sports Resort      Wii             2009    Sports     15.61   \n",
       "6       New Super Mario Bros.       DS             2006  Platform     11.28   \n",
       "7                    Wii Play      Wii             2006      Misc     13.96   \n",
       "8   New Super Mario Bros. Wii      Wii             2009  Platform     14.44   \n",
       "13                    Wii Fit      Wii             2007    Sports      8.92   \n",
       "14         Kinect Adventures!     X360             2010      Misc     15.00   \n",
       "15               Wii Fit Plus      Wii             2009    Sports      9.01   \n",
       "16         Grand Theft Auto V      PS3             2013    Action      7.02   \n",
       "\n",
       "    eu_sales  jp_sales  other_sales  critic_score  user_score rating  \\\n",
       "0      28.96      3.77         8.45          76.0         8.0      E   \n",
       "2      12.76      3.79         3.29          82.0         8.3      E   \n",
       "3      10.93      3.28         2.95          80.0         8.0      E   \n",
       "6       9.14      6.50         2.88          89.0         8.5      E   \n",
       "7       9.18      2.93         2.84          58.0         6.6      E   \n",
       "8       6.94      4.70         2.24          87.0         8.4      E   \n",
       "13      8.03      3.60         2.15          80.0         7.7      E   \n",
       "14      4.89      0.24         1.69          61.0         6.3      E   \n",
       "15      8.49      2.53         1.77          80.0         7.4      E   \n",
       "16      9.09      0.98         3.96          97.0         8.2      M   \n",
       "\n",
       "    all_sales  \n",
       "0      136.69  \n",
       "2       57.25  \n",
       "3       51.35  \n",
       "6       41.58  \n",
       "7       44.34  \n",
       "8       37.50  \n",
       "13      35.16  \n",
       "14      31.36  \n",
       "15      36.25  \n",
       "16      38.25  "
      ]
     },
     "execution_count": 62,
     "metadata": {},
     "output_type": "execute_result"
    }
   ],
   "source": [
    "top_platforms = games[ (games['platform'].isin(['PS2', 'PS3', 'X360', 'Wii', 'DS']) & (games['year_of_release'] >2005))]\n",
    "top_platforms.head(10)"
   ]
  },
  {
   "cell_type": "code",
   "execution_count": 63,
   "metadata": {},
   "outputs": [],
   "source": [
    "# Так как к 2017 году индустрия компьютерных игр находится на спаде, информация о периоде расцвета исказит результаты анализа, сократим период\n",
    "# до промежутка 2010-2016. Часть приставок, которые обозначили выше как наиболее популярные, уже не существуют к этому времени, поэтому не будем \n",
    "# первоначально ограничиваться списком PS2, PS3, X360, Wii, DS и проверим, какие приставки остались и какие из новых лидеров появились в последние пять лет.\n",
    "# За последние пять лет в лидерах оставались PS3 и X360, появилась портативная приставка следующего поколения от Nintendo 3DS, поступившая в продажу \n",
    "# в 2011 году. Также появились игры для PC. Для дальнейшего анализа отфильтруем таблицу по пяти самым популярным платформам."
   ]
  },
  {
   "cell_type": "code",
   "execution_count": 64,
   "metadata": {
    "id": "DlZpv2cVL4Kk",
    "outputId": "3b2aeda7-2470-43c6-c78b-874afe02dc85"
   },
   "outputs": [
    {
     "data": {
      "text/html": [
       "<div>\n",
       "<style scoped>\n",
       "    .dataframe tbody tr th:only-of-type {\n",
       "        vertical-align: middle;\n",
       "    }\n",
       "\n",
       "    .dataframe tbody tr th {\n",
       "        vertical-align: top;\n",
       "    }\n",
       "\n",
       "    .dataframe thead th {\n",
       "        text-align: right;\n",
       "    }\n",
       "</style>\n",
       "<table border=\"1\" class=\"dataframe\">\n",
       "  <thead>\n",
       "    <tr style=\"text-align: right;\">\n",
       "      <th></th>\n",
       "      <th>name</th>\n",
       "      <th>platform</th>\n",
       "      <th>year_of_release</th>\n",
       "      <th>genre</th>\n",
       "      <th>na_sales</th>\n",
       "      <th>eu_sales</th>\n",
       "      <th>jp_sales</th>\n",
       "      <th>other_sales</th>\n",
       "      <th>critic_score</th>\n",
       "      <th>user_score</th>\n",
       "      <th>rating</th>\n",
       "      <th>all_sales</th>\n",
       "    </tr>\n",
       "  </thead>\n",
       "  <tbody>\n",
       "    <tr>\n",
       "      <th>14</th>\n",
       "      <td>Kinect Adventures!</td>\n",
       "      <td>X360</td>\n",
       "      <td>2010</td>\n",
       "      <td>Misc</td>\n",
       "      <td>15.00</td>\n",
       "      <td>4.89</td>\n",
       "      <td>0.24</td>\n",
       "      <td>1.69</td>\n",
       "      <td>61.0</td>\n",
       "      <td>6.3</td>\n",
       "      <td>E</td>\n",
       "      <td>31.36</td>\n",
       "    </tr>\n",
       "    <tr>\n",
       "      <th>16</th>\n",
       "      <td>Grand Theft Auto V</td>\n",
       "      <td>PS3</td>\n",
       "      <td>2013</td>\n",
       "      <td>Action</td>\n",
       "      <td>7.02</td>\n",
       "      <td>9.09</td>\n",
       "      <td>0.98</td>\n",
       "      <td>3.96</td>\n",
       "      <td>97.0</td>\n",
       "      <td>8.2</td>\n",
       "      <td>M</td>\n",
       "      <td>38.25</td>\n",
       "    </tr>\n",
       "    <tr>\n",
       "      <th>23</th>\n",
       "      <td>Grand Theft Auto V</td>\n",
       "      <td>X360</td>\n",
       "      <td>2013</td>\n",
       "      <td>Action</td>\n",
       "      <td>9.66</td>\n",
       "      <td>5.14</td>\n",
       "      <td>0.06</td>\n",
       "      <td>1.41</td>\n",
       "      <td>97.0</td>\n",
       "      <td>8.1</td>\n",
       "      <td>M</td>\n",
       "      <td>26.49</td>\n",
       "    </tr>\n",
       "    <tr>\n",
       "      <th>29</th>\n",
       "      <td>Call of Duty: Modern Warfare 3</td>\n",
       "      <td>X360</td>\n",
       "      <td>2011</td>\n",
       "      <td>Shooter</td>\n",
       "      <td>9.04</td>\n",
       "      <td>4.24</td>\n",
       "      <td>0.13</td>\n",
       "      <td>1.32</td>\n",
       "      <td>88.0</td>\n",
       "      <td>3.4</td>\n",
       "      <td>M</td>\n",
       "      <td>23.08</td>\n",
       "    </tr>\n",
       "    <tr>\n",
       "      <th>31</th>\n",
       "      <td>Call of Duty: Black Ops 3</td>\n",
       "      <td>PS4</td>\n",
       "      <td>2015</td>\n",
       "      <td>Shooter</td>\n",
       "      <td>6.03</td>\n",
       "      <td>5.86</td>\n",
       "      <td>0.36</td>\n",
       "      <td>2.38</td>\n",
       "      <td>NaN</td>\n",
       "      <td>NaN</td>\n",
       "      <td>NR</td>\n",
       "      <td>25.99</td>\n",
       "    </tr>\n",
       "    <tr>\n",
       "      <th>32</th>\n",
       "      <td>Call of Duty: Black Ops</td>\n",
       "      <td>X360</td>\n",
       "      <td>2010</td>\n",
       "      <td>Shooter</td>\n",
       "      <td>9.70</td>\n",
       "      <td>3.68</td>\n",
       "      <td>0.11</td>\n",
       "      <td>1.13</td>\n",
       "      <td>87.0</td>\n",
       "      <td>6.3</td>\n",
       "      <td>M</td>\n",
       "      <td>21.87</td>\n",
       "    </tr>\n",
       "    <tr>\n",
       "      <th>33</th>\n",
       "      <td>Pokemon X/Pokemon Y</td>\n",
       "      <td>3DS</td>\n",
       "      <td>2013</td>\n",
       "      <td>Role-Playing</td>\n",
       "      <td>5.28</td>\n",
       "      <td>4.19</td>\n",
       "      <td>4.35</td>\n",
       "      <td>0.78</td>\n",
       "      <td>NaN</td>\n",
       "      <td>NaN</td>\n",
       "      <td>NR</td>\n",
       "      <td>18.63</td>\n",
       "    </tr>\n",
       "    <tr>\n",
       "      <th>34</th>\n",
       "      <td>Call of Duty: Black Ops II</td>\n",
       "      <td>PS3</td>\n",
       "      <td>2012</td>\n",
       "      <td>Shooter</td>\n",
       "      <td>4.99</td>\n",
       "      <td>5.73</td>\n",
       "      <td>0.65</td>\n",
       "      <td>2.42</td>\n",
       "      <td>83.0</td>\n",
       "      <td>5.3</td>\n",
       "      <td>M</td>\n",
       "      <td>24.60</td>\n",
       "    </tr>\n",
       "    <tr>\n",
       "      <th>35</th>\n",
       "      <td>Call of Duty: Black Ops II</td>\n",
       "      <td>X360</td>\n",
       "      <td>2012</td>\n",
       "      <td>Shooter</td>\n",
       "      <td>8.25</td>\n",
       "      <td>4.24</td>\n",
       "      <td>0.07</td>\n",
       "      <td>1.12</td>\n",
       "      <td>83.0</td>\n",
       "      <td>4.8</td>\n",
       "      <td>M</td>\n",
       "      <td>22.09</td>\n",
       "    </tr>\n",
       "    <tr>\n",
       "      <th>37</th>\n",
       "      <td>Call of Duty: Modern Warfare 3</td>\n",
       "      <td>PS3</td>\n",
       "      <td>2011</td>\n",
       "      <td>Shooter</td>\n",
       "      <td>5.54</td>\n",
       "      <td>5.73</td>\n",
       "      <td>0.49</td>\n",
       "      <td>1.57</td>\n",
       "      <td>88.0</td>\n",
       "      <td>3.2</td>\n",
       "      <td>M</td>\n",
       "      <td>24.30</td>\n",
       "    </tr>\n",
       "  </tbody>\n",
       "</table>\n",
       "</div>"
      ],
      "text/plain": [
       "                              name platform  year_of_release         genre  \\\n",
       "14              Kinect Adventures!     X360             2010          Misc   \n",
       "16              Grand Theft Auto V      PS3             2013        Action   \n",
       "23              Grand Theft Auto V     X360             2013        Action   \n",
       "29  Call of Duty: Modern Warfare 3     X360             2011       Shooter   \n",
       "31       Call of Duty: Black Ops 3      PS4             2015       Shooter   \n",
       "32         Call of Duty: Black Ops     X360             2010       Shooter   \n",
       "33             Pokemon X/Pokemon Y      3DS             2013  Role-Playing   \n",
       "34      Call of Duty: Black Ops II      PS3             2012       Shooter   \n",
       "35      Call of Duty: Black Ops II     X360             2012       Shooter   \n",
       "37  Call of Duty: Modern Warfare 3      PS3             2011       Shooter   \n",
       "\n",
       "    na_sales  eu_sales  jp_sales  other_sales  critic_score  user_score  \\\n",
       "14     15.00      4.89      0.24         1.69          61.0         6.3   \n",
       "16      7.02      9.09      0.98         3.96          97.0         8.2   \n",
       "23      9.66      5.14      0.06         1.41          97.0         8.1   \n",
       "29      9.04      4.24      0.13         1.32          88.0         3.4   \n",
       "31      6.03      5.86      0.36         2.38           NaN         NaN   \n",
       "32      9.70      3.68      0.11         1.13          87.0         6.3   \n",
       "33      5.28      4.19      4.35         0.78           NaN         NaN   \n",
       "34      4.99      5.73      0.65         2.42          83.0         5.3   \n",
       "35      8.25      4.24      0.07         1.12          83.0         4.8   \n",
       "37      5.54      5.73      0.49         1.57          88.0         3.2   \n",
       "\n",
       "   rating  all_sales  \n",
       "14      E      31.36  \n",
       "16      M      38.25  \n",
       "23      M      26.49  \n",
       "29      M      23.08  \n",
       "31     NR      25.99  \n",
       "32      M      21.87  \n",
       "33     NR      18.63  \n",
       "34      M      24.60  \n",
       "35      M      22.09  \n",
       "37      M      24.30  "
      ]
     },
     "execution_count": 64,
     "metadata": {},
     "output_type": "execute_result"
    }
   ],
   "source": [
    "top_platforms = games[(games['platform'].isin(['PS3', 'X360', 'PS4', 'Wii', '3DS']) & (games['year_of_release'] >2009))]\n",
    "top_platforms.head(10)"
   ]
  },
  {
   "cell_type": "code",
   "execution_count": 65,
   "metadata": {},
   "outputs": [],
   "source": [
    "# Нужно определить, какие платформы лидируют по продажам, растут или падают, и выбрать несколько потенциально прибыльных платформ. \n",
    "# Остановимся на последнем годе."
   ]
  },
  {
   "cell_type": "code",
   "execution_count": 66,
   "metadata": {
    "id": "sOKEYMDdL4Kk",
    "outputId": "f2e2ee84-deba-4d2a-bddf-b7bab3484348"
   },
   "outputs": [
    {
     "data": {
      "text/html": [
       "<div>\n",
       "<style scoped>\n",
       "    .dataframe tbody tr th:only-of-type {\n",
       "        vertical-align: middle;\n",
       "    }\n",
       "\n",
       "    .dataframe tbody tr th {\n",
       "        vertical-align: top;\n",
       "    }\n",
       "\n",
       "    .dataframe thead th {\n",
       "        text-align: right;\n",
       "    }\n",
       "</style>\n",
       "<table border=\"1\" class=\"dataframe\">\n",
       "  <thead>\n",
       "    <tr style=\"text-align: right;\">\n",
       "      <th></th>\n",
       "      <th>platform</th>\n",
       "      <th>all_sales</th>\n",
       "    </tr>\n",
       "  </thead>\n",
       "  <tbody>\n",
       "    <tr>\n",
       "      <th>3</th>\n",
       "      <td>PS4</td>\n",
       "      <td>127.07</td>\n",
       "    </tr>\n",
       "    <tr>\n",
       "      <th>8</th>\n",
       "      <td>XOne</td>\n",
       "      <td>45.40</td>\n",
       "    </tr>\n",
       "    <tr>\n",
       "      <th>1</th>\n",
       "      <td>PC</td>\n",
       "      <td>12.31</td>\n",
       "    </tr>\n",
       "    <tr>\n",
       "      <th>0</th>\n",
       "      <td>3DS</td>\n",
       "      <td>11.77</td>\n",
       "    </tr>\n",
       "    <tr>\n",
       "      <th>6</th>\n",
       "      <td>WiiU</td>\n",
       "      <td>6.89</td>\n",
       "    </tr>\n",
       "    <tr>\n",
       "      <th>2</th>\n",
       "      <td>PS3</td>\n",
       "      <td>4.82</td>\n",
       "    </tr>\n",
       "    <tr>\n",
       "      <th>7</th>\n",
       "      <td>X360</td>\n",
       "      <td>2.94</td>\n",
       "    </tr>\n",
       "    <tr>\n",
       "      <th>4</th>\n",
       "      <td>PSV</td>\n",
       "      <td>1.47</td>\n",
       "    </tr>\n",
       "    <tr>\n",
       "      <th>5</th>\n",
       "      <td>Wii</td>\n",
       "      <td>0.40</td>\n",
       "    </tr>\n",
       "  </tbody>\n",
       "</table>\n",
       "</div>"
      ],
      "text/plain": [
       "  platform  all_sales\n",
       "3      PS4     127.07\n",
       "8     XOne      45.40\n",
       "1       PC      12.31\n",
       "0      3DS      11.77\n",
       "6     WiiU       6.89\n",
       "2      PS3       4.82\n",
       "7     X360       2.94\n",
       "4      PSV       1.47\n",
       "5      Wii       0.40"
      ]
     },
     "execution_count": 66,
     "metadata": {},
     "output_type": "execute_result"
    }
   ],
   "source": [
    "games_in_2016 = games[(games['year_of_release'] == 2016)]\n",
    "best_in_2016 = games_in_2016.pivot_table(index=['platform'], values='all_sales', aggfunc='sum').reset_index().sort_values(by='all_sales', ascending=False)\n",
    "best_in_2016"
   ]
  },
  {
   "cell_type": "code",
   "execution_count": 67,
   "metadata": {},
   "outputs": [],
   "source": [
    "# Самыми популярными в 2016 году стали игры для PS4 и XOne. Однако, судя по уровню продаж игр для платформ в целом, данная отрасль не перспективна \n",
    "# из-за технического и морального устаревания консолей и приставок, и популярности мобильных игр."
   ]
  },
  {
   "cell_type": "code",
   "execution_count": 68,
   "metadata": {
    "id": "Hz82i55TL4Kk",
    "outputId": "abcd8ef7-9d13-452c-8b77-bb985d154f86"
   },
   "outputs": [
    {
     "data": {
      "text/plain": [
       "Text(0, 0.5, 'Количество продаж')"
      ]
     },
     "execution_count": 68,
     "metadata": {},
     "output_type": "execute_result"
    },
    {
     "data": {
      "image/png": "[encoded data removed]",
      "text/plain": [
       "<Figure size 1440x720 with 1 Axes>"
      ]
     },
     "metadata": {
      "needs_background": "light"
     },
     "output_type": "display_data"
    }
   ],
   "source": [
    "plt.figure(figsize=(20,10))\n",
    "sns.barplot(x=best_in_2016['platform'],y=best_in_2016['all_sales'])\n",
    "plt.title('Продажи игр для разных платформ за 2016 год')\n",
    "plt.xlabel('Название платформы')\n",
    "plt.ylabel('Количество продаж')"
   ]
  },
  {
   "cell_type": "code",
   "execution_count": 69,
   "metadata": {},
   "outputs": [],
   "source": [
    "# Построим график «ящик с усами» по глобальным продажам каждой игры и разбивкой по платформам. Изучим, велика ли разница в продажах и в средних продажах \n",
    "# на разных платформах."
   ]
  },
  {
   "cell_type": "code",
   "execution_count": 70,
   "metadata": {
    "id": "WZABOPRfL4Kl",
    "outputId": "b88ce568-cf05-4574-ad7b-b6ed368d535c"
   },
   "outputs": [
    {
     "data": {
      "image/png": "[encoded data removed]",
      "text/plain": [
       "<Figure size 1440x1440 with 1 Axes>"
      ]
     },
     "metadata": {
      "needs_background": "light"
     },
     "output_type": "display_data"
    }
   ],
   "source": [
    "plt.figure(figsize=(20,20))\n",
    "sns.boxplot(data=top_platforms, x='platform', y='all_sales')\n",
    "plt.show()\n"
   ]
  },
  {
   "cell_type": "code",
   "execution_count": 71,
   "metadata": {},
   "outputs": [],
   "source": [
    "# Избавимся от выбросов."
   ]
  },
  {
   "cell_type": "code",
   "execution_count": 72,
   "metadata": {
    "id": "1O9QK4yzL4Km"
   },
   "outputs": [],
   "source": [
    "top_platforms = top_platforms[top_platforms['all_sales']<2]"
   ]
  },
  {
   "cell_type": "code",
   "execution_count": 73,
   "metadata": {
    "id": "sStNmRV1L4Km",
    "outputId": "285ebd92-0229-4925-e462-a69d10b90b9a"
   },
   "outputs": [
    {
     "data": {
      "image/png": "[encoded data removed]",
      "text/plain": [
       "<Figure size 1440x1440 with 1 Axes>"
      ]
     },
     "metadata": {
      "needs_background": "light"
     },
     "output_type": "display_data"
    }
   ],
   "source": [
    "plt.figure(figsize=(20,20))\n",
    "sns.boxplot(data=top_platforms, x='platform', y='all_sales')\n",
    "plt.show()\n"
   ]
  },
  {
   "cell_type": "code",
   "execution_count": 74,
   "metadata": {},
   "outputs": [],
   "source": [
    "# Продажи по всем платформам протекают по разному. Больше всего продаж у X360, затем у PS3, на третьем месте PS4. Медиана для Wii и PS3 примерно одинаковы,\n",
    "# для другие же платформ они разительно отличаются."
   ]
  },
  {
   "cell_type": "code",
   "execution_count": 75,
   "metadata": {
    "id": "LapuF24jL4Km",
    "outputId": "b40bcb20-53f9-4c77-a879-886c060cbaba"
   },
   "outputs": [
    {
     "data": {
      "text/plain": [
       "count    2590.000000\n",
       "mean        0.382124\n",
       "std         0.470046\n",
       "min         0.000000\n",
       "25%         0.030000\n",
       "50%         0.180000\n",
       "75%         0.550000\n",
       "max         1.990000\n",
       "Name: all_sales, dtype: float64"
      ]
     },
     "execution_count": 75,
     "metadata": {},
     "output_type": "execute_result"
    }
   ],
   "source": [
    "top_platforms['all_sales'].describe()"
   ]
  },
  {
   "cell_type": "code",
   "execution_count": 76,
   "metadata": {},
   "outputs": [],
   "source": [
    "# Судя по графику, наиболее гармонично выглядят продажи игр для X360 - половина всех игр для нее лучше продается, чем для других платформ. \n",
    "# Стоимость игр разных платформ примерно одинакова, сама же приставка X360 дешевле аналогичной приставки от Sony, что может быть одной из причин того, \n",
    "# что эти игры хорошо продаются - сама приставка более массово распространена. Для 3DS наоборот, почти у всех игр продажы низкие, те почти все игры \n",
    "# достаточно не популярны. Данные об играх для платфоры PS3 имеют самую высокую степень разброса среднеквадратичного отклонения и дисперсии, \n",
    "# следовательно, уровень продаж для разных игр этой платфоры сильно различается. Таким образом, стабильнее всего продаются игры для Х360, \n",
    "# возможно из-за того, что большинство игр одинаково популярны. Меньше всего продаж у игр для японсокй приставки 3DS, можно предположить, что большинство\n",
    "# игр для нее остается на внутреннем японском рынке, что снижает общие продажи. Продажи игр для PS3 наиболее неоднородны - значит, среди игр много \n",
    "# как очень популярных, так и оставшихся незамеченными."
   ]
  },
  {
   "cell_type": "code",
   "execution_count": 77,
   "metadata": {},
   "outputs": [],
   "source": [
    "# Посмотрим, как влияют на продажи внутри одной популярной платформы отзывы пользователей и критиков. Для этого построим диаграмму рассеяния\n",
    "# и посчитаем корреляцию между отзывами и продажами. По общему числу продаж лидирует PS2.\n",
    "# Для начала оценим влияние отзывов пользователей."
   ]
  },
  {
   "cell_type": "code",
   "execution_count": 78,
   "metadata": {
    "id": "jHt4684PL4Kn",
    "outputId": "1c7ce272-f670-4d49-fdba-56e38596f2cc"
   },
   "outputs": [
    {
     "data": {
      "text/plain": [
       "<matplotlib.axes._subplots.AxesSubplot at 0x7f5f13190470>"
      ]
     },
     "execution_count": 78,
     "metadata": {},
     "output_type": "execute_result"
    },
    {
     "data": {
      "image/png": "[encoded data removed]",
      "text/plain": [
       "<Figure size 1440x720 with 1 Axes>"
      ]
     },
     "metadata": {
      "needs_background": "light"
     },
     "output_type": "display_data"
    }
   ],
   "source": [
    "games_for_ps2 = games[games['platform']=='PS2']\n",
    "plt.figure(figsize=(20,10))\n",
    "sns.scatterplot(x='user_score', y='all_sales', data=games_for_ps2)\n"
   ]
  },
  {
   "cell_type": "code",
   "execution_count": 79,
   "metadata": {},
   "outputs": [],
   "source": [
    "# Избавимся от выбросов."
   ]
  },
  {
   "cell_type": "code",
   "execution_count": 80,
   "metadata": {
    "id": "3O__geHwL4Kn",
    "outputId": "a52bbc08-b16a-40c3-b303-2cb0a25d9c40"
   },
   "outputs": [
    {
     "data": {
      "text/plain": [
       "<matplotlib.axes._subplots.AxesSubplot at 0x7f5f131853c8>"
      ]
     },
     "execution_count": 80,
     "metadata": {},
     "output_type": "execute_result"
    },
    {
     "data": {
      "image/png": "[encoded data removed]",
      "text/plain": [
       "<Figure size 1440x720 with 1 Axes>"
      ]
     },
     "metadata": {
      "needs_background": "light"
     },
     "output_type": "display_data"
    }
   ],
   "source": [
    "games_for_ps2 = games[(games['platform']=='PS2') & (games['all_sales']<10)]\n",
    "plt.figure(figsize=(20,10))\n",
    "sns.scatterplot(x='user_score', y='all_sales', data=games_for_ps2)"
   ]
  },
  {
   "cell_type": "code",
   "execution_count": 81,
   "metadata": {},
   "outputs": [],
   "source": [
    "# Посчитаем корреляцию между отзывами и продажами"
   ]
  },
  {
   "cell_type": "code",
   "execution_count": 82,
   "metadata": {
    "id": "HsqDc4d6L4Ko",
    "outputId": "e0be6b1d-f007-4858-fda0-0404aff408d8"
   },
   "outputs": [
    {
     "data": {
      "text/plain": [
       "0.157871203087475"
      ]
     },
     "execution_count": 82,
     "metadata": {},
     "output_type": "execute_result"
    }
   ],
   "source": [
    "games_for_ps2['user_score'].corr(games_for_ps2['all_sales'])"
   ]
  },
  {
   "cell_type": "code",
   "execution_count": 83,
   "metadata": {},
   "outputs": [],
   "source": [
    "# Корреляция слабая положительная, то есть отзывы пользователей очень незначительно повлияют на решение других пользователей о покупке.\n",
    "# Теперь рассмотрим влияние отзывов критиков."
   ]
  },
  {
   "cell_type": "code",
   "execution_count": 84,
   "metadata": {
    "id": "JBOTikd2L4Ko",
    "outputId": "66fcf15d-b565-45f6-c1de-b83ada8e654f"
   },
   "outputs": [
    {
     "data": {
      "text/plain": [
       "<matplotlib.axes._subplots.AxesSubplot at 0x7f5f130e3438>"
      ]
     },
     "execution_count": 84,
     "metadata": {},
     "output_type": "execute_result"
    },
    {
     "data": {
      "image/png": "[encoded data removed]",
      "text/plain": [
       "<Figure size 1440x720 with 1 Axes>"
      ]
     },
     "metadata": {
      "needs_background": "light"
     },
     "output_type": "display_data"
    }
   ],
   "source": [
    "plt.figure(figsize=(20,10))\n",
    "sns.scatterplot(x='critic_score', y='all_sales', data=games_for_ps2)"
   ]
  },
  {
   "cell_type": "code",
   "execution_count": 85,
   "metadata": {
    "id": "pO2N_mLJL4Ko",
    "outputId": "91bcc2c4-efa6-412e-cf23-9c16377ec413"
   },
   "outputs": [
    {
     "data": {
      "text/plain": [
       "0.38912167943844206"
      ]
     },
     "execution_count": 85,
     "metadata": {},
     "output_type": "execute_result"
    }
   ],
   "source": [
    "games_for_ps2['critic_score'].corr(games_for_ps2['all_sales'])"
   ]
  },
  {
   "cell_type": "code",
   "execution_count": 86,
   "metadata": {},
   "outputs": [],
   "source": [
    "# Корреляция умеренная положительная, то есть отзывы критиков у покупателей вызывают больше доверия, чем отзывы других пользователей, \n",
    "# и больше влияют на решение совершить покупку. Соотнесем эти выводы с продажами игр на других платформах."
   ]
  },
  {
   "cell_type": "code",
   "execution_count": 87,
   "metadata": {
    "id": "VTpT9g3cL4Kp",
    "outputId": "a88f38b9-0e31-48c4-ef16-82d1f7f3c13d"
   },
   "outputs": [
    {
     "name": "stdout",
     "output_type": "stream",
     "text": [
      "Коэффициент корреляция между отзывами пользователей и продажами для PS2 0.2312590047935374\n",
      "Коэффициент корреляция между отзывами критиков и продажами для PS2 0.49644940103584606\n"
     ]
    }
   ],
   "source": [
    "games_for_ps3 = games[(games['platform']=='PS3') & (games['all_sales']<10)]\n",
    "print('Коэффициент корреляция между отзывами пользователей и продажами для PS2', games_for_ps3['user_score'].corr(games_for_ps3['all_sales']))\n",
    "print('Коэффициент корреляция между отзывами критиков и продажами для PS2', games_for_ps3['critic_score'].corr(games_for_ps3['all_sales']))"
   ]
  },
  {
   "cell_type": "code",
   "execution_count": 88,
   "metadata": {
    "id": "uf5ZM-CsL4Kp",
    "outputId": "5d8b0378-ea1d-4935-bc96-34e1c5306a85"
   },
   "outputs": [
    {
     "name": "stdout",
     "output_type": "stream",
     "text": [
      "Коэффициент корреляция между отзывами пользователей и продажами для X360 0.21554322258428008\n",
      "Коэффициент корреляция между отзывами критиков и продажами для X360 0.48589058503387467\n"
     ]
    }
   ],
   "source": [
    "games_for_X360 = games[(games['platform']=='X360') & (games['all_sales']<10)]\n",
    "print('Коэффициент корреляция между отзывами пользователей и продажами для X360', games_for_X360['user_score'].corr(games_for_X360['all_sales']))\n",
    "print('Коэффициент корреляция между отзывами критиков и продажами для X360', games_for_X360['critic_score'].corr(games_for_X360['all_sales']))"
   ]
  },
  {
   "cell_type": "code",
   "execution_count": 89,
   "metadata": {
    "id": "A1LbFV6XL4Kp",
    "outputId": "c6373196-2b6a-4117-abfd-a43e9c08ddd6"
   },
   "outputs": [
    {
     "name": "stdout",
     "output_type": "stream",
     "text": [
      "Коэффициент корреляция между отзывами пользователей и продажами для DS 0.09250398936330283\n",
      "Коэффициент корреляция между отзывами критиков и продажами для DS 0.229318855021972\n"
     ]
    }
   ],
   "source": [
    "games_for_DS = games[(games['platform']=='DS') & (games['all_sales']<10)]\n",
    "print('Коэффициент корреляция между отзывами пользователей и продажами для DS', games_for_DS['user_score'].corr(games_for_DS['all_sales']))\n",
    "print('Коэффициент корреляция между отзывами критиков и продажами для DS', games_for_DS['critic_score'].corr(games_for_DS['all_sales']))"
   ]
  },
  {
   "cell_type": "code",
   "execution_count": 90,
   "metadata": {
    "id": "-pSDD3_FL4Kq",
    "outputId": "662bcc77-b19d-4299-82d0-f617e123ee38"
   },
   "outputs": [
    {
     "name": "stdout",
     "output_type": "stream",
     "text": [
      "Коэффициент корреляция между отзывами пользователей и продажами для Wii 0.14653961448810432\n",
      "Коэффициент корреляция между отзывами критиков и продажами для Wii 0.2954882722759498\n"
     ]
    }
   ],
   "source": [
    "games_for_Wii = games[(games['platform']=='Wii') & (games['all_sales']<10)]\n",
    "print('Коэффициент корреляция между отзывами пользователей и продажами для Wii', games_for_Wii['user_score'].corr(games_for_Wii['all_sales']))\n",
    "print('Коэффициент корреляция между отзывами критиков и продажами для Wii', games_for_Wii['critic_score'].corr(games_for_Wii['all_sales']))"
   ]
  },
  {
   "cell_type": "code",
   "execution_count": 91,
   "metadata": {},
   "outputs": [],
   "source": [
    "# Для PS3 и X360 наблюдается такая же картина, как и для PS2 - слабое влияние отзывов пользователей и умеренная корреляция с отзывами критиков. \n",
    "# Для DS и Wii оба уровня корреляции оказались незначительными, причем влияние критиков также выше, чем влияние отзывов пользователей.\n",
    "# Оценки критиков для потенциальных покупателей игры это самый простой способ сформировать приблизительное мнение о продукте, не играя самому. \n",
    "# Зачастую критики получают копию игры до начала официальных продаж, поэтому в первое время есть только эти отзывы, отзывы покупателей появляются, \n",
    "# естественно, позже. Также, в силу определенного профессионализма, критик может более адекватно оценить какие-то параметры и характеристики игры\n",
    "# в плане графики, геймплея и тд. Нужно отметить, что при этом отзыв критика может быть заказан разработчиками игры, что снижает его объективность. \n",
    "# Пользовательский рейтинг более субъективен и непредсказуем. Но в общем, люди больше доверяют отзывам профессиональных критиков."
   ]
  },
  {
   "cell_type": "code",
   "execution_count": 92,
   "metadata": {},
   "outputs": [],
   "source": [
    "# Посмотрим на общее распределение игр по жанрам и определим самые прибыльные жанры."
   ]
  },
  {
   "cell_type": "code",
   "execution_count": 93,
   "metadata": {
    "id": "-kZstUbiL4Kr",
    "outputId": "c37b96e5-4703-43b5-95ec-746e71819635"
   },
   "outputs": [
    {
     "data": {
      "text/plain": [
       "genre\n",
       "Action          1957\n",
       "Sports          1379\n",
       "Misc            1330\n",
       "Role-Playing    1226\n",
       "Adventure       1062\n",
       "Shooter          825\n",
       "Racing           772\n",
       "Simulation       729\n",
       "Fighting         613\n",
       "Platform         588\n",
       "Strategy         585\n",
       "Puzzle           498\n",
       "Name: name, dtype: int64"
      ]
     },
     "execution_count": 93,
     "metadata": {},
     "output_type": "execute_result"
    }
   ],
   "source": [
    "count_genre = games.groupby('genre')['name'].nunique()\n",
    "count_genre.sort_values(ascending=False)"
   ]
  },
  {
   "cell_type": "code",
   "execution_count": 94,
   "metadata": {},
   "outputs": [],
   "source": [
    "# В целом в базе данных больше всего игр таких жанров, как action, sports и misc, так что можно ожидать, что и по продажам они будут лидировать."
   ]
  },
  {
   "cell_type": "code",
   "execution_count": 95,
   "metadata": {
    "id": "TJCtO6KcL4Kr",
    "outputId": "0ff612f5-aec0-4538-cdc9-952b8d7e8605"
   },
   "outputs": [
    {
     "data": {
      "text/html": [
       "<div>\n",
       "<style scoped>\n",
       "    .dataframe tbody tr th:only-of-type {\n",
       "        vertical-align: middle;\n",
       "    }\n",
       "\n",
       "    .dataframe tbody tr th {\n",
       "        vertical-align: top;\n",
       "    }\n",
       "\n",
       "    .dataframe thead th {\n",
       "        text-align: right;\n",
       "    }\n",
       "</style>\n",
       "<table border=\"1\" class=\"dataframe\">\n",
       "  <thead>\n",
       "    <tr style=\"text-align: right;\">\n",
       "      <th></th>\n",
       "      <th>genre</th>\n",
       "      <th>all_sales</th>\n",
       "    </tr>\n",
       "  </thead>\n",
       "  <tbody>\n",
       "    <tr>\n",
       "      <th>0</th>\n",
       "      <td>Action</td>\n",
       "      <td>2621.00</td>\n",
       "    </tr>\n",
       "    <tr>\n",
       "      <th>1</th>\n",
       "      <td>Sports</td>\n",
       "      <td>1949.31</td>\n",
       "    </tr>\n",
       "    <tr>\n",
       "      <th>2</th>\n",
       "      <td>Shooter</td>\n",
       "      <td>1648.37</td>\n",
       "    </tr>\n",
       "    <tr>\n",
       "      <th>3</th>\n",
       "      <td>Racing</td>\n",
       "      <td>1144.98</td>\n",
       "    </tr>\n",
       "    <tr>\n",
       "      <th>4</th>\n",
       "      <td>Misc</td>\n",
       "      <td>1119.88</td>\n",
       "    </tr>\n",
       "    <tr>\n",
       "      <th>5</th>\n",
       "      <td>Platform</td>\n",
       "      <td>1097.64</td>\n",
       "    </tr>\n",
       "    <tr>\n",
       "      <th>6</th>\n",
       "      <td>Role-Playing</td>\n",
       "      <td>956.57</td>\n",
       "    </tr>\n",
       "    <tr>\n",
       "      <th>7</th>\n",
       "      <td>Fighting</td>\n",
       "      <td>560.71</td>\n",
       "    </tr>\n",
       "    <tr>\n",
       "      <th>8</th>\n",
       "      <td>Simulation</td>\n",
       "      <td>553.21</td>\n",
       "    </tr>\n",
       "    <tr>\n",
       "      <th>9</th>\n",
       "      <td>Adventure</td>\n",
       "      <td>312.37</td>\n",
       "    </tr>\n",
       "    <tr>\n",
       "      <th>10</th>\n",
       "      <td>Puzzle</td>\n",
       "      <td>285.28</td>\n",
       "    </tr>\n",
       "    <tr>\n",
       "      <th>11</th>\n",
       "      <td>Strategy</td>\n",
       "      <td>214.91</td>\n",
       "    </tr>\n",
       "  </tbody>\n",
       "</table>\n",
       "</div>"
      ],
      "text/plain": [
       "           genre  all_sales\n",
       "0         Action    2621.00\n",
       "1         Sports    1949.31\n",
       "2        Shooter    1648.37\n",
       "3         Racing    1144.98\n",
       "4           Misc    1119.88\n",
       "5       Platform    1097.64\n",
       "6   Role-Playing     956.57\n",
       "7       Fighting     560.71\n",
       "8     Simulation     553.21\n",
       "9      Adventure     312.37\n",
       "10        Puzzle     285.28\n",
       "11      Strategy     214.91"
      ]
     },
     "execution_count": 95,
     "metadata": {},
     "output_type": "execute_result"
    }
   ],
   "source": [
    "games_by_genre = games.pivot_table(index='genre', values='all_sales', aggfunc='sum').sort_values(by='all_sales', ascending=False)\n",
    "games_by_genre = games_by_genre.reset_index().rename_axis(None, axis=1)\n",
    "games_by_genre "
   ]
  },
  {
   "cell_type": "code",
   "execution_count": 96,
   "metadata": {},
   "outputs": [],
   "source": [
    "# Самый популярный жанр - action, затем идут sport и shooter. Racing, misc, platform имеют примерно одинаковую популярность, а затем интерес пользователей\n",
    "# к играм остальных жанров резко падает. Самые низкие продажи у игр жанра strategy. При том, что action, sports и misc самые популярные жанры \n",
    "# и у разработчиков, игр в жанре shooter создано почти в полтора раза меньше, но продажи почти такие же, как у sports."
   ]
  },
  {
   "cell_type": "code",
   "execution_count": 97,
   "metadata": {},
   "outputs": [],
   "source": [
    "# Составим портрет пользователя каждого региона\n",
    "# Определим для пользователя каждого региона (NA, EU, JP) самые популярные платформы (топ-5) и самые популярные жанры (топ-5). \n",
    "# Оценим, влияет ли рейтинг ESRB на продажи в отдельном регионе."
   ]
  },
  {
   "cell_type": "code",
   "execution_count": 98,
   "metadata": {},
   "outputs": [],
   "source": [
    "# Для региона NA."
   ]
  },
  {
   "cell_type": "code",
   "execution_count": 99,
   "metadata": {
    "id": "xOcsiyhpL4Ks",
    "outputId": "fafedbe8-b0ab-4709-a3f5-eec98fc396a3"
   },
   "outputs": [
    {
     "data": {
      "text/html": [
       "<div>\n",
       "<style scoped>\n",
       "    .dataframe tbody tr th:only-of-type {\n",
       "        vertical-align: middle;\n",
       "    }\n",
       "\n",
       "    .dataframe tbody tr th {\n",
       "        vertical-align: top;\n",
       "    }\n",
       "\n",
       "    .dataframe thead th {\n",
       "        text-align: right;\n",
       "    }\n",
       "</style>\n",
       "<table border=\"1\" class=\"dataframe\">\n",
       "  <thead>\n",
       "    <tr style=\"text-align: right;\">\n",
       "      <th></th>\n",
       "      <th>na_sales</th>\n",
       "    </tr>\n",
       "    <tr>\n",
       "      <th>platform</th>\n",
       "      <th></th>\n",
       "    </tr>\n",
       "  </thead>\n",
       "  <tbody>\n",
       "    <tr>\n",
       "      <th>X360</th>\n",
       "      <td>602.47</td>\n",
       "    </tr>\n",
       "    <tr>\n",
       "      <th>PS2</th>\n",
       "      <td>583.84</td>\n",
       "    </tr>\n",
       "    <tr>\n",
       "      <th>Wii</th>\n",
       "      <td>496.90</td>\n",
       "    </tr>\n",
       "    <tr>\n",
       "      <th>PS3</th>\n",
       "      <td>393.49</td>\n",
       "    </tr>\n",
       "    <tr>\n",
       "      <th>DS</th>\n",
       "      <td>382.40</td>\n",
       "    </tr>\n",
       "  </tbody>\n",
       "</table>\n",
       "</div>"
      ],
      "text/plain": [
       "          na_sales\n",
       "platform          \n",
       "X360        602.47\n",
       "PS2         583.84\n",
       "Wii         496.90\n",
       "PS3         393.49\n",
       "DS          382.40"
      ]
     },
     "execution_count": 99,
     "metadata": {},
     "output_type": "execute_result"
    }
   ],
   "source": [
    "NA_sales = games.pivot_table(index='platform', values='na_sales', aggfunc='sum').sort_values(by='na_sales', ascending=False)\n",
    "NA_sales.head(5)"
   ]
  },
  {
   "cell_type": "code",
   "execution_count": 100,
   "metadata": {
    "id": "LYa49zKAL4Ks",
    "outputId": "9ee018a2-6718-409f-c461-16306dcbd752"
   },
   "outputs": [
    {
     "data": {
      "text/plain": [
       "Text(0, 0.5, 'Количество продаж')"
      ]
     },
     "execution_count": 100,
     "metadata": {},
     "output_type": "execute_result"
    },
    {
     "data": {
      "image/png": "[encoded data removed]",
      "text/plain": [
       "<Figure size 1440x720 with 1 Axes>"
      ]
     },
     "metadata": {
      "needs_background": "light"
     },
     "output_type": "display_data"
    }
   ],
   "source": [
    "plt.figure(figsize=(20,10))\n",
    "sns.barplot(x=NA_sales.index,y=NA_sales['na_sales'])\n",
    "plt.title('Продажи игр для разных платформ в Северной Америке')\n",
    "plt.xlabel('Название платформы')\n",
    "plt.ylabel('Количество продаж')"
   ]
  },
  {
   "cell_type": "code",
   "execution_count": 101,
   "metadata": {
    "id": "3qgfM4RPL4Ks",
    "outputId": "47ad769b-da4f-43b8-90ca-d798d67694df"
   },
   "outputs": [
    {
     "data": {
      "text/html": [
       "<div>\n",
       "<style scoped>\n",
       "    .dataframe tbody tr th:only-of-type {\n",
       "        vertical-align: middle;\n",
       "    }\n",
       "\n",
       "    .dataframe tbody tr th {\n",
       "        vertical-align: top;\n",
       "    }\n",
       "\n",
       "    .dataframe thead th {\n",
       "        text-align: right;\n",
       "    }\n",
       "</style>\n",
       "<table border=\"1\" class=\"dataframe\">\n",
       "  <thead>\n",
       "    <tr style=\"text-align: right;\">\n",
       "      <th></th>\n",
       "      <th>na_sales</th>\n",
       "    </tr>\n",
       "    <tr>\n",
       "      <th>genre</th>\n",
       "      <th></th>\n",
       "    </tr>\n",
       "  </thead>\n",
       "  <tbody>\n",
       "    <tr>\n",
       "      <th>Action</th>\n",
       "      <td>879.01</td>\n",
       "    </tr>\n",
       "    <tr>\n",
       "      <th>Sports</th>\n",
       "      <td>684.43</td>\n",
       "    </tr>\n",
       "    <tr>\n",
       "      <th>Shooter</th>\n",
       "      <td>592.24</td>\n",
       "    </tr>\n",
       "    <tr>\n",
       "      <th>Platform</th>\n",
       "      <td>445.50</td>\n",
       "    </tr>\n",
       "    <tr>\n",
       "      <th>Misc</th>\n",
       "      <td>407.27</td>\n",
       "    </tr>\n",
       "  </tbody>\n",
       "</table>\n",
       "</div>"
      ],
      "text/plain": [
       "          na_sales\n",
       "genre             \n",
       "Action      879.01\n",
       "Sports      684.43\n",
       "Shooter     592.24\n",
       "Platform    445.50\n",
       "Misc        407.27"
      ]
     },
     "execution_count": 101,
     "metadata": {},
     "output_type": "execute_result"
    }
   ],
   "source": [
    "NA_genre = games.pivot_table(index='genre', values='na_sales', aggfunc='sum').sort_values(by='na_sales', ascending=False)\n",
    "NA_genre.head(5)"
   ]
  },
  {
   "cell_type": "code",
   "execution_count": 102,
   "metadata": {
    "id": "2hOkAYTaL4Kt",
    "outputId": "458233f0-8632-4e2b-f99f-de1a3ea036c0"
   },
   "outputs": [
    {
     "data": {
      "text/plain": [
       "Text(0, 0.5, 'Количество продаж')"
      ]
     },
     "execution_count": 102,
     "metadata": {},
     "output_type": "execute_result"
    },
    {
     "data": {
      "image/png": "[encoded data removed]",
      "text/plain": [
       "<Figure size 1440x720 with 1 Axes>"
      ]
     },
     "metadata": {
      "needs_background": "light"
     },
     "output_type": "display_data"
    }
   ],
   "source": [
    "plt.figure(figsize=(20,10))\n",
    "sns.barplot(x=NA_genre.index,y=NA_genre['na_sales'])\n",
    "plt.title('Продажи игр разных жанров в Северной Америке')\n",
    "plt.xlabel('Название жанра')\n",
    "plt.ylabel('Количество продаж')"
   ]
  },
  {
   "cell_type": "code",
   "execution_count": 103,
   "metadata": {
    "id": "x7zWZ5E8L4Kt",
    "outputId": "4f868252-ca8f-4c1a-a702-a71ba7472174",
    "scrolled": true
   },
   "outputs": [
    {
     "data": {
      "text/html": [
       "<div>\n",
       "<style scoped>\n",
       "    .dataframe tbody tr th:only-of-type {\n",
       "        vertical-align: middle;\n",
       "    }\n",
       "\n",
       "    .dataframe tbody tr th {\n",
       "        vertical-align: top;\n",
       "    }\n",
       "\n",
       "    .dataframe thead th {\n",
       "        text-align: right;\n",
       "    }\n",
       "</style>\n",
       "<table border=\"1\" class=\"dataframe\">\n",
       "  <thead>\n",
       "    <tr style=\"text-align: right;\">\n",
       "      <th></th>\n",
       "      <th>na_sales</th>\n",
       "    </tr>\n",
       "    <tr>\n",
       "      <th>rating</th>\n",
       "      <th></th>\n",
       "    </tr>\n",
       "  </thead>\n",
       "  <tbody>\n",
       "    <tr>\n",
       "      <th>E</th>\n",
       "      <td>1292.99</td>\n",
       "    </tr>\n",
       "    <tr>\n",
       "      <th>NR</th>\n",
       "      <td>1240.68</td>\n",
       "    </tr>\n",
       "    <tr>\n",
       "      <th>T</th>\n",
       "      <td>759.75</td>\n",
       "    </tr>\n",
       "    <tr>\n",
       "      <th>M</th>\n",
       "      <td>748.48</td>\n",
       "    </tr>\n",
       "    <tr>\n",
       "      <th>E10+</th>\n",
       "      <td>353.32</td>\n",
       "    </tr>\n",
       "  </tbody>\n",
       "</table>\n",
       "</div>"
      ],
      "text/plain": [
       "        na_sales\n",
       "rating          \n",
       "E        1292.99\n",
       "NR       1240.68\n",
       "T         759.75\n",
       "M         748.48\n",
       "E10+      353.32"
      ]
     },
     "execution_count": 103,
     "metadata": {},
     "output_type": "execute_result"
    }
   ],
   "source": [
    "NA_rating = games.pivot_table(index='rating', values='na_sales', aggfunc='sum').sort_values(by='na_sales', ascending=False)\n",
    "NA_rating.head(5)"
   ]
  },
  {
   "cell_type": "code",
   "execution_count": 104,
   "metadata": {
    "id": "NeVUxkP3L4Kt",
    "outputId": "69fd5d39-0dbb-471e-d1c9-452f2d55c00c"
   },
   "outputs": [
    {
     "data": {
      "text/plain": [
       "Text(0, 0.5, 'Количество продаж')"
      ]
     },
     "execution_count": 104,
     "metadata": {},
     "output_type": "execute_result"
    },
    {
     "data": {
      "image/png": "[encoded data removed]",
      "text/plain": [
       "<Figure size 1440x720 with 1 Axes>"
      ]
     },
     "metadata": {
      "needs_background": "light"
     },
     "output_type": "display_data"
    }
   ],
   "source": [
    "plt.figure(figsize=(20,10))\n",
    "sns.barplot(x=NA_rating.index,y=NA_rating['na_sales'])\n",
    "plt.title('Продажи игр разных рейтингов в Северной Америке')\n",
    "plt.xlabel('Рейтинг')\n",
    "plt.ylabel('Количество продаж')"
   ]
  },
  {
   "cell_type": "code",
   "execution_count": 105,
   "metadata": {},
   "outputs": [],
   "source": [
    "# Для региона Северной Америки наблюдается примерно такая же картина, как и для общих продаж - самые популярные игры для таких платформ, \n",
    "# как X360, PS2, Wii, PS3 и DS. Самые популярные жанры - action, sports, shooter, platform, misc. Лучше всего продавались игры с рейтингом Е \n",
    "# (Everyone, для всех), а также с рейтингом T (Teen, Подросткам 13—19) и M(Mature, от 17 лет)."
   ]
  },
  {
   "cell_type": "code",
   "execution_count": 106,
   "metadata": {},
   "outputs": [],
   "source": [
    "# Для региона EU."
   ]
  },
  {
   "cell_type": "code",
   "execution_count": 107,
   "metadata": {
    "id": "WR_omNSaL4Ku",
    "outputId": "b802f5cc-f12a-4249-849a-5b6faa8ff45f"
   },
   "outputs": [
    {
     "data": {
      "text/html": [
       "<div>\n",
       "<style scoped>\n",
       "    .dataframe tbody tr th:only-of-type {\n",
       "        vertical-align: middle;\n",
       "    }\n",
       "\n",
       "    .dataframe tbody tr th {\n",
       "        vertical-align: top;\n",
       "    }\n",
       "\n",
       "    .dataframe thead th {\n",
       "        text-align: right;\n",
       "    }\n",
       "</style>\n",
       "<table border=\"1\" class=\"dataframe\">\n",
       "  <thead>\n",
       "    <tr style=\"text-align: right;\">\n",
       "      <th></th>\n",
       "      <th>eu_sales</th>\n",
       "    </tr>\n",
       "    <tr>\n",
       "      <th>platform</th>\n",
       "      <th></th>\n",
       "    </tr>\n",
       "  </thead>\n",
       "  <tbody>\n",
       "    <tr>\n",
       "      <th>PS2</th>\n",
       "      <td>339.29</td>\n",
       "    </tr>\n",
       "    <tr>\n",
       "      <th>PS3</th>\n",
       "      <td>330.29</td>\n",
       "    </tr>\n",
       "    <tr>\n",
       "      <th>X360</th>\n",
       "      <td>270.76</td>\n",
       "    </tr>\n",
       "    <tr>\n",
       "      <th>Wii</th>\n",
       "      <td>262.21</td>\n",
       "    </tr>\n",
       "    <tr>\n",
       "      <th>PS</th>\n",
       "      <td>213.61</td>\n",
       "    </tr>\n",
       "  </tbody>\n",
       "</table>\n",
       "</div>"
      ],
      "text/plain": [
       "          eu_sales\n",
       "platform          \n",
       "PS2         339.29\n",
       "PS3         330.29\n",
       "X360        270.76\n",
       "Wii         262.21\n",
       "PS          213.61"
      ]
     },
     "execution_count": 107,
     "metadata": {},
     "output_type": "execute_result"
    }
   ],
   "source": [
    "EU_sales = games.pivot_table(index='platform', values='eu_sales', aggfunc='sum').sort_values(by='eu_sales', ascending=False)\n",
    "EU_sales.head(5)"
   ]
  },
  {
   "cell_type": "code",
   "execution_count": 108,
   "metadata": {
    "id": "AyHl40AKL4Ku",
    "outputId": "22aa6477-6356-48b3-cd73-10b2582a5ee7"
   },
   "outputs": [
    {
     "data": {
      "text/plain": [
       "Text(0, 0.5, 'Количество продаж')"
      ]
     },
     "execution_count": 108,
     "metadata": {},
     "output_type": "execute_result"
    },
    {
     "data": {
      "image/png": "[encoded data removed]",
      "text/plain": [
       "<Figure size 1440x720 with 1 Axes>"
      ]
     },
     "metadata": {
      "needs_background": "light"
     },
     "output_type": "display_data"
    }
   ],
   "source": [
    "plt.figure(figsize=(20,10))\n",
    "sns.barplot(x=EU_sales.index,y=EU_sales['eu_sales'])\n",
    "plt.title('Продажи игр для разных платформ в Европе')\n",
    "plt.xlabel('Название платформы')\n",
    "plt.ylabel('Количество продаж')"
   ]
  },
  {
   "cell_type": "code",
   "execution_count": 109,
   "metadata": {
    "id": "QnRINAdAL4Ku",
    "outputId": "7ac4a2f9-a479-46a9-9464-1116794aaff0"
   },
   "outputs": [
    {
     "data": {
      "text/html": [
       "<div>\n",
       "<style scoped>\n",
       "    .dataframe tbody tr th:only-of-type {\n",
       "        vertical-align: middle;\n",
       "    }\n",
       "\n",
       "    .dataframe tbody tr th {\n",
       "        vertical-align: top;\n",
       "    }\n",
       "\n",
       "    .dataframe thead th {\n",
       "        text-align: right;\n",
       "    }\n",
       "</style>\n",
       "<table border=\"1\" class=\"dataframe\">\n",
       "  <thead>\n",
       "    <tr style=\"text-align: right;\">\n",
       "      <th></th>\n",
       "      <th>eu_sales</th>\n",
       "    </tr>\n",
       "    <tr>\n",
       "      <th>genre</th>\n",
       "      <th></th>\n",
       "    </tr>\n",
       "  </thead>\n",
       "  <tbody>\n",
       "    <tr>\n",
       "      <th>Action</th>\n",
       "      <td>519.13</td>\n",
       "    </tr>\n",
       "    <tr>\n",
       "      <th>Sports</th>\n",
       "      <td>376.79</td>\n",
       "    </tr>\n",
       "    <tr>\n",
       "      <th>Shooter</th>\n",
       "      <td>317.34</td>\n",
       "    </tr>\n",
       "    <tr>\n",
       "      <th>Racing</th>\n",
       "      <td>236.51</td>\n",
       "    </tr>\n",
       "    <tr>\n",
       "      <th>Misc</th>\n",
       "      <td>212.74</td>\n",
       "    </tr>\n",
       "  </tbody>\n",
       "</table>\n",
       "</div>"
      ],
      "text/plain": [
       "         eu_sales\n",
       "genre            \n",
       "Action     519.13\n",
       "Sports     376.79\n",
       "Shooter    317.34\n",
       "Racing     236.51\n",
       "Misc       212.74"
      ]
     },
     "execution_count": 109,
     "metadata": {},
     "output_type": "execute_result"
    }
   ],
   "source": [
    "EU_genre = games.pivot_table(index='genre', values='eu_sales', aggfunc='sum').sort_values(by='eu_sales', ascending=False)\n",
    "EU_genre.head(5)"
   ]
  },
  {
   "cell_type": "code",
   "execution_count": 110,
   "metadata": {
    "id": "JfF34gyhL4Ku",
    "outputId": "2d34109d-89a0-45fa-b7cc-36f497b63e39"
   },
   "outputs": [
    {
     "data": {
      "text/plain": [
       "Text(0, 0.5, 'Количество продаж')"
      ]
     },
     "execution_count": 110,
     "metadata": {},
     "output_type": "execute_result"
    },
    {
     "data": {
      "image/png": "[encoded data removed]",
      "text/plain": [
       "<Figure size 1440x720 with 1 Axes>"
      ]
     },
     "metadata": {
      "needs_background": "light"
     },
     "output_type": "display_data"
    }
   ],
   "source": [
    "plt.figure(figsize=(20,10))\n",
    "sns.barplot(x=EU_genre.index,y=EU_genre['eu_sales'])\n",
    "plt.title('Продажи игр разных жанров в Европе')\n",
    "plt.xlabel('Название жанра')\n",
    "plt.ylabel('Количество продаж')"
   ]
  },
  {
   "cell_type": "code",
   "execution_count": 111,
   "metadata": {
    "id": "NvkUjxSLL4Kv",
    "outputId": "28ac8a9f-7df6-4307-866c-1c3eab7e3f81"
   },
   "outputs": [
    {
     "data": {
      "text/html": [
       "<div>\n",
       "<style scoped>\n",
       "    .dataframe tbody tr th:only-of-type {\n",
       "        vertical-align: middle;\n",
       "    }\n",
       "\n",
       "    .dataframe tbody tr th {\n",
       "        vertical-align: top;\n",
       "    }\n",
       "\n",
       "    .dataframe thead th {\n",
       "        text-align: right;\n",
       "    }\n",
       "</style>\n",
       "<table border=\"1\" class=\"dataframe\">\n",
       "  <thead>\n",
       "    <tr style=\"text-align: right;\">\n",
       "      <th></th>\n",
       "      <th>eu_sales</th>\n",
       "    </tr>\n",
       "    <tr>\n",
       "      <th>rating</th>\n",
       "      <th></th>\n",
       "    </tr>\n",
       "  </thead>\n",
       "  <tbody>\n",
       "    <tr>\n",
       "      <th>E</th>\n",
       "      <td>710.25</td>\n",
       "    </tr>\n",
       "    <tr>\n",
       "      <th>NR</th>\n",
       "      <td>613.30</td>\n",
       "    </tr>\n",
       "    <tr>\n",
       "      <th>M</th>\n",
       "      <td>483.97</td>\n",
       "    </tr>\n",
       "    <tr>\n",
       "      <th>T</th>\n",
       "      <td>427.03</td>\n",
       "    </tr>\n",
       "    <tr>\n",
       "      <th>E10+</th>\n",
       "      <td>188.52</td>\n",
       "    </tr>\n",
       "  </tbody>\n",
       "</table>\n",
       "</div>"
      ],
      "text/plain": [
       "        eu_sales\n",
       "rating          \n",
       "E         710.25\n",
       "NR        613.30\n",
       "M         483.97\n",
       "T         427.03\n",
       "E10+      188.52"
      ]
     },
     "execution_count": 111,
     "metadata": {},
     "output_type": "execute_result"
    }
   ],
   "source": [
    "EU_rating = games.pivot_table(index='rating', values='eu_sales', aggfunc='sum').sort_values(by='eu_sales', ascending=False)\n",
    "EU_rating.head(5)"
   ]
  },
  {
   "cell_type": "code",
   "execution_count": 112,
   "metadata": {
    "id": "mAeoNp2gL4Kv",
    "outputId": "86d6649b-09aa-4c59-c14c-e836cc8058c3"
   },
   "outputs": [
    {
     "data": {
      "text/plain": [
       "Text(0, 0.5, 'Количество продаж')"
      ]
     },
     "execution_count": 112,
     "metadata": {},
     "output_type": "execute_result"
    },
    {
     "data": {
      "image/png": "[encoded data removed]",
      "text/plain": [
       "<Figure size 1440x720 with 1 Axes>"
      ]
     },
     "metadata": {
      "needs_background": "light"
     },
     "output_type": "display_data"
    }
   ],
   "source": [
    "plt.figure(figsize=(20,10))\n",
    "sns.barplot(x=EU_rating.index,y=EU_rating['eu_sales'])\n",
    "plt.title('Продажи игр разных рейтингов в Европе')\n",
    "plt.xlabel('Рейтинг')\n",
    "plt.ylabel('Количество продаж')"
   ]
  },
  {
   "cell_type": "code",
   "execution_count": 113,
   "metadata": {},
   "outputs": [],
   "source": [
    "# Европейский сегмент игр имеет следущие особенности: cамые популярные платформы это PS2, PS3, X360, Wii и PS. Среди популярных жанров выделяются почти \n",
    "# все те же, что и для Серевной Америки. Самые популярные жанры - action, sports, shooter, racing, misc. Наиболее востребованы игры рейтинга Е \n",
    "# (Everyone, для всех), M(Mature, от 17 лет), а также с рейтингом T (Teen, Подросткам 13—19). Также, как и для Северной Америки, игр рейтинга E \n",
    "# почти в два раза больше, а игр рейтинга M и Т примерно поровну. Что естественно, так как в игра для всех, помимо детей младшего возраста и старше 10 лет,\n",
    "# могут играть подростки 13-19 лет и старше 17."
   ]
  },
  {
   "cell_type": "code",
   "execution_count": 114,
   "metadata": {},
   "outputs": [],
   "source": [
    "# Для региона JP."
   ]
  },
  {
   "cell_type": "code",
   "execution_count": 115,
   "metadata": {
    "id": "alYKMVFyL4Kv",
    "outputId": "fd1a9255-6e94-433b-a4f8-adfe8f3db08d"
   },
   "outputs": [
    {
     "data": {
      "text/html": [
       "<div>\n",
       "<style scoped>\n",
       "    .dataframe tbody tr th:only-of-type {\n",
       "        vertical-align: middle;\n",
       "    }\n",
       "\n",
       "    .dataframe tbody tr th {\n",
       "        vertical-align: top;\n",
       "    }\n",
       "\n",
       "    .dataframe thead th {\n",
       "        text-align: right;\n",
       "    }\n",
       "</style>\n",
       "<table border=\"1\" class=\"dataframe\">\n",
       "  <thead>\n",
       "    <tr style=\"text-align: right;\">\n",
       "      <th></th>\n",
       "      <th>jp_sales</th>\n",
       "    </tr>\n",
       "    <tr>\n",
       "      <th>platform</th>\n",
       "      <th></th>\n",
       "    </tr>\n",
       "  </thead>\n",
       "  <tbody>\n",
       "    <tr>\n",
       "      <th>DS</th>\n",
       "      <td>175.57</td>\n",
       "    </tr>\n",
       "    <tr>\n",
       "      <th>PS</th>\n",
       "      <td>139.82</td>\n",
       "    </tr>\n",
       "    <tr>\n",
       "      <th>PS2</th>\n",
       "      <td>139.20</td>\n",
       "    </tr>\n",
       "    <tr>\n",
       "      <th>SNES</th>\n",
       "      <td>116.55</td>\n",
       "    </tr>\n",
       "    <tr>\n",
       "      <th>3DS</th>\n",
       "      <td>100.67</td>\n",
       "    </tr>\n",
       "  </tbody>\n",
       "</table>\n",
       "</div>"
      ],
      "text/plain": [
       "          jp_sales\n",
       "platform          \n",
       "DS          175.57\n",
       "PS          139.82\n",
       "PS2         139.20\n",
       "SNES        116.55\n",
       "3DS         100.67"
      ]
     },
     "execution_count": 115,
     "metadata": {},
     "output_type": "execute_result"
    }
   ],
   "source": [
    "JP_sales = games.pivot_table(index='platform', values='jp_sales', aggfunc='sum').sort_values(by='jp_sales', ascending=False)\n",
    "JP_sales.head(5)"
   ]
  },
  {
   "cell_type": "code",
   "execution_count": 116,
   "metadata": {
    "id": "mcMvnaU2L4Kv",
    "outputId": "180b8818-269d-4820-9f32-ce396e944e9e"
   },
   "outputs": [
    {
     "data": {
      "text/plain": [
       "Text(0, 0.5, 'Количество продаж')"
      ]
     },
     "execution_count": 116,
     "metadata": {},
     "output_type": "execute_result"
    },
    {
     "data": {
      "image/png": "[encoded data removed]",
      "text/plain": [
       "<Figure size 1440x720 with 1 Axes>"
      ]
     },
     "metadata": {
      "needs_background": "light"
     },
     "output_type": "display_data"
    }
   ],
   "source": [
    "plt.figure(figsize=(20,10))\n",
    "sns.barplot(x=JP_sales.index,y=JP_sales['jp_sales'])\n",
    "plt.title('Продажи игр для разных платформ в Японии')\n",
    "plt.xlabel('Название платформы')\n",
    "plt.ylabel('Количество продаж')"
   ]
  },
  {
   "cell_type": "code",
   "execution_count": 117,
   "metadata": {
    "id": "-SfwyZhpL4Kw",
    "outputId": "8df6a978-9780-4ae9-e854-845ca2fa4a1e"
   },
   "outputs": [
    {
     "data": {
      "text/html": [
       "<div>\n",
       "<style scoped>\n",
       "    .dataframe tbody tr th:only-of-type {\n",
       "        vertical-align: middle;\n",
       "    }\n",
       "\n",
       "    .dataframe tbody tr th {\n",
       "        vertical-align: top;\n",
       "    }\n",
       "\n",
       "    .dataframe thead th {\n",
       "        text-align: right;\n",
       "    }\n",
       "</style>\n",
       "<table border=\"1\" class=\"dataframe\">\n",
       "  <thead>\n",
       "    <tr style=\"text-align: right;\">\n",
       "      <th></th>\n",
       "      <th>jp_sales</th>\n",
       "    </tr>\n",
       "    <tr>\n",
       "      <th>genre</th>\n",
       "      <th></th>\n",
       "    </tr>\n",
       "  </thead>\n",
       "  <tbody>\n",
       "    <tr>\n",
       "      <th>Role-Playing</th>\n",
       "      <td>355.41</td>\n",
       "    </tr>\n",
       "    <tr>\n",
       "      <th>Action</th>\n",
       "      <td>161.43</td>\n",
       "    </tr>\n",
       "    <tr>\n",
       "      <th>Sports</th>\n",
       "      <td>135.54</td>\n",
       "    </tr>\n",
       "    <tr>\n",
       "      <th>Platform</th>\n",
       "      <td>130.83</td>\n",
       "    </tr>\n",
       "    <tr>\n",
       "      <th>Misc</th>\n",
       "      <td>108.11</td>\n",
       "    </tr>\n",
       "  </tbody>\n",
       "</table>\n",
       "</div>"
      ],
      "text/plain": [
       "              jp_sales\n",
       "genre                 \n",
       "Role-Playing    355.41\n",
       "Action          161.43\n",
       "Sports          135.54\n",
       "Platform        130.83\n",
       "Misc            108.11"
      ]
     },
     "execution_count": 117,
     "metadata": {},
     "output_type": "execute_result"
    }
   ],
   "source": [
    "JP_genre = games.pivot_table(index='genre', values='jp_sales', aggfunc='sum').sort_values(by='jp_sales', ascending=False)\n",
    "JP_genre.head(5)"
   ]
  },
  {
   "cell_type": "code",
   "execution_count": 118,
   "metadata": {
    "id": "hpl2txmXL4Kw",
    "outputId": "3c7bc1ed-dbde-4457-9239-1115b712f688"
   },
   "outputs": [
    {
     "data": {
      "text/plain": [
       "Text(0, 0.5, 'Количество продаж')"
      ]
     },
     "execution_count": 118,
     "metadata": {},
     "output_type": "execute_result"
    },
    {
     "data": {
      "image/png": "[encoded data removed]",
      "text/plain": [
       "<Figure size 1440x720 with 1 Axes>"
      ]
     },
     "metadata": {
      "needs_background": "light"
     },
     "output_type": "display_data"
    }
   ],
   "source": [
    "plt.figure(figsize=(20,10))\n",
    "sns.barplot(x=JP_genre.index,y=JP_genre['jp_sales'])\n",
    "plt.title('Продажи игр разных жанров в Японии')\n",
    "plt.xlabel('Название жанра')\n",
    "plt.ylabel('Количество продаж')"
   ]
  },
  {
   "cell_type": "code",
   "execution_count": 119,
   "metadata": {
    "id": "7Zh8VcewL4Kw",
    "outputId": "117ee8a7-bdf3-415f-fc6e-f1c3dadad45e"
   },
   "outputs": [
    {
     "data": {
      "text/html": [
       "<div>\n",
       "<style scoped>\n",
       "    .dataframe tbody tr th:only-of-type {\n",
       "        vertical-align: middle;\n",
       "    }\n",
       "\n",
       "    .dataframe tbody tr th {\n",
       "        vertical-align: top;\n",
       "    }\n",
       "\n",
       "    .dataframe thead th {\n",
       "        text-align: right;\n",
       "    }\n",
       "</style>\n",
       "<table border=\"1\" class=\"dataframe\">\n",
       "  <thead>\n",
       "    <tr style=\"text-align: right;\">\n",
       "      <th></th>\n",
       "      <th>jp_sales</th>\n",
       "    </tr>\n",
       "    <tr>\n",
       "      <th>rating</th>\n",
       "      <th></th>\n",
       "    </tr>\n",
       "  </thead>\n",
       "  <tbody>\n",
       "    <tr>\n",
       "      <th>NR</th>\n",
       "      <td>841.93</td>\n",
       "    </tr>\n",
       "    <tr>\n",
       "      <th>E</th>\n",
       "      <td>198.11</td>\n",
       "    </tr>\n",
       "    <tr>\n",
       "      <th>T</th>\n",
       "      <td>151.40</td>\n",
       "    </tr>\n",
       "    <tr>\n",
       "      <th>M</th>\n",
       "      <td>64.24</td>\n",
       "    </tr>\n",
       "    <tr>\n",
       "      <th>E10+</th>\n",
       "      <td>40.20</td>\n",
       "    </tr>\n",
       "  </tbody>\n",
       "</table>\n",
       "</div>"
      ],
      "text/plain": [
       "        jp_sales\n",
       "rating          \n",
       "NR        841.93\n",
       "E         198.11\n",
       "T         151.40\n",
       "M          64.24\n",
       "E10+       40.20"
      ]
     },
     "execution_count": 119,
     "metadata": {},
     "output_type": "execute_result"
    }
   ],
   "source": [
    "JP_rating = games.pivot_table(index='rating', values='jp_sales', aggfunc='sum').sort_values(by='jp_sales', ascending=False)\n",
    "JP_rating.head(5)"
   ]
  },
  {
   "cell_type": "code",
   "execution_count": 120,
   "metadata": {
    "id": "hQJNrCauL4Kw",
    "outputId": "da7fb421-dcb6-42ec-d302-c1fda067be2e"
   },
   "outputs": [
    {
     "data": {
      "text/plain": [
       "Text(0, 0.5, 'Количество продаж')"
      ]
     },
     "execution_count": 120,
     "metadata": {},
     "output_type": "execute_result"
    },
    {
     "data": {
      "image/png": "[encoded data removed]",
      "text/plain": [
       "<Figure size 1440x720 with 1 Axes>"
      ]
     },
     "metadata": {
      "needs_background": "light"
     },
     "output_type": "display_data"
    }
   ],
   "source": [
    "plt.figure(figsize=(20,10))\n",
    "sns.barplot(x=JP_rating.index,y=JP_rating['jp_sales'])\n",
    "plt.title('Продажи игр разных рейтингов в Японии')\n",
    "plt.xlabel('Рейтинг')\n",
    "plt.ylabel('Количество продаж')"
   ]
  },
  {
   "cell_type": "code",
   "execution_count": 121,
   "metadata": {},
   "outputs": [],
   "source": [
    "# В таблице представлена информация о рейтинге ESRB - Entertainment Software Rating Board. Возрастными рейтингами для консольных игр в Японии занимается\n",
    "# CERO – некоммерческая организация, основанная в июле 2002-го. До 2006 года ее система состояла из четырех категорий – А («для всех возрастов»), \n",
    "# B («старше 12»), С («старше 15») и Z («от 18 и выше»). Скорее всего, рейтинг ESRB есть только у тех игр, которые выпускались Японией для внешнего рынка,\n",
    "# остальные игры оцениваются по CERO."
   ]
  },
  {
   "cell_type": "code",
   "execution_count": 122,
   "metadata": {},
   "outputs": [],
   "source": [
    "# Для Японии предпочтения пользователей отличаются от предпочтений в Америке и Европе. Самые популярные игровые платформы - DS, PS, PS2, SNES, 3DS. \n",
    "# Здесь заметны региональные особенности. SNES - приставка от японской компании Nintendo, которая в свое время была лидером продаж в Японии. \n",
    "# 3DS - портативная игровая система производства того же Nintendo. Топ 5 жанров - это role-playing, action, sports, platform, misc. Среди популярных жанров \n",
    "# впервые появился жанр role-playing. Стоит отметить, что даже существует отдельное понятие японская ролевая игра, поджанр, выделяемый среди компьютерных \n",
    "# ролевых игр. Лучше всего продавались игры с рейтингом Е (Everyone, для всех), T (Teen, Подросткам 13—19) и M(Mature, от 17 лет). Причем для Японии, \n",
    "# в отличие от других регионов, количество игр для тинейджеров ближе к количеству игр для всех, а количество для более страшей возрастной категории\n",
    "# значительно ниже.\n",
    "# Игры, созданные в Японии, как правило отличаются от западных игр. И дело не только в культурных особенностях их создателей, но и в самом подходе \n",
    "# к разработке. Японские игры зачастую называют безумными из-за использования непривычных для западного геймера нарративных и дизайнерских приёмов. \n",
    "# Это происходит от того, что, например, создатели игр росли под влиянием японской анимации и манги, что сделало их видение особенным \n",
    "# (это также справедливо и для пользователей игр)."
   ]
  },
  {
   "cell_type": "code",
   "execution_count": 123,
   "metadata": {},
   "outputs": [],
   "source": [
    "# В целом, влияние рейтинга на продажи в разных регионах примерно одинаковое. Можно предположить, что средний пользователь игр в Японии младше, \n",
    "# чем пользователь в Европе или Северной Америке. Также в топе игр для Северной Америке и Японии есть заметная группа игр без рейтинга, \n",
    "# в то время как в выборке по Европе такой группы не появилось."
   ]
  },
  {
   "cell_type": "code",
   "execution_count": 124,
   "metadata": {},
   "outputs": [],
   "source": [
    "# Исследование статистических показателей\n",
    "# Оценим, как изменяется пользовательский рейтинг и рейтинг критиков в различных жанрах. Посчитаем среднее количество, дисперсию и стандартное отклонение. \n",
    "# Остановимся на пятерке самых популярных - action, sport, shooter, Racing и misc.\n",
    "# Рассмотрим пользовательский рейтинг."
   ]
  },
  {
   "cell_type": "code",
   "execution_count": 125,
   "metadata": {
    "id": "UYDcaLJFL4Kz",
    "outputId": "70033e57-517f-48f7-c77c-34b36b9bac71"
   },
   "outputs": [
    {
     "name": "stdout",
     "output_type": "stream",
     "text": [
      "Среднее количество Action : 7.054043715846995\n",
      "Дисперсия Action : 2.0306366538266296\n",
      "Стандартное отклонение Action : 1.4250040890561084\n",
      "\n",
      "\n",
      "Среднее количество Sports : 6.96119673617407\n",
      "Дисперсия Sports : 2.5941606711770175\n",
      "Стандартное отклонение Sports : 1.6106398328543279\n",
      "\n",
      "\n",
      "Среднее количество Shooter : 7.041883116883118\n",
      "Дисперсия Shooter : 2.3020877958621466\n",
      "Стандартное отклонение Shooter : 1.5172632585883528\n",
      "\n",
      "\n",
      "Среднее количество Racing : 7.036193447737911\n",
      "Дисперсия Racing : 2.38795680501167\n",
      "Стандартное отклонение Racing : 1.5453015255967588\n",
      "\n",
      "\n",
      "Среднее количество Misc : 6.819362186788155\n",
      "Дисперсия Misc : 2.3883950373856506\n",
      "Стандартное отклонение Misc : 1.5454433141935846\n",
      "\n",
      "\n"
     ]
    }
   ],
   "source": [
    "top_5_genre = ['Action', 'Sports', 'Shooter', 'Racing', 'Misc']\n",
    "for genre in top_5_genre:\n",
    "    print('Среднее количество',genre,':',  games[games['genre']==genre]['user_score'].mean())\n",
    "    print('Дисперсия', genre,':', np.var(games[games['genre']==genre]['user_score']))\n",
    "    print('Стандартное отклонение', genre,':', np.std(games[games['genre']==genre]['user_score']))\n",
    "    print('\\n')"
   ]
  },
  {
   "cell_type": "code",
   "execution_count": 126,
   "metadata": {
    "id": "Z1-lSy-yL4Kz",
    "outputId": "0b2af23c-0dc1-4737-a8bd-c8a4b1047de2"
   },
   "outputs": [
    {
     "data": {
      "text/html": [
       "<div>\n",
       "<style scoped>\n",
       "    .dataframe tbody tr th:only-of-type {\n",
       "        vertical-align: middle;\n",
       "    }\n",
       "\n",
       "    .dataframe tbody tr th {\n",
       "        vertical-align: top;\n",
       "    }\n",
       "\n",
       "    .dataframe thead th {\n",
       "        text-align: right;\n",
       "    }\n",
       "</style>\n",
       "<table border=\"1\" class=\"dataframe\">\n",
       "  <thead>\n",
       "    <tr style=\"text-align: right;\">\n",
       "      <th></th>\n",
       "      <th>genre</th>\n",
       "      <th>Среднее</th>\n",
       "      <th>Дисперсия</th>\n",
       "      <th>Стандартное отклонение</th>\n",
       "    </tr>\n",
       "  </thead>\n",
       "  <tbody>\n",
       "    <tr>\n",
       "      <th>0</th>\n",
       "      <td>Action</td>\n",
       "      <td>7.0540</td>\n",
       "      <td>2.0306</td>\n",
       "      <td>1.4250</td>\n",
       "    </tr>\n",
       "    <tr>\n",
       "      <th>1</th>\n",
       "      <td>Sports</td>\n",
       "      <td>6.9611</td>\n",
       "      <td>2.5941</td>\n",
       "      <td>1.6106</td>\n",
       "    </tr>\n",
       "    <tr>\n",
       "      <th>2</th>\n",
       "      <td>Shooter</td>\n",
       "      <td>7.0418</td>\n",
       "      <td>2.3020</td>\n",
       "      <td>1.5172</td>\n",
       "    </tr>\n",
       "    <tr>\n",
       "      <th>3</th>\n",
       "      <td>Racing</td>\n",
       "      <td>7.0361</td>\n",
       "      <td>2.3879</td>\n",
       "      <td>1.5453</td>\n",
       "    </tr>\n",
       "    <tr>\n",
       "      <th>4</th>\n",
       "      <td>Misc</td>\n",
       "      <td>6.8193</td>\n",
       "      <td>2.3883</td>\n",
       "      <td>1.5454</td>\n",
       "    </tr>\n",
       "  </tbody>\n",
       "</table>\n",
       "</div>"
      ],
      "text/plain": [
       "     genre  Среднее  Дисперсия  Стандартное отклонение\n",
       "0   Action   7.0540     2.0306                  1.4250\n",
       "1   Sports   6.9611     2.5941                  1.6106\n",
       "2  Shooter   7.0418     2.3020                  1.5172\n",
       "3   Racing   7.0361     2.3879                  1.5453\n",
       "4     Misc   6.8193     2.3883                  1.5454"
      ]
     },
     "execution_count": 126,
     "metadata": {},
     "output_type": "execute_result"
    }
   ],
   "source": [
    "user_score_for_genre =pd.DataFrame({'genre':['Action', 'Sports', 'Shooter', 'Racing', 'Misc'],\n",
    "        'Среднее': [7.0540, 6.9611, 7.0418, 7.0361, 6.8193],\n",
    "        'Дисперсия': [2.0306, 2.5941, 2.3020, 2.3879, 2.3883],\n",
    "        'Стандартное отклонение': [1.4250, 1.6106, 1.5172, 1.5453, 1.5454]})              \n",
    "user_score_for_genre"
   ]
  },
  {
   "cell_type": "code",
   "execution_count": 127,
   "metadata": {},
   "outputs": [],
   "source": [
    "# Cтатистические показатели для всех жанров в целом похожи. В среднем, пользователи оценивают игры примерно одинаково, выделяются игры жанра misc \n",
    "# с наименьшим пользовательским рейтингом. Игры жанра action имеют наименьшее стандартное отклонение, значит, оценки пользователей ближе к среднему \n",
    "# показателю, чем для других жанров. Максимальные дисперсия и стандартное отклонение у жанра sports, что свидетельствует о том, что оценки этих игр\n",
    "# наиболее неоднородны."
   ]
  },
  {
   "cell_type": "code",
   "execution_count": 128,
   "metadata": {},
   "outputs": [],
   "source": [
    "# Построим гистограммы, чтобы оценить, как изменяется пользовательский рейтинг в различных жанра."
   ]
  },
  {
   "cell_type": "code",
   "execution_count": 129,
   "metadata": {
    "id": "QEInWDX-L4Kz",
    "outputId": "bd283263-1883-44d9-fd00-9269ebd392e9",
    "scrolled": true
   },
   "outputs": [
    {
     "data": {
      "image/png": "[encoded data removed]",
      "text/plain": [
       "<Figure size 432x288 with 1 Axes>"
      ]
     },
     "metadata": {
      "needs_background": "light"
     },
     "output_type": "display_data"
    }
   ],
   "source": [
    "action_with_score = games[(games['genre']=='Action')]\n",
    "plt.hist(action_with_score['user_score'], bins=150)\n",
    "plt.title('Оценка пользователей игр жанра Action')\n",
    "plt.ylabel('Количество игр')\n",
    "plt.xlabel('Оценка пользователей')\n",
    "plt.show()\n"
   ]
  },
  {
   "cell_type": "code",
   "execution_count": 130,
   "metadata": {
    "id": "QcB2ak8VL4K0",
    "outputId": "27a03851-beaf-408a-dc91-f63f53d244ae"
   },
   "outputs": [
    {
     "name": "stdout",
     "output_type": "stream",
     "text": [
      "8.0    80\n",
      "7.8    71\n",
      "7.5    68\n",
      "7.6    66\n",
      "7.0    65\n",
      "       ..\n",
      "1.5     1\n",
      "0.3     1\n",
      "2.2     1\n",
      "1.2     1\n",
      "2.9     1\n",
      "Name: user_score, Length: 79, dtype: int64\n"
     ]
    }
   ],
   "source": [
    "#проверим, адекватно ли отобразились данные\n",
    "print(action_with_score['user_score'].value_counts()) "
   ]
  },
  {
   "cell_type": "code",
   "execution_count": 131,
   "metadata": {
    "id": "m5bGj-wJL4K0",
    "outputId": "cc56d26e-2aeb-4ab0-ad65-13b2fc220390"
   },
   "outputs": [
    {
     "data": {
      "image/png": "[encoded data removed]",
      "text/plain": [
       "<Figure size 432x288 with 1 Axes>"
      ]
     },
     "metadata": {
      "needs_background": "light"
     },
     "output_type": "display_data"
    }
   ],
   "source": [
    "sports_with_score = games[(games['genre']=='Sports')]\n",
    "plt.hist(sports_with_score['user_score'], bins=150)\n",
    "plt.title('Оценка пользователей игр жанра Sports')\n",
    "plt.ylabel('Количество игр')\n",
    "plt.xlabel('Оценка пользователей')\n",
    "plt.show()\n"
   ]
  },
  {
   "cell_type": "code",
   "execution_count": 132,
   "metadata": {
    "id": "91HXgu3xL4K0",
    "outputId": "ad15b513-6116-431d-dd24-ada8095672ce"
   },
   "outputs": [
    {
     "data": {
      "image/png": "[encoded data removed]",
      "text/plain": [
       "<Figure size 432x288 with 1 Axes>"
      ]
     },
     "metadata": {
      "needs_background": "light"
     },
     "output_type": "display_data"
    }
   ],
   "source": [
    "shooter_with_score = games[(games['genre']=='Shooter')]\n",
    "plt.hist(shooter_with_score['user_score'], bins=150)\n",
    "plt.title('Оценка пользователей игр жанра Shooter')\n",
    "plt.ylabel('Количество игр')\n",
    "plt.xlabel('Оценка пользователей')\n",
    "plt.show()"
   ]
  },
  {
   "cell_type": "code",
   "execution_count": 133,
   "metadata": {
    "id": "uwApm5QlL4K0",
    "outputId": "ee1f6ff2-e434-4c1e-b2fb-b59a2927fd6e"
   },
   "outputs": [
    {
     "data": {
      "image/png": "[encoded data removed]",
      "text/plain": [
       "<Figure size 432x288 with 1 Axes>"
      ]
     },
     "metadata": {
      "needs_background": "light"
     },
     "output_type": "display_data"
    }
   ],
   "source": [
    "racing_with_score = games[(games['genre']=='Racing')]\n",
    "plt.hist(racing_with_score['user_score'], bins=150)\n",
    "plt.title('Оценка пользователей игр жанра Racing')\n",
    "plt.ylabel('Количество игр')\n",
    "plt.xlabel('Оценка пользователей')\n",
    "plt.show()"
   ]
  },
  {
   "cell_type": "code",
   "execution_count": 134,
   "metadata": {
    "id": "A31JNzbqL4K0",
    "outputId": "37fbd3ad-93b6-4681-b5aa-526786243eb7"
   },
   "outputs": [
    {
     "data": {
      "image/png": "[encoded data removed]",
      "text/plain": [
       "<Figure size 432x288 with 1 Axes>"
      ]
     },
     "metadata": {
      "needs_background": "light"
     },
     "output_type": "display_data"
    }
   ],
   "source": [
    "misc_with_score = games[(games['genre']=='Misc')]\n",
    "plt.hist(misc_with_score['user_score'], bins=150)\n",
    "plt.title('Оценка пользователей игр жанра Misc')\n",
    "plt.ylabel('Количество игр')\n",
    "plt.xlabel('Оценка пользователей')\n",
    "plt.show()"
   ]
  },
  {
   "cell_type": "code",
   "execution_count": 135,
   "metadata": {},
   "outputs": [],
   "source": [
    "# Рассмотрим рейтинг критиков."
   ]
  },
  {
   "cell_type": "code",
   "execution_count": 136,
   "metadata": {
    "id": "wW3qG1lWL4K1",
    "outputId": "cde209c2-f807-4a9b-9894-a8836872a5ac"
   },
   "outputs": [
    {
     "name": "stdout",
     "output_type": "stream",
     "text": [
      "Среднее количество Action : 66.62910052910053\n",
      "Дисперсия Action : 201.72857114862404\n",
      "Стандартное отклонение Action : 14.203118360016015\n",
      "\n",
      "\n",
      "Среднее количество Sports : 71.96817420435511\n",
      "Дисперсия Sports : 192.44957338338818\n",
      "Стандартное отклонение Sports : 13.872619557365082\n",
      "\n",
      "\n",
      "Среднее количество Shooter : 70.18114406779661\n",
      "Дисперсия Shooter : 211.55299191144783\n",
      "Стандартное отклонение Shooter : 14.544861357587697\n",
      "\n",
      "\n",
      "Среднее количество Racing : 67.96361185983828\n",
      "Дисперсия Racing : 202.738568086544\n",
      "Стандартное отклонение Racing : 14.238629431463691\n",
      "\n",
      "\n",
      "Среднее количество Misc : 66.61950286806884\n",
      "Дисперсия Misc : 199.9144953551543\n",
      "Стандартное отклонение Misc : 14.139112254846635\n",
      "\n",
      "\n"
     ]
    }
   ],
   "source": [
    "for genre in top_5_genre:\n",
    "    print('Среднее количество',genre,':',  games[games['genre']==genre]['critic_score'].mean())\n",
    "    print('Дисперсия', genre,':', np.var(games[games['genre']==genre]['critic_score']))\n",
    "    print('Стандартное отклонение', genre,':', np.std(games[games['genre']==genre]['critic_score']))\n",
    "    print('\\n')"
   ]
  },
  {
   "cell_type": "code",
   "execution_count": 137,
   "metadata": {
    "id": "54LdFZNLL4K1",
    "outputId": "9851c8b8-04b2-4d40-eb9e-2e2ea4957477",
    "scrolled": true
   },
   "outputs": [
    {
     "data": {
      "text/html": [
       "<div>\n",
       "<style scoped>\n",
       "    .dataframe tbody tr th:only-of-type {\n",
       "        vertical-align: middle;\n",
       "    }\n",
       "\n",
       "    .dataframe tbody tr th {\n",
       "        vertical-align: top;\n",
       "    }\n",
       "\n",
       "    .dataframe thead th {\n",
       "        text-align: right;\n",
       "    }\n",
       "</style>\n",
       "<table border=\"1\" class=\"dataframe\">\n",
       "  <thead>\n",
       "    <tr style=\"text-align: right;\">\n",
       "      <th></th>\n",
       "      <th>genre</th>\n",
       "      <th>Среднее</th>\n",
       "      <th>Дисперсия</th>\n",
       "      <th>Стандартное отклонение</th>\n",
       "    </tr>\n",
       "  </thead>\n",
       "  <tbody>\n",
       "    <tr>\n",
       "      <th>0</th>\n",
       "      <td>Action</td>\n",
       "      <td>66.6291</td>\n",
       "      <td>201.72850</td>\n",
       "      <td>14.2031</td>\n",
       "    </tr>\n",
       "    <tr>\n",
       "      <th>1</th>\n",
       "      <td>Sports</td>\n",
       "      <td>71.9681</td>\n",
       "      <td>192.44950</td>\n",
       "      <td>13.8726</td>\n",
       "    </tr>\n",
       "    <tr>\n",
       "      <th>2</th>\n",
       "      <td>Shooter</td>\n",
       "      <td>70.1811</td>\n",
       "      <td>211.55290</td>\n",
       "      <td>14.5448</td>\n",
       "    </tr>\n",
       "    <tr>\n",
       "      <th>3</th>\n",
       "      <td>Racing</td>\n",
       "      <td>67.9636</td>\n",
       "      <td>202.73856</td>\n",
       "      <td>14.2386</td>\n",
       "    </tr>\n",
       "    <tr>\n",
       "      <th>4</th>\n",
       "      <td>Misc</td>\n",
       "      <td>66.6195</td>\n",
       "      <td>199.91440</td>\n",
       "      <td>14.1391</td>\n",
       "    </tr>\n",
       "  </tbody>\n",
       "</table>\n",
       "</div>"
      ],
      "text/plain": [
       "     genre  Среднее  Дисперсия  Стандартное отклонение\n",
       "0   Action  66.6291  201.72850                 14.2031\n",
       "1   Sports  71.9681  192.44950                 13.8726\n",
       "2  Shooter  70.1811  211.55290                 14.5448\n",
       "3   Racing  67.9636  202.73856                 14.2386\n",
       "4     Misc  66.6195  199.91440                 14.1391"
      ]
     },
     "execution_count": 137,
     "metadata": {},
     "output_type": "execute_result"
    }
   ],
   "source": [
    "critic_score_for_genre =pd.DataFrame({'genre':['Action', 'Sports', 'Shooter', 'Racing', 'Misc'],\n",
    "        'Среднее': [66.6291, 71.9681, 70.1811, 67.9636, 66.6195],\n",
    "        'Дисперсия': [201.7285, 192.4495, 211.5529,  202.73856, 199.9144],\n",
    "        'Стандартное отклонение': [14.2031, 13.8726, 14.5448, 14.2386, 14.1391]})              \n",
    "critic_score_for_genre\n"
   ]
  },
  {
   "cell_type": "code",
   "execution_count": 138,
   "metadata": {},
   "outputs": [],
   "source": [
    "# Построим гистограммы, чтобы оценить, как изменяется рейтинг критиков в различных жанра."
   ]
  },
  {
   "cell_type": "code",
   "execution_count": 139,
   "metadata": {
    "id": "P7PcEKWqL4K1",
    "outputId": "7715a252-5474-4320-ef27-ecbd458a7586"
   },
   "outputs": [
    {
     "data": {
      "image/png": "[encoded data removed]",
      "text/plain": [
       "<Figure size 432x288 with 1 Axes>"
      ]
     },
     "metadata": {
      "needs_background": "light"
     },
     "output_type": "display_data"
    }
   ],
   "source": [
    "plt.hist(action_with_score['critic_score'], bins=150)\n",
    "plt.title('Рейтинг критиков игр жанра Action')\n",
    "plt.ylabel('Количество игр')\n",
    "plt.xlabel('Оценка пользователей')\n",
    "plt.show()"
   ]
  },
  {
   "cell_type": "code",
   "execution_count": 140,
   "metadata": {
    "id": "FlDxA-45L4K1",
    "outputId": "19c9f7bd-708a-406f-e0c7-38487753dad7"
   },
   "outputs": [
    {
     "name": "stdout",
     "output_type": "stream",
     "text": [
      "71.0    61\n",
      "70.0    56\n",
      "73.0    56\n",
      "65.0    55\n",
      "68.0    53\n",
      "        ..\n",
      "24.0     1\n",
      "25.0     1\n",
      "20.0     1\n",
      "23.0     1\n",
      "31.0     1\n",
      "Name: critic_score, Length: 78, dtype: int64\n"
     ]
    }
   ],
   "source": [
    "# проверим, адекватно ли отобразились данные\n",
    "print(action_with_score['critic_score'].value_counts()) "
   ]
  },
  {
   "cell_type": "code",
   "execution_count": 141,
   "metadata": {
    "id": "gdzE7JQJL4K2",
    "outputId": "60f2cdf0-a966-43d7-8b1b-ff54aef050b2"
   },
   "outputs": [
    {
     "data": {
      "image/png": "[encoded data removed]",
      "text/plain": [
       "<Figure size 432x288 with 1 Axes>"
      ]
     },
     "metadata": {
      "needs_background": "light"
     },
     "output_type": "display_data"
    }
   ],
   "source": [
    "sports_with_score = games[(games['genre']=='Sports')]\n",
    "plt.hist(sports_with_score['critic_score'], bins=150)\n",
    "plt.title('Рейтинг критиков игр жанра Sports')\n",
    "plt.ylabel('Количество игр')\n",
    "plt.xlabel('Оценка пользователей')\n",
    "plt.show()"
   ]
  },
  {
   "cell_type": "code",
   "execution_count": 142,
   "metadata": {
    "id": "4d7nlzWXL4K2",
    "outputId": "63128d23-bb2e-4525-b1e7-8c46482aeb0d"
   },
   "outputs": [
    {
     "data": {
      "image/png": "[encoded data removed]",
      "text/plain": [
       "<Figure size 432x288 with 1 Axes>"
      ]
     },
     "metadata": {
      "needs_background": "light"
     },
     "output_type": "display_data"
    }
   ],
   "source": [
    "shooter_with_score = games[(games['genre']=='Shooter')]\n",
    "plt.hist(shooter_with_score['critic_score'], bins=150)\n",
    "plt.title('Рейтинг критиков игр жанра Shooter')\n",
    "plt.ylabel('Количество игр')\n",
    "plt.xlabel('Оценка пользователей')\n",
    "plt.show()"
   ]
  },
  {
   "cell_type": "code",
   "execution_count": 143,
   "metadata": {
    "id": "rnINfKa5L4K2",
    "outputId": "4f2c2fce-a17a-4aab-bba4-8425e810f436"
   },
   "outputs": [
    {
     "data": {
      "image/png": "[encoded data removed]",
      "text/plain": [
       "<Figure size 432x288 with 1 Axes>"
      ]
     },
     "metadata": {
      "needs_background": "light"
     },
     "output_type": "display_data"
    }
   ],
   "source": [
    "racing_with_score = games[(games['genre']=='Racing')]\n",
    "plt.hist(racing_with_score['critic_score'], bins=150)\n",
    "plt.title('Рейтинг критиков игр жанра Racing')\n",
    "plt.ylabel('Количество игр')\n",
    "plt.xlabel('Оценка пользователей')\n",
    "plt.show()"
   ]
  },
  {
   "cell_type": "code",
   "execution_count": 144,
   "metadata": {
    "id": "Yk--MN-kL4K3",
    "outputId": "f40437bb-ac35-43a6-b3bc-78fd27a448a4"
   },
   "outputs": [
    {
     "data": {
      "image/png": "[encoded data removed]",
      "text/plain": [
       "<Figure size 432x288 with 1 Axes>"
      ]
     },
     "metadata": {
      "needs_background": "light"
     },
     "output_type": "display_data"
    }
   ],
   "source": [
    "misc_with_score = games[(games['genre']=='Misc')]\n",
    "plt.hist(misc_with_score['critic_score'], bins=150)\n",
    "plt.title('Рейтинг критиков игр жанра Misc')\n",
    "plt.ylabel('Количество игр')\n",
    "plt.xlabel('Оценка пользователей')\n",
    "plt.show()"
   ]
  },
  {
   "cell_type": "code",
   "execution_count": 145,
   "metadata": {},
   "outputs": [],
   "source": [
    "# Cтатистические показатели оценки критиков отличаются больше. Наименьший рейтинг у жанров misc и action, выше всего критики оценивают sports.\n",
    "# Меньше всего стандартное отклонение и дисперсия у жанра spotrs, значит в оценке этого жанра критики наиболее единодушны. Для жанра shooter же характерен\n",
    "# максимальный разброс оценок."
   ]
  },
  {
   "cell_type": "code",
   "execution_count": 146,
   "metadata": {},
   "outputs": [],
   "source": [
    "# Проверим гипотезы\n",
    "# Дано утверждение - средние пользовательские рейтинги платформ Xbox One и PC одинаковые. Если это утверждение берется за нулевую гипотезу, \n",
    "# то противоположная ей ситуация - рейтинги разные, соответственно формулируем гипотезы: \n",
    "#Но: средние пользовательские рейтинги платформ Xbox One и PC одинаковые. \n",
    "# Н1: средние пользовательские рейтинги платформ Xbox One и PC разные."
   ]
  },
  {
   "cell_type": "code",
   "execution_count": 147,
   "metadata": {},
   "outputs": [],
   "source": [
    "# Посчитаем средний пользовательский рейтинг для платформ X360."
   ]
  },
  {
   "cell_type": "code",
   "execution_count": 148,
   "metadata": {
    "id": "WBcS6H6wL4K4",
    "outputId": "c6ac840f-c210-420e-ecc5-8cb0ab1f16b7"
   },
   "outputs": [
    {
     "name": "stdout",
     "output_type": "stream",
     "text": [
      "Cредний пользовательский рейтинг для платформ X360 6.683540372670808\n"
     ]
    }
   ],
   "source": [
    "xbox = games[(games['platform']=='X360')]['user_score'].dropna()\n",
    "print('Cредний пользовательский рейтинг для платформ X360', xbox.mean())"
   ]
  },
  {
   "cell_type": "code",
   "execution_count": 149,
   "metadata": {},
   "outputs": [],
   "source": [
    "# Посчитаем средний пользовательский рейтинг для платформ PC."
   ]
  },
  {
   "cell_type": "code",
   "execution_count": 150,
   "metadata": {
    "id": "YR1f5o0xL4K4",
    "outputId": "eb01365a-4fbd-4d60-a7fb-b128492e06a5",
    "scrolled": true
   },
   "outputs": [
    {
     "name": "stdout",
     "output_type": "stream",
     "text": [
      "Cредний пользовательский рейтинг для платформ PC 7.062467532467533\n"
     ]
    }
   ],
   "source": [
    "pc = games[(games['platform']== 'PC')]['user_score'].dropna()\n",
    "print('Cредний пользовательский рейтинг для платформ PC', pc.mean())"
   ]
  },
  {
   "cell_type": "code",
   "execution_count": 151,
   "metadata": {
    "id": "A4-M_wypL4K4",
    "outputId": "e986d225-4bc8-4962-d46a-a2df9c105ff9"
   },
   "outputs": [
    {
     "name": "stdout",
     "output_type": "stream",
     "text": [
      "Дисперсия пользовательского рейтинга для платформ X360 2.077438644482348\n"
     ]
    }
   ],
   "source": [
    "variance_estimate_xbox = np.var(xbox, ddof=1)\n",
    "print('Дисперсия пользовательского рейтинга для платформ X360', variance_estimate_xbox)"
   ]
  },
  {
   "cell_type": "code",
   "execution_count": 152,
   "metadata": {
    "id": "UfdFcg0eL4K4",
    "outputId": "602481a5-5058-48b8-de1b-37747115fd55"
   },
   "outputs": [
    {
     "name": "stdout",
     "output_type": "stream",
     "text": [
      "Дисперсия пользовательского рейтинга для платформ PC 2.3407871413372066\n"
     ]
    }
   ],
   "source": [
    "variance_estimate_pc = np.var(pc, ddof=1)\n",
    "print('Дисперсия пользовательского рейтинга для платформ PC', variance_estimate_pc)"
   ]
  },
  {
   "cell_type": "code",
   "execution_count": 153,
   "metadata": {},
   "outputs": [],
   "source": [
    "# Чтобы проверить гипотезу о равенстве среднего двух совокупностей по взятым из них выборкам, применим метод scipy.stats.ttest_ind. Дисперсии \n",
    "# совокупностей не равны, поэтому параметр equal_var указываем equal_var=False. Критический уровень статистической значимости примем за 0,01, \n",
    "# так как наша выборка достаточно объемна и следует понизить уровень значимости."
   ]
  },
  {
   "cell_type": "code",
   "execution_count": 154,
   "metadata": {
    "id": "NHQ0MCTaL4K5",
    "outputId": "4ce0dea5-82b6-430a-b60b-a05b753b1496"
   },
   "outputs": [
    {
     "name": "stdout",
     "output_type": "stream",
     "text": [
      "p-значение:  1.6386403689482862e-07\n",
      "Отвергаем нулевую гипотезу\n"
     ]
    }
   ],
   "source": [
    "alpha = .01 \n",
    "results = st.ttest_ind(xbox, pc, equal_var=False)\n",
    "print('p-значение: ', results.pvalue)\n",
    "if (results.pvalue  < alpha):\n",
    "    print(\"Отвергаем нулевую гипотезу\")\n",
    "else:\n",
    "    print(\"Не получилось отвергнуть нулевую гипотезу\") "
   ]
  },
  {
   "cell_type": "code",
   "execution_count": 155,
   "metadata": {},
   "outputs": [],
   "source": [
    "# Полученное значение p-value говорит о том, что средние пользовательские рейтинги для разных платформ и неодинаковы и это различие нельзя считать \n",
    "# случайным с вероятность 0,1 %."
   ]
  },
  {
   "cell_type": "code",
   "execution_count": 156,
   "metadata": {},
   "outputs": [],
   "source": [
    "# Дано утверждение - средние пользовательские рейтинги жанров Action (англ. «действие») и Sports (англ. «виды спорта») разные. \n",
    "# Если это утверждение берется за нулевую гипотезу, то противоположная ей ситуация - рейтинги одинаковые, соответственно формулируем гипотезы: \n",
    "# Но: средние пользовательские рейтинги жанров Action и Sports разные. \n",
    "# Н1: средние пользовательские рейтинги жанров Action и Sports одинаковые."
   ]
  },
  {
   "cell_type": "code",
   "execution_count": 157,
   "metadata": {},
   "outputs": [],
   "source": [
    "# Посчитаем средний пользовательский рейтинг для жанра Action."
   ]
  },
  {
   "cell_type": "code",
   "execution_count": 158,
   "metadata": {
    "id": "olPG4EA8L4K5",
    "outputId": "0a571b19-2e33-46d7-ea4d-cb166d44c97f"
   },
   "outputs": [
    {
     "data": {
      "text/plain": [
       "7.054043715846995"
      ]
     },
     "execution_count": 158,
     "metadata": {},
     "output_type": "execute_result"
    }
   ],
   "source": [
    "genre_action = games[(games['genre']=='Action')]['user_score'].dropna()\n",
    "genre_action.mean()                                         "
   ]
  },
  {
   "cell_type": "code",
   "execution_count": 159,
   "metadata": {},
   "outputs": [],
   "source": [
    "# Посчитаем средний пользовательский рейтинг для жанра Sports."
   ]
  },
  {
   "cell_type": "code",
   "execution_count": 160,
   "metadata": {
    "id": "PUzGAHjGL4K6",
    "outputId": "d10f788f-f7fd-4010-e53f-fc4854265f58"
   },
   "outputs": [
    {
     "data": {
      "text/plain": [
       "6.961196736174069"
      ]
     },
     "execution_count": 160,
     "metadata": {},
     "output_type": "execute_result"
    }
   ],
   "source": [
    "genre_sports = games[(games['genre']=='Sports')]['user_score'].dropna()\n",
    "genre_sports.mean() "
   ]
  },
  {
   "cell_type": "code",
   "execution_count": 161,
   "metadata": {
    "id": "vvaqv5O4L4K6",
    "outputId": "5668dfaf-ac2e-437c-ddb9-aaebc24403d6"
   },
   "outputs": [
    {
     "name": "stdout",
     "output_type": "stream",
     "text": [
      "Дисперсия пользовательского рейтинга для жанра Action 2.031746898033205\n"
     ]
    }
   ],
   "source": [
    "variance_estimate_action = np.var(genre_action, ddof=1)\n",
    "print('Дисперсия пользовательского рейтинга для жанра Action', variance_estimate_action)"
   ]
  },
  {
   "cell_type": "code",
   "execution_count": 162,
   "metadata": {
    "id": "I4G-6BrnL4K6",
    "outputId": "2a1548b2-6a8a-477f-dbab-e4313cbbbc97"
   },
   "outputs": [
    {
     "name": "stdout",
     "output_type": "stream",
     "text": [
      "Дисперсия пользовательского рейтинга для жанра Sports 2.5965147189730033\n"
     ]
    }
   ],
   "source": [
    "variance_estimate_sports = np.var(genre_sports, ddof=1)\n",
    "print('Дисперсия пользовательского рейтинга для жанра Sports', variance_estimate_sports)"
   ]
  },
  {
   "cell_type": "code",
   "execution_count": 163,
   "metadata": {
    "id": "23nM6QLGL4K6",
    "outputId": "e2f0fb7b-19e5-4c8a-f6c4-7e588cc9aa6f"
   },
   "outputs": [
    {
     "name": "stdout",
     "output_type": "stream",
     "text": [
      "p-значение:  0.11483818791498286\n",
      "Не получилось отвергнуть нулевую гипотезу\n"
     ]
    }
   ],
   "source": [
    "alpha = .01 \n",
    "results = st.ttest_ind(genre_action, genre_sports, equal_var=False)\n",
    "print('p-значение: ', results.pvalue)\n",
    "if (results.pvalue  < alpha):\n",
    "    print(\"Отвергаем нулевую гипотезу\")\n",
    "else:\n",
    "    print(\"Не получилось отвергнуть нулевую гипотезу\") "
   ]
  },
  {
   "cell_type": "code",
   "execution_count": 164,
   "metadata": {},
   "outputs": [],
   "source": [
    "# Полученное значение p-value говорит о том, что, хотя средние пользовательские рейтинги похожи, с вероятностью около 10% такое сходство случайно,\n",
    "# и следует принимать, что пользователи по разному оценивают жанры action и sports."
   ]
  },
  {
   "cell_type": "code",
   "execution_count": 165,
   "metadata": {},
   "outputs": [],
   "source": [
    "# Общий вывод\n",
    "# Массовое развитие игр началось примерно с 1994, а пик продаж пришелся на 2008-2009 год. Затем, из-за развития технологий и популярности мобильных игр \n",
    "# и приложений, уровень продаж начал снижаться.\n",
    "#\n",
    "# Самые популярные платформы - игровые приставки линейки PlayStation компании Sony( PlayStation, PlayStation 2 и PlayStation 3). Следующие по популярности -\n",
    "# консоли от Nintendo DS и Wii, а также игровая приставка компании Microsoft Xbox 360.\n",
    "\n",
    "# Для всех платформ наблюдается примерно одинаковая картина развития - время существования определенной модели 10-12 лет, на пике популярности \n",
    "# держится около 4 лет. Из популярных раньше платформ до 2016 продержались Wii, X360 и PS3.\n",
    "\n",
    "# Самыми популярными в 2016 году стали игры для PS4 и XOne. Поэтому при составлении плана на следующий год следует ориентироваться на эти приставки. \n",
    "# Однако, работая на перспективу, возможно, следует поменять политику и частично перейти на игры для компьютеров и мобильных устройств.\n",
    "\n",
    "# Отзывы пользователей очень незначительно влияют на решение других пользователей о покупке. Отзывы критиков у покупателей вызывают больше доверия \n",
    "# и значительнее влияют на решение совершить покупку. Поэтому, выбирая игры для последующих закупок магазина, следует опираться на сформулированные \n",
    "# критиками списки топ-игр.\n",
    "\n",
    "# Выше всего критики оценивают sports, причем рейтинг критиков достаточно однороден.\n",
    "# Самый продаваемый жанр - action, затем идут sport и shooter. Racing, misc, platform имеют примерно одинаковую популярность. Самые низкие продажи у игр \n",
    "# жанра strategy.\n",
    "\n",
    "# Для региона Северной Америки и Европы наблюдается примерно одинаковая картина - самые популярные игры для таких платформ, как X360, PS2, Wii, PS3. \n",
    "# Самые популярные жанры - action, sports, shooter. Лучше всего продавались игры с рейтингом Е (Everyone, для всех), а также с рейтингом T \n",
    "# (Teen, Подросткам 13—19) и M(Mature, от 17 лет). Для Японии предпочтения пользователей отличаются от предпочтений в Америке и Европе. \n",
    "# Самые популярные игровые платформы - DS, PS, PS2, SNES, 3DS. Также среди популярных жанров, помимо action и sports, выделяется role-playing. \n",
    "# Соответственно, формировать политику компании можно в двух направлениях - объединенный сегмент Северной Америки и Европы и отдельно подбирать игры\n",
    "# для азиатского сегмента с учетом региональных особенностей.\n",
    "\n",
    "# В целом, влияние рейтинга на продажи в разных регионах примерно одинаковое. Можно предположить, что средний пользователь игр в Японии младше, \n",
    "# чем пользователь в Европе или Северной Америке.\n",
    "\n",
    "# Пользователи по разному оценивают платформы Xbox One и PC, причем рейтинг у PC выше, что подтверждает уместность ориентироваться на игры для компьютеров.\n",
    "# Также пользователи по разному оценивают жанры action и sports, жанр action пользуется большей популярностью.\n",
    "\n",
    "# Таким образом, основное направление развития магазина - особое внимание играм жанра action и sports для приставки PS4, которые отмечают профессиональные\n",
    "# критики, а также играм с рейтингами от 13 лет и старше."
   ]
  }
 ],
 "metadata": {
  "colab": {
   "collapsed_sections": [],
   "name": "Копия блокнота \"Game Market Research.ipynb\"",
   "provenance": []
  },
  "kernelspec": {
   "display_name": "Python 3",
   "language": "python",
   "name": "python3"
  },
  "language_info": {
   "codemirror_mode": {
    "name": "ipython",
    "version": 3
   },
   "file_extension": ".py",
   "mimetype": "text/x-python",
   "name": "python",
   "nbconvert_exporter": "python",
   "pygments_lexer": "ipython3",
   "version": "3.7.3"
  },
  "toc": {
   "base_numbering": 1,
   "nav_menu": {
    "height": "303px",
    "width": "299.767px"
   },
   "number_sections": true,
   "sideBar": true,
   "skip_h1_title": true,
   "title_cell": "Table of Contents",
   "title_sidebar": "Contents",
   "toc_cell": false,
   "toc_position": {},
   "toc_section_display": true,
   "toc_window_display": false
  }
 },
 "nbformat": 4,
 "nbformat_minor": 4
}
