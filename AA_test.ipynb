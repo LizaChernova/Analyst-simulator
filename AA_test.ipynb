{
 "cells": [
  {
   "cell_type": "code",
   "execution_count": 1,
   "id": "c75a805b-1aa6-4b4b-b1cf-164869c369ec",
   "metadata": {},
   "outputs": [],
   "source": [
    "# Наш продукт - лента новостей. Планируется внедрить новые алгоритмы рекомендации постов. Чтобы выбрать, какой из алгоритмов будет основным, \n",
    "# проведем AB-тест. Для начала проверим, что система сплитования работает корректно.  У нас есть данные АА-теста с '2022-01-07' по '2022-01-13'.Cделаем симуляцию, как будто мы провели 10000 АА тестов. \n",
    "# На каждой итерации сформируем подвыборки с повторением в 500 юзеров из 2 и 3 экспериментальной группы. \n",
    "# Проведем сравнение этих подвыборок t-testом. "
   ]
  },
  {
   "cell_type": "code",
   "execution_count": 2,
   "id": "2964646d-175f-4d99-87a2-2887d9107b54",
   "metadata": {},
   "outputs": [],
   "source": [
    "import seaborn as sns\n",
    "import pandahouse \n",
    "import pandas as pd\n",
    "import matplotlib.pyplot as plt\n",
    "import numpy as np\n",
    "from statsmodels.stats.power import TTestIndPower\n",
    "import hashlib\n",
    "from scipy import stats\n",
    "%matplotlib inline\n",
    "from read_db.CH import Getch"
   ]
  },
  {
   "cell_type": "code",
   "execution_count": 3,
   "id": "4ec4ab44-828d-41ab-aabe-7945f1e1f8ab",
   "metadata": {},
   "outputs": [],
   "source": [
    "df = Getch(\"\"\"Select user_id,\n",
    "exp_group,\n",
    "countIf(action='like') likes,\n",
    "countIf(action='view') views,\n",
    "likes/ views ctr\n",
    "From simulator_20220120.feed_actions\n",
    "where toDate(time)>='2022-01-07' and toDate(time) <='2022-01-13' and\n",
    "exp_group in (2, 3)\n",
    "group by user_id, exp_group\n",
    "\"\"\").df \n"
   ]
  },
  {
   "cell_type": "code",
   "execution_count": 4,
   "id": "734069ab-a852-411f-8205-9eb48f2ed23f",
   "metadata": {},
   "outputs": [
    {
     "data": {
      "text/html": [
       "<div>\n",
       "<style scoped>\n",
       "    .dataframe tbody tr th:only-of-type {\n",
       "        vertical-align: middle;\n",
       "    }\n",
       "\n",
       "    .dataframe tbody tr th {\n",
       "        vertical-align: top;\n",
       "    }\n",
       "\n",
       "    .dataframe thead th {\n",
       "        text-align: right;\n",
       "    }\n",
       "</style>\n",
       "<table border=\"1\" class=\"dataframe\">\n",
       "  <thead>\n",
       "    <tr style=\"text-align: right;\">\n",
       "      <th></th>\n",
       "      <th>user_id</th>\n",
       "      <th>exp_group</th>\n",
       "      <th>likes</th>\n",
       "      <th>views</th>\n",
       "      <th>ctr</th>\n",
       "    </tr>\n",
       "  </thead>\n",
       "  <tbody>\n",
       "    <tr>\n",
       "      <th>0</th>\n",
       "      <td>115383</td>\n",
       "      <td>3</td>\n",
       "      <td>11</td>\n",
       "      <td>36</td>\n",
       "      <td>0.305556</td>\n",
       "    </tr>\n",
       "    <tr>\n",
       "      <th>1</th>\n",
       "      <td>123580</td>\n",
       "      <td>3</td>\n",
       "      <td>15</td>\n",
       "      <td>92</td>\n",
       "      <td>0.163043</td>\n",
       "    </tr>\n",
       "    <tr>\n",
       "      <th>2</th>\n",
       "      <td>131473</td>\n",
       "      <td>2</td>\n",
       "      <td>26</td>\n",
       "      <td>148</td>\n",
       "      <td>0.175676</td>\n",
       "    </tr>\n",
       "    <tr>\n",
       "      <th>3</th>\n",
       "      <td>23985</td>\n",
       "      <td>2</td>\n",
       "      <td>12</td>\n",
       "      <td>66</td>\n",
       "      <td>0.181818</td>\n",
       "    </tr>\n",
       "    <tr>\n",
       "      <th>4</th>\n",
       "      <td>24523</td>\n",
       "      <td>2</td>\n",
       "      <td>17</td>\n",
       "      <td>120</td>\n",
       "      <td>0.141667</td>\n",
       "    </tr>\n",
       "    <tr>\n",
       "      <th>...</th>\n",
       "      <td>...</td>\n",
       "      <td>...</td>\n",
       "      <td>...</td>\n",
       "      <td>...</td>\n",
       "      <td>...</td>\n",
       "    </tr>\n",
       "    <tr>\n",
       "      <th>17044</th>\n",
       "      <td>122008</td>\n",
       "      <td>3</td>\n",
       "      <td>4</td>\n",
       "      <td>31</td>\n",
       "      <td>0.129032</td>\n",
       "    </tr>\n",
       "    <tr>\n",
       "      <th>17045</th>\n",
       "      <td>25383</td>\n",
       "      <td>2</td>\n",
       "      <td>16</td>\n",
       "      <td>57</td>\n",
       "      <td>0.280702</td>\n",
       "    </tr>\n",
       "    <tr>\n",
       "      <th>17046</th>\n",
       "      <td>122190</td>\n",
       "      <td>3</td>\n",
       "      <td>25</td>\n",
       "      <td>74</td>\n",
       "      <td>0.337838</td>\n",
       "    </tr>\n",
       "    <tr>\n",
       "      <th>17047</th>\n",
       "      <td>108927</td>\n",
       "      <td>2</td>\n",
       "      <td>8</td>\n",
       "      <td>33</td>\n",
       "      <td>0.242424</td>\n",
       "    </tr>\n",
       "    <tr>\n",
       "      <th>17048</th>\n",
       "      <td>17310</td>\n",
       "      <td>2</td>\n",
       "      <td>2</td>\n",
       "      <td>14</td>\n",
       "      <td>0.142857</td>\n",
       "    </tr>\n",
       "  </tbody>\n",
       "</table>\n",
       "<p>17049 rows × 5 columns</p>\n",
       "</div>"
      ],
      "text/plain": [
       "       user_id  exp_group  likes  views       ctr\n",
       "0       115383          3     11     36  0.305556\n",
       "1       123580          3     15     92  0.163043\n",
       "2       131473          2     26    148  0.175676\n",
       "3        23985          2     12     66  0.181818\n",
       "4        24523          2     17    120  0.141667\n",
       "...        ...        ...    ...    ...       ...\n",
       "17044   122008          3      4     31  0.129032\n",
       "17045    25383          2     16     57  0.280702\n",
       "17046   122190          3     25     74  0.337838\n",
       "17047   108927          2      8     33  0.242424\n",
       "17048    17310          2      2     14  0.142857\n",
       "\n",
       "[17049 rows x 5 columns]"
      ]
     },
     "execution_count": 4,
     "metadata": {},
     "output_type": "execute_result"
    }
   ],
   "source": [
    "df"
   ]
  },
  {
   "cell_type": "code",
   "execution_count": 5,
   "id": "ffc286f1-3bde-46ca-b4d3-5b1affa114e4",
   "metadata": {},
   "outputs": [
    {
     "data": {
      "text/plain": [
       "<seaborn.axisgrid.FacetGrid at 0x7f926439c310>"
      ]
     },
     "execution_count": 5,
     "metadata": {},
     "output_type": "execute_result"
    },
    {
     "data": {
      "image/png": "[encoded data removed]",
      "text/plain": [
       "<Figure size 360x360 with 1 Axes>"
      ]
     },
     "metadata": {
      "needs_background": "light"
     },
     "output_type": "display_data"
    }
   ],
   "source": [
    "sns.displot(df[df.exp_group ==2].ctr, kde=False)"
   ]
  },
  {
   "cell_type": "code",
   "execution_count": 6,
   "id": "0fe7ebe3-ef56-46f1-8fd0-a21e2c507ab4",
   "metadata": {},
   "outputs": [
    {
     "data": {
      "text/plain": [
       "<seaborn.axisgrid.FacetGrid at 0x7f920fa98c10>"
      ]
     },
     "execution_count": 6,
     "metadata": {},
     "output_type": "execute_result"
    },
    {
     "data": {
      "image/png": "[encoded data removed]",
      "text/plain": [
       "<Figure size 360x360 with 1 Axes>"
      ]
     },
     "metadata": {
      "needs_background": "light"
     },
     "output_type": "display_data"
    }
   ],
   "source": [
    "sns.displot(df[df.exp_group ==3].ctr, kde=False)"
   ]
  },
  {
   "cell_type": "code",
   "execution_count": 7,
   "id": "bad7b687-c30d-45e6-8bdf-a33b12e88f22",
   "metadata": {},
   "outputs": [],
   "source": [
    "aa_test = []\n",
    "for i in range(10000):\n",
    "    aa_test.append(stats.ttest_ind(df[df.exp_group == 2].sample(n=500, replace=True).ctr, df[df.exp_group == 3].sample(n=500, replace=True).ctr,\n",
    "                equal_var=False)[1])"
   ]
  },
  {
   "cell_type": "code",
   "execution_count": 8,
   "id": "8bac71b4-a637-4d92-809a-9153149e832b",
   "metadata": {},
   "outputs": [
    {
     "data": {
      "image/png": "[encoded data removed]",
      "text/plain": [
       "<Figure size 432x288 with 1 Axes>"
      ]
     },
     "metadata": {
      "needs_background": "light"
     },
     "output_type": "display_data"
    }
   ],
   "source": [
    "plt.hist(aa_test, bins=100)\n",
    "plt.show()"
   ]
  },
  {
   "cell_type": "code",
   "execution_count": 9,
   "id": "7979f46a-e673-443f-ad7e-883c76f75cb7",
   "metadata": {},
   "outputs": [],
   "source": [
    "count_less = 0\n",
    "\n",
    "for item in aa_test:\n",
    "    if item <= 0.05:\n",
    "        count_less += 1\n",
    "result_less = count_less/10000*100     "
   ]
  },
  {
   "cell_type": "code",
   "execution_count": 10,
   "id": "be0ab1c2-516c-4ed2-a299-7991d922ff29",
   "metadata": {},
   "outputs": [
    {
     "data": {
      "text/plain": [
       "5.29"
      ]
     },
     "execution_count": 10,
     "metadata": {},
     "output_type": "execute_result"
    }
   ],
   "source": [
    "result_less "
   ]
  },
  {
   "cell_type": "code",
   "execution_count": 11,
   "id": "7a46edba-bf13-434f-a002-df50176e0deb",
   "metadata": {},
   "outputs": [],
   "source": [
    "# В 5 % случаев мы получаем p-value меньше или равное 0.05, то есть только  примерно в 500 из 10000 итераций мы получим статистически значимые различия между группами. \n",
    "# Можно сказать, что система сплитирования работает нормально (небольшое превышение 5% порога ложноположительных результатов - следствие симуляции)"
   ]
  },
  {
   "cell_type": "code",
   "execution_count": null,
   "id": "15181ee9-7a44-49ce-af5c-29e002253888",
   "metadata": {},
   "outputs": [],
   "source": []
  },
  {
   "cell_type": "code",
   "execution_count": null,
   "id": "a0b16dce-bfa9-4a9f-a8b7-8c112f34e59e",
   "metadata": {},
   "outputs": [],
   "source": []
  },
  {
   "cell_type": "code",
   "execution_count": null,
   "id": "41bf0751-f235-4d0d-a2ae-1d1a961d5182",
   "metadata": {},
   "outputs": [],
   "source": []
  },
  {
   "cell_type": "code",
   "execution_count": null,
   "id": "041df1e2-6773-443f-a517-e4a0d1d3682d",
   "metadata": {},
   "outputs": [],
   "source": []
  },
  {
   "cell_type": "code",
   "execution_count": null,
   "id": "9429cbf5-92d8-4e73-8373-59e59cb55a33",
   "metadata": {},
   "outputs": [],
   "source": []
  },
  {
   "cell_type": "code",
   "execution_count": null,
   "id": "e76f1970-79a6-4e64-b8a8-45fa24286baa",
   "metadata": {},
   "outputs": [],
   "source": [
    "     "
   ]
  },
  {
   "cell_type": "code",
   "execution_count": null,
   "id": "954a5880-eccf-4f6c-b557-f51b372177c5",
   "metadata": {},
   "outputs": [],
   "source": []
  },
  {
   "cell_type": "code",
   "execution_count": null,
   "id": "f3026449-5942-46d5-8e42-91eddd27c34a",
   "metadata": {},
   "outputs": [],
   "source": []
  }
 ],
 "metadata": {
  "kernelspec": {
   "display_name": "Python 3 (ipykernel)",
   "language": "python",
   "name": "python3"
  },
  "language_info": {
   "codemirror_mode": {
    "name": "ipython",
    "version": 3
   },
   "file_extension": ".py",
   "mimetype": "text/x-python",
   "name": "python",
   "nbconvert_exporter": "python",
   "pygments_lexer": "ipython3",
   "version": "3.8.10"
  }
 },
 "nbformat": 4,
 "nbformat_minor": 5
}
